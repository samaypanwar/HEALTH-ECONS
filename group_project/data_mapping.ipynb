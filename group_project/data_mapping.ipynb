{
 "cells": [
  {
   "cell_type": "code",
   "execution_count": 8,
   "metadata": {
    "collapsed": true,
    "pycharm": {
     "name": "#%%\n"
    }
   },
   "outputs": [
    {
     "name": "stdout",
     "output_type": "stream",
     "text": [
      "The autoreload extension is already loaded. To reload it, use:\n",
      "  %reload_ext autoreload\n",
      "/Users/samaypanwar/storage/University/Y4S2/HEALTH ECONS/group_project\n"
     ]
    }
   ],
   "source": [
    "%load_ext autoreload\n",
    "%autoreload 2\n",
    "\n",
    "import os\n",
    "import pandas as pd\n",
    "import numpy as np\n",
    "\n",
    "path_parent = os.path.dirname(os.getcwd())\n",
    "\n",
    "# if os.getcwd()[-8:] != 'HEALTH-ECONS':\n",
    "#     os.chdir(path_parent)\n",
    "\n",
    "print(os.getcwd())\n",
    "\n",
    "import matplotlib.pyplot as plt\n",
    "\n",
    "plt.style.use('seaborn-v0_8')\n",
    "plt.rcParams.update({'font.family': 'Times New Roman'})\n",
    "plt.rcParams.update({'axes.grid': True, 'axes.linewidth': 0.5, 'axes.edgecolor': 'black'})\n",
    "\n"
   ]
  },
  {
   "cell_type": "code",
   "execution_count": 9,
   "outputs": [
    {
     "data": {
      "text/plain": "['State Code',\n 'FIPS County Code',\n 'County Name',\n 'Metal Level',\n 'Issuer Name',\n 'HIOS Issuer ID',\n 'Plan ID (Standard Component)',\n 'Plan Marketing Name',\n 'Plan Type',\n 'Rating Area',\n 'Child Only Offering',\n 'Source',\n 'Customer Service Phone Number Local',\n 'Customer Service Phone Number Toll Free',\n 'Customer Service Phone Number TTY',\n 'Network URL',\n 'Plan Brochure URL',\n 'Summary of Benefits URL',\n 'Drug Formulary URL',\n 'Adult Dental ',\n 'Child Dental ',\n 'EHB Percent of Total Premium',\n 'Premium Scenarios',\n 'Premium Child Age 0-14',\n 'Premium Child Age 18',\n 'Premium Adult Individual Age 21',\n 'Premium Adult Individual Age 27',\n 'Premium Adult Individual Age 30 ',\n 'Premium Adult Individual Age 40 ',\n 'Premium Adult Individual Age 50 ',\n 'Premium Adult Individual Age 60 ',\n 'Premium Couple 21  ',\n 'Premium Couple 30 ',\n 'Premium Couple 40 ',\n 'Premium Couple 50 ',\n 'Premium Couple 60 ',\n 'Couple+1 child, Age 21',\n 'Couple+1 child, Age 30 ',\n 'Couple+1 child, Age 40 ',\n 'Couple+1 child, Age 50 ',\n 'Couple+2 children, Age 21',\n 'Couple+2 children, Age 30 ',\n 'Couple+2 children, Age 40 ',\n 'Couple+2 children, Age 50',\n 'Couple+3 or more Children, Age 21',\n 'Couple+3 or more Children, Age 30',\n 'Couple+3 or more Children, Age 40',\n 'Couple+3 or more Children, Age 50',\n 'Individual+1 child, Age 21',\n 'Individual+1 child, Age 30',\n 'Individual+1 child, Age 40',\n 'Individual+1 child, Age 50',\n 'Individual+2 children, Age 21',\n 'Individual+2 children, Age 30',\n 'Individual+2 children, Age 40',\n 'Individual+2 children, Age 50',\n 'Individual+3 or more children, Age 21',\n 'Individual+3 or more children, Age 30',\n 'Individual+3 or more children, Age 40',\n 'Individual+3 or more children, Age 50',\n 'Standard Plan Cost Sharing',\n 'Medical Deductible - Individual - Standard',\n 'Drug Deductible - Individual - Standard',\n 'Medical Deductible - Family - Standard',\n 'Drug Deductible - Family - Standard',\n 'Medical Deductible - Family (Per Person) - Standard',\n 'Drug Deductible - Family (Per Person) - Standard',\n 'Medical Maximum Out Of Pocket - Individual - Standard',\n 'Drug Maximum Out Of Pocket - Individual - Standard',\n 'Medical Maximum Out Of Pocket - Family - Standard',\n 'Drug Maximum Out Of Pocket - Family - Standard',\n 'Medical Maximum Out Of Pocket - Family (Per Person) - Standard',\n 'Drug Maximum Out Of Pocket - Family (Per Person) - Standard',\n 'Primary Care Physician - Standard',\n 'Specialist - Standard',\n 'Emergency Room - Standard',\n 'Inpatient Facility - Standard',\n 'Inpatient Physician - Standard',\n 'Generic Drugs - Standard',\n 'Preferred Brand Drugs - Standard',\n 'Non-preferred Brand Drugs - Standard',\n 'Specialty Drugs - Standard',\n '73 Percent Actuarial Value Silver Plan Cost Sharing',\n 'Medical Deductible - Individual - 73 Percent',\n 'Drug Deductible - Individual - 73 Percent',\n 'Medical Deductible - Family - 73 Percent',\n 'Drug Deductible - Family - 73 Percent',\n 'Medical Deductible - Family (Per Person) - 73 Percent',\n 'Drug Deductible - Family (Per Person) - 73 Percent',\n 'Medical Maximum Out Of Pocket - Individual - 73 Percent',\n 'Drug Maximum Out Of Pocket - Individual - 73 Percent',\n 'Medical Maximum Out Of Pocket - Family - 73 Percent',\n 'Drug Maximum Out Of Pocket - Family - 73 Percent',\n 'Medical Maximum Out Of Pocket - Family (Per Person) - 73 Percent',\n 'Drug Maximum Out Of Pocket - Family (Per Person) - 73 Percent',\n 'Primary Care Physician - 73 Percent',\n 'Specialist - 73 Percent',\n 'Emergency Room - 73 Percent',\n 'Inpatient Facility - 73 Percent',\n 'Inpatient Physician - 73 Percent',\n 'Generic Drugs - 73 Percent',\n 'Preferred Brand Drugs - 73 Percent',\n 'Non-preferred Brand Drugs - 73 Percent',\n 'Specialty Drugs - 73 Percent',\n '87 Percent Actuarial Value Silver Plan Cost Sharing',\n 'Medical Deductible - Individual - 87 Percent',\n 'Drug Deductible - Individual - 87 Percent',\n 'Medical Deductible - Family - 87 Percent',\n 'Drug Deductible - Family - 87 Percent',\n 'Medical Deductible - Family (Per Person) - 87 Percent',\n 'Drug Deductible - Family (Per Person) - 87 Percent',\n 'Medical Maximum Out Of Pocket - Individual - 87 Percent',\n 'Drug Maximum Out Of Pocket - Individual - 87 Percent',\n 'Medical Maximum Out Of Pocket - Family - 87 Percent',\n 'Drug Maximum Out Of Pocket - Family - 87 Percent',\n 'Medical Maximum Out Of Pocket - Family (Per Person) - 87 Percent',\n 'Drug Maximum Out Of Pocket - Family (Per Person) - 87 Percent',\n 'Primary Care Physician - 87 Percent',\n 'Specialist - 87 Percent',\n 'Emergency Room - 87 Percent',\n 'Inpatient Facility - 87 Percent',\n 'Inpatient Physician - 87 Percent',\n 'Generic Drugs - 87 Percent',\n 'Preferred Brand Drugs - 87 Percent',\n 'Non-preferred Brand Drugs - 87 Percent',\n 'Specialty Drugs - 87 Percent',\n '94 Percent Actuarial Value Silver Plan Cost Sharing',\n 'Medical Deductible - Individual - 94 Percent',\n 'Drug Deductible - Individual - 94 Percent',\n 'Medical Deductible - Family - 94 Percent',\n 'Drug Deductible - Family - 94 Percent',\n 'Medical Deductible - Family (Per Person) - 94 Percent',\n 'Drug Deductible - Family (Per Person) - 94 Percent',\n 'Medical Maximum Out Of Pocket -individual - 94 Percent',\n 'Drug Maximum Out Of Pocket - individual - 94 Percent',\n 'Medical Maximum Out Of Pocket - family - 94 Percent',\n 'Drug Maximum Out Of Pocket - Family  - 94 Percent',\n 'Medical Maximum Out Of Pocket - Family (Per Person) - 94 Percent',\n 'Drug Maximum Out Of Pocket - Family (Per Person) - 94 Percent',\n 'Primary Care Physician - 94 Percent',\n 'Specialist - 94 Percent',\n 'Emergency Room - 94 Percent',\n 'Inpatient Facility - 94 Percent',\n 'Inpatient Physician - 94 Percent',\n 'Generic Drugs - 94 Percent',\n 'Preferred Brand Drugs - 94 Percent',\n 'Non-preferred Brand Drugs - 94 Percent',\n 'Specialty Drugs - 94 Percent']"
     },
     "execution_count": 9,
     "metadata": {},
     "output_type": "execute_result"
    }
   ],
   "source": [
    "import polars as pl\n",
    "%timeit\n",
    "df = pl.read_csv(\"data/Individual_Market_Medical.csv\")\n",
    "df.columns"
   ],
   "metadata": {
    "collapsed": false,
    "pycharm": {
     "name": "#%%\n"
    }
   }
  },
  {
   "cell_type": "code",
   "execution_count": 10,
   "outputs": [
    {
     "name": "stdout",
     "output_type": "stream",
     "text": [
      "shape: (5, 8)\n",
      "┌──────────┬────────────┬───────────┬───────────┬───────────┬────────────┬────────────┬────────────┐\n",
      "│ State    ┆ FIPS       ┆ County    ┆ Metal     ┆ Issuer    ┆ Premium    ┆ Medical    ┆ Medical    │\n",
      "│ Code     ┆ County     ┆ Name      ┆ Level     ┆ Name      ┆ Adult      ┆ Deductible ┆ Maximum    │\n",
      "│ ---      ┆ Code       ┆ ---       ┆ ---       ┆ ---       ┆ Individual ┆ -          ┆ Out Of     │\n",
      "│ str      ┆ ---        ┆ str       ┆ str       ┆ str       ┆ Age 60     ┆ Individual ┆ Pocket -   │\n",
      "│          ┆ i64        ┆           ┆           ┆           ┆ ---        ┆ ...        ┆ ...        │\n",
      "│          ┆            ┆           ┆           ┆           ┆ str        ┆ ---        ┆ ---        │\n",
      "│          ┆            ┆           ┆           ┆           ┆            ┆ str        ┆ str        │\n",
      "╞══════════╪════════════╪═══════════╪═══════════╪═══════════╪════════════╪════════════╪════════════╡\n",
      "│ AK       ┆ 2013       ┆ Aleutians ┆ Gold      ┆ Premera   ┆ $1,334.58  ┆ $1,500     ┆ $6,300     │\n",
      "│          ┆            ┆ East      ┆           ┆ Blue      ┆            ┆            ┆            │\n",
      "│          ┆            ┆           ┆           ┆ Cross     ┆            ┆            ┆            │\n",
      "│          ┆            ┆           ┆           ┆ Blue      ┆            ┆            ┆            │\n",
      "│          ┆            ┆           ┆           ┆ Shield    ┆            ┆            ┆            │\n",
      "│          ┆            ┆           ┆           ┆ o...      ┆            ┆            ┆            │\n",
      "│ AK       ┆ 2013       ┆ Aleutians ┆ Silver    ┆ Premera   ┆ $1,536.19  ┆ $4,500     ┆ $7,700     │\n",
      "│          ┆            ┆ East      ┆           ┆ Blue      ┆            ┆            ┆            │\n",
      "│          ┆            ┆           ┆           ┆ Cross     ┆            ┆            ┆            │\n",
      "│          ┆            ┆           ┆           ┆ Blue      ┆            ┆            ┆            │\n",
      "│          ┆            ┆           ┆           ┆ Shield    ┆            ┆            ┆            │\n",
      "│          ┆            ┆           ┆           ┆ o...      ┆            ┆            ┆            │\n",
      "│ AK       ┆ 2013       ┆ Aleutians ┆ Expanded  ┆ Premera   ┆ $1,016.00  ┆ $6,350     ┆ $8,550     │\n",
      "│          ┆            ┆ East      ┆ Bronze    ┆ Blue      ┆            ┆            ┆            │\n",
      "│          ┆            ┆           ┆           ┆ Cross     ┆            ┆            ┆            │\n",
      "│          ┆            ┆           ┆           ┆ Blue      ┆            ┆            ┆            │\n",
      "│          ┆            ┆           ┆           ┆ Shield    ┆            ┆            ┆            │\n",
      "│          ┆            ┆           ┆           ┆ o...      ┆            ┆            ┆            │\n",
      "│ AK       ┆ 2013       ┆ Aleutians ┆ Silver    ┆ Premera   ┆ $1,559.35  ┆ $3,000     ┆ $7,000     │\n",
      "│          ┆            ┆ East      ┆           ┆ Blue      ┆            ┆            ┆            │\n",
      "│          ┆            ┆           ┆           ┆ Cross     ┆            ┆            ┆            │\n",
      "│          ┆            ┆           ┆           ┆ Blue      ┆            ┆            ┆            │\n",
      "│          ┆            ┆           ┆           ┆ Shield    ┆            ┆            ┆            │\n",
      "│          ┆            ┆           ┆           ┆ o...      ┆            ┆            ┆            │\n",
      "│ AK       ┆ 2013       ┆ Aleutians ┆ Expanded  ┆ Premera   ┆ $1,011.92  ┆ $5,800     ┆ $7,000     │\n",
      "│          ┆            ┆ East      ┆ Bronze    ┆ Blue      ┆            ┆            ┆            │\n",
      "│          ┆            ┆           ┆           ┆ Cross     ┆            ┆            ┆            │\n",
      "│          ┆            ┆           ┆           ┆ Blue      ┆            ┆            ┆            │\n",
      "│          ┆            ┆           ┆           ┆ Shield    ┆            ┆            ┆            │\n",
      "│          ┆            ┆           ┆           ┆ o...      ┆            ┆            ┆            │\n",
      "└──────────┴────────────┴───────────┴───────────┴───────────┴────────────┴────────────┴────────────┘\n"
     ]
    }
   ],
   "source": [
    "%timeit\n",
    "df = pl.read_csv(\"data/Individual_Market_Medical.csv\")\n",
    "\n",
    "columns_needed = [\n",
    "        'State Code','FIPS County Code', 'County Name', 'Metal Level', 'Issuer Name', 'Premium Adult Individual Age 60 ','Medical Deductible - Individual - Standard', 'Medical Maximum Out Of Pocket - Individual - Standard'\n",
    "        ]\n",
    "df = df.select(columns_needed)\n",
    "df = df.filter(pl.col(\"Issuer Name\").str.contains(r\"Blue\"))\n",
    "print(df.head())\n",
    "df.write_csv('data/2022.csv')"
   ],
   "metadata": {
    "collapsed": false,
    "pycharm": {
     "name": "#%%\n"
    }
   }
  },
  {
   "cell_type": "code",
   "execution_count": 11,
   "outputs": [
    {
     "name": "stdout",
     "output_type": "stream",
     "text": [
      "shape: (19238, 8)\n",
      "┌──────────┬────────────┬───────────┬───────────┬───────────┬────────────┬────────────┬────────────┐\n",
      "│ State    ┆ FIPS       ┆ County    ┆ Metal     ┆ Issuer    ┆ Premium    ┆ Medical    ┆ Medical    │\n",
      "│ Code     ┆ County     ┆ Name      ┆ Level     ┆ Name      ┆ Adult      ┆ Deductible ┆ Maximum    │\n",
      "│ ---      ┆ Code       ┆ ---       ┆ ---       ┆ ---       ┆ Individual ┆ -          ┆ Out Of     │\n",
      "│ str      ┆ ---        ┆ str       ┆ str       ┆ str       ┆ Age 60     ┆ Individual ┆ Pocket -   │\n",
      "│          ┆ i64        ┆           ┆           ┆           ┆ ---        ┆ ...        ┆ ...        │\n",
      "│          ┆            ┆           ┆           ┆           ┆ str        ┆ ---        ┆ ---        │\n",
      "│          ┆            ┆           ┆           ┆           ┆            ┆ str        ┆ str        │\n",
      "╞══════════╪════════════╪═══════════╪═══════════╪═══════════╪════════════╪════════════╪════════════╡\n",
      "│ AK       ┆ 2013       ┆ Aleutians ┆ Gold      ┆ Premera   ┆ $1,324.00  ┆ $1,500     ┆ $6,000     │\n",
      "│          ┆            ┆ East      ┆           ┆ Blue      ┆            ┆            ┆            │\n",
      "│          ┆            ┆           ┆           ┆ Cross     ┆            ┆            ┆            │\n",
      "│          ┆            ┆           ┆           ┆ Blue      ┆            ┆            ┆            │\n",
      "│          ┆            ┆           ┆           ┆ Shield    ┆            ┆            ┆            │\n",
      "│          ┆            ┆           ┆           ┆ o...      ┆            ┆            ┆            │\n",
      "│ AK       ┆ 2013       ┆ Aleutians ┆ Silver    ┆ Premera   ┆ $1,473.00  ┆ $4,500     ┆ $7,350     │\n",
      "│          ┆            ┆ East      ┆           ┆ Blue      ┆            ┆            ┆            │\n",
      "│          ┆            ┆           ┆           ┆ Cross     ┆            ┆            ┆            │\n",
      "│          ┆            ┆           ┆           ┆ Blue      ┆            ┆            ┆            │\n",
      "│          ┆            ┆           ┆           ┆ Shield    ┆            ┆            ┆            │\n",
      "│          ┆            ┆           ┆           ┆ o...      ┆            ┆            ┆            │\n",
      "│ AK       ┆ 2013       ┆ Aleutians ┆ Expanded  ┆ Premera   ┆ $983.00    ┆ $6,350     ┆ $8,400     │\n",
      "│          ┆            ┆ East      ┆ Bronze    ┆ Blue      ┆            ┆            ┆            │\n",
      "│          ┆            ┆           ┆           ┆ Cross     ┆            ┆            ┆            │\n",
      "│          ┆            ┆           ┆           ┆ Blue      ┆            ┆            ┆            │\n",
      "│          ┆            ┆           ┆           ┆ Shield    ┆            ┆            ┆            │\n",
      "│          ┆            ┆           ┆           ┆ o...      ┆            ┆            ┆            │\n",
      "│ AK       ┆ 2013       ┆ Aleutians ┆ Silver    ┆ Premera   ┆ $1,469.00  ┆ $3,000     ┆ $6,600     │\n",
      "│          ┆            ┆ East      ┆           ┆ Blue      ┆            ┆            ┆            │\n",
      "│          ┆            ┆           ┆           ┆ Cross     ┆            ┆            ┆            │\n",
      "│          ┆            ┆           ┆           ┆ Blue      ┆            ┆            ┆            │\n",
      "│          ┆            ┆           ┆           ┆ Shield    ┆            ┆            ┆            │\n",
      "│          ┆            ┆           ┆           ┆ o...      ┆            ┆            ┆            │\n",
      "│ ...      ┆ ...        ┆ ...       ┆ ...       ┆ ...       ┆ ...        ┆ ...        ┆ ...        │\n",
      "│ WY       ┆ 56045      ┆ Weston    ┆ Silver    ┆ Blue      ┆ $1,696.44  ┆ $6,000     ┆ $8,550     │\n",
      "│          ┆            ┆           ┆           ┆ Cross     ┆            ┆            ┆            │\n",
      "│          ┆            ┆           ┆           ┆ Blue      ┆            ┆            ┆            │\n",
      "│          ┆            ┆           ┆           ┆ Shield of ┆            ┆            ┆            │\n",
      "│          ┆            ┆           ┆           ┆ Wyomin... ┆            ┆            ┆            │\n",
      "│ WY       ┆ 56045      ┆ Weston    ┆ Gold      ┆ Blue      ┆ $1,411.89  ┆ $2,000     ┆ $8,550     │\n",
      "│          ┆            ┆           ┆           ┆ Cross     ┆            ┆            ┆            │\n",
      "│          ┆            ┆           ┆           ┆ Blue      ┆            ┆            ┆            │\n",
      "│          ┆            ┆           ┆           ┆ Shield of ┆            ┆            ┆            │\n",
      "│          ┆            ┆           ┆           ┆ Wyomin... ┆            ┆            ┆            │\n",
      "│ WY       ┆ 56045      ┆ Weston    ┆ Gold      ┆ Blue      ┆ $1,384.28  ┆ $1,500     ┆ $7,000     │\n",
      "│          ┆            ┆           ┆           ┆ Cross     ┆            ┆            ┆            │\n",
      "│          ┆            ┆           ┆           ┆ Blue      ┆            ┆            ┆            │\n",
      "│          ┆            ┆           ┆           ┆ Shield of ┆            ┆            ┆            │\n",
      "│          ┆            ┆           ┆           ┆ Wyomin... ┆            ┆            ┆            │\n",
      "│ WY       ┆ 56045      ┆ Weston    ┆ Bronze    ┆ Blue      ┆ $1,114.80  ┆ $8,550     ┆ $8,550     │\n",
      "│          ┆            ┆           ┆           ┆ Cross     ┆            ┆            ┆            │\n",
      "│          ┆            ┆           ┆           ┆ Blue      ┆            ┆            ┆            │\n",
      "│          ┆            ┆           ┆           ┆ Shield of ┆            ┆            ┆            │\n",
      "│          ┆            ┆           ┆           ┆ Wyomin... ┆            ┆            ┆            │\n",
      "└──────────┴────────────┴───────────┴───────────┴───────────┴────────────┴────────────┴────────────┘\n"
     ]
    }
   ],
   "source": [
    "%timeit\n",
    "df = pl.read_csv(\"data/Individual_Market_Medical_08_04_2021.csv\")\n",
    "\n",
    "columns_needed = [\n",
    "        'State Code','FIPS County Code', 'County Name', 'Metal Level', 'Issuer Name', 'Premium Adult Individual Age 60 ','Medical Deductible - Individual - Standard', 'Medical Maximum Out Of Pocket - Individual - Standard'\n",
    "        ]\n",
    "df = df.select(columns_needed)\n",
    "df = df.filter(pl.col(\"Issuer Name\").str.contains(r\"Blue\"))\n",
    "print(df)\n",
    "df.write_csv('data/2021.csv')"
   ],
   "metadata": {
    "collapsed": false,
    "pycharm": {
     "name": "#%%\n"
    }
   }
  },
  {
   "cell_type": "code",
   "execution_count": 12,
   "outputs": [
    {
     "name": "stdout",
     "output_type": "stream",
     "text": [
      "shape: (17100, 8)\n",
      "┌──────────┬────────────┬───────────┬───────────┬───────────┬────────────┬────────────┬────────────┐\n",
      "│ State    ┆ FIPS       ┆ County    ┆ Metal     ┆ Issuer    ┆ Premium    ┆ Medical    ┆ Medical    │\n",
      "│ Code     ┆ County     ┆ Name      ┆ Level     ┆ Name      ┆ Adult      ┆ Deductible ┆ Maximum    │\n",
      "│ ---      ┆ Code       ┆ ---       ┆ ---       ┆ ---       ┆ Individual ┆ -          ┆ Out Of     │\n",
      "│ str      ┆ ---        ┆ str       ┆ str       ┆ str       ┆ Age 60     ┆ Individual ┆ Pocket -   │\n",
      "│          ┆ i64        ┆           ┆           ┆           ┆ ---        ┆ ...        ┆ ...        │\n",
      "│          ┆            ┆           ┆           ┆           ┆ str        ┆ ---        ┆ ---        │\n",
      "│          ┆            ┆           ┆           ┆           ┆            ┆ str        ┆ str        │\n",
      "╞══════════╪════════════╪═══════════╪═══════════╪═══════════╪════════════╪════════════╪════════════╡\n",
      "│ AK       ┆ 2013       ┆ Aleutians ┆ Gold      ┆ Premera   ┆ $1,432.00  ┆ $1,500     ┆ $6,000     │\n",
      "│          ┆            ┆ East      ┆           ┆ Blue      ┆            ┆            ┆            │\n",
      "│          ┆            ┆           ┆           ┆ Cross     ┆            ┆            ┆            │\n",
      "│          ┆            ┆           ┆           ┆ Blue      ┆            ┆            ┆            │\n",
      "│          ┆            ┆           ┆           ┆ Shield    ┆            ┆            ┆            │\n",
      "│          ┆            ┆           ┆           ┆ o...      ┆            ┆            ┆            │\n",
      "│ AK       ┆ 2013       ┆ Aleutians ┆ Silver    ┆ Premera   ┆ $1,580.00  ┆ $4,500     ┆ $7,350     │\n",
      "│          ┆            ┆ East      ┆           ┆ Blue      ┆            ┆            ┆            │\n",
      "│          ┆            ┆           ┆           ┆ Cross     ┆            ┆            ┆            │\n",
      "│          ┆            ┆           ┆           ┆ Blue      ┆            ┆            ┆            │\n",
      "│          ┆            ┆           ┆           ┆ Shield    ┆            ┆            ┆            │\n",
      "│          ┆            ┆           ┆           ┆ o...      ┆            ┆            ┆            │\n",
      "│ AK       ┆ 2013       ┆ Aleutians ┆ Expanded  ┆ Premera   ┆ $1,061.00  ┆ $6,350     ┆ $7,800     │\n",
      "│          ┆            ┆ East      ┆ Bronze    ┆ Blue      ┆            ┆            ┆            │\n",
      "│          ┆            ┆           ┆           ┆ Cross     ┆            ┆            ┆            │\n",
      "│          ┆            ┆           ┆           ┆ Blue      ┆            ┆            ┆            │\n",
      "│          ┆            ┆           ┆           ┆ Shield    ┆            ┆            ┆            │\n",
      "│          ┆            ┆           ┆           ┆ o...      ┆            ┆            ┆            │\n",
      "│ AK       ┆ 2013       ┆ Aleutians ┆ Silver    ┆ Premera   ┆ $1,567.00  ┆ $3,000     ┆ $6,600     │\n",
      "│          ┆            ┆ East      ┆           ┆ Blue      ┆            ┆            ┆            │\n",
      "│          ┆            ┆           ┆           ┆ Cross     ┆            ┆            ┆            │\n",
      "│          ┆            ┆           ┆           ┆ Blue      ┆            ┆            ┆            │\n",
      "│          ┆            ┆           ┆           ┆ Shield    ┆            ┆            ┆            │\n",
      "│          ┆            ┆           ┆           ┆ o...      ┆            ┆            ┆            │\n",
      "│ ...      ┆ ...        ┆ ...       ┆ ...       ┆ ...       ┆ ...        ┆ ...        ┆ ...        │\n",
      "│ WY       ┆ 56045      ┆ Weston    ┆ Bronze    ┆ Blue      ┆ $1,333.08  ┆ $6,000     ┆ $7,900     │\n",
      "│          ┆            ┆           ┆           ┆ Cross     ┆            ┆            ┆            │\n",
      "│          ┆            ┆           ┆           ┆ Blue      ┆            ┆            ┆            │\n",
      "│          ┆            ┆           ┆           ┆ Shield of ┆            ┆            ┆            │\n",
      "│          ┆            ┆           ┆           ┆ Wyomin... ┆            ┆            ┆            │\n",
      "│ WY       ┆ 56045      ┆ Weston    ┆ Bronze    ┆ Blue      ┆ $1,343.58  ┆ $7,900     ┆ $7,900     │\n",
      "│          ┆            ┆           ┆           ┆ Cross     ┆            ┆            ┆            │\n",
      "│          ┆            ┆           ┆           ┆ Blue      ┆            ┆            ┆            │\n",
      "│          ┆            ┆           ┆           ┆ Shield of ┆            ┆            ┆            │\n",
      "│          ┆            ┆           ┆           ┆ Wyomin... ┆            ┆            ┆            │\n",
      "│ WY       ┆ 56045      ┆ Weston    ┆ Silver    ┆ Blue      ┆ $1,878.30  ┆ $6,000     ┆ $7,900     │\n",
      "│          ┆            ┆           ┆           ┆ Cross     ┆            ┆            ┆            │\n",
      "│          ┆            ┆           ┆           ┆ Blue      ┆            ┆            ┆            │\n",
      "│          ┆            ┆           ┆           ┆ Shield of ┆            ┆            ┆            │\n",
      "│          ┆            ┆           ┆           ┆ Wyomin... ┆            ┆            ┆            │\n",
      "│ WY       ┆ 56045      ┆ Weston    ┆ Gold      ┆ Blue      ┆ $1,570.94  ┆ $2,000     ┆ $7,900     │\n",
      "│          ┆            ┆           ┆           ┆ Cross     ┆            ┆            ┆            │\n",
      "│          ┆            ┆           ┆           ┆ Blue      ┆            ┆            ┆            │\n",
      "│          ┆            ┆           ┆           ┆ Shield of ┆            ┆            ┆            │\n",
      "│          ┆            ┆           ┆           ┆ Wyomin... ┆            ┆            ┆            │\n",
      "└──────────┴────────────┴───────────┴───────────┴───────────┴────────────┴────────────┴────────────┘\n"
     ]
    }
   ],
   "source": [
    "%timeit\n",
    "df = pl.read_csv(\"data/Individual_Market_Medical_07_27_2020.csv\")\n",
    "\n",
    "columns_needed = [\n",
    "        'State Code','FIPS County Code', 'County Name', 'Metal Level', 'Issuer Name', 'Premium Adult Individual Age 60 ','Medical Deductible - Individual - Standard', 'Medical Maximum Out Of Pocket - Individual - Standard'\n",
    "        ]\n",
    "df = df.select(columns_needed)\n",
    "df = df.filter(pl.col(\"Issuer Name\").str.contains(r\"Blue\"))\n",
    "print(df)\n",
    "df.write_csv('data/2020.csv')"
   ],
   "metadata": {
    "collapsed": false,
    "pycharm": {
     "name": "#%%\n"
    }
   }
  },
  {
   "cell_type": "code",
   "execution_count": 13,
   "outputs": [
    {
     "name": "stdout",
     "output_type": "stream",
     "text": [
      "shape: (11946, 8)\n",
      "┌──────────┬────────────┬───────────┬───────────┬───────────┬────────────┬────────────┬────────────┐\n",
      "│ State    ┆ FIPS       ┆ County    ┆ Metal     ┆ Issuer    ┆ Premium    ┆ Medical    ┆ Medical    │\n",
      "│ Code     ┆ County     ┆ Name      ┆ Level     ┆ Name      ┆ Adult      ┆ Deductible ┆ Maximum    │\n",
      "│ ---      ┆ Code       ┆ ---       ┆ ---       ┆ ---       ┆ Individual ┆ -          ┆ Out Of     │\n",
      "│ str      ┆ ---        ┆ str       ┆ str       ┆ str       ┆ Age 60     ┆ Individual ┆ Pocket -   │\n",
      "│          ┆ i64        ┆           ┆           ┆           ┆ ---        ┆ ...        ┆ ...        │\n",
      "│          ┆            ┆           ┆           ┆           ┆ str        ┆ ---        ┆ ---        │\n",
      "│          ┆            ┆           ┆           ┆           ┆            ┆ str        ┆ str        │\n",
      "╞══════════╪════════════╪═══════════╪═══════════╪═══════════╪════════════╪════════════╪════════════╡\n",
      "│ AK       ┆ 2013       ┆ Aleutians ┆ Gold      ┆ Premera   ┆ $1,463.00  ┆ $1,500     ┆ $6,000     │\n",
      "│          ┆            ┆ East      ┆           ┆ Blue      ┆            ┆            ┆            │\n",
      "│          ┆            ┆           ┆           ┆ Cross     ┆            ┆            ┆            │\n",
      "│          ┆            ┆           ┆           ┆ Blue      ┆            ┆            ┆            │\n",
      "│          ┆            ┆           ┆           ┆ Shield    ┆            ┆            ┆            │\n",
      "│          ┆            ┆           ┆           ┆ o...      ┆            ┆            ┆            │\n",
      "│ AK       ┆ 2013       ┆ Aleutians ┆ Silver    ┆ Premera   ┆ $1,554.00  ┆ $4,500     ┆ $7,350     │\n",
      "│          ┆            ┆ East      ┆           ┆ Blue      ┆            ┆            ┆            │\n",
      "│          ┆            ┆           ┆           ┆ Cross     ┆            ┆            ┆            │\n",
      "│          ┆            ┆           ┆           ┆ Blue      ┆            ┆            ┆            │\n",
      "│          ┆            ┆           ┆           ┆ Shield    ┆            ┆            ┆            │\n",
      "│          ┆            ┆           ┆           ┆ o...      ┆            ┆            ┆            │\n",
      "│ AK       ┆ 2013       ┆ Aleutians ┆ Bronze    ┆ Premera   ┆ $1,028.00  ┆ $6,350     ┆ $7,800     │\n",
      "│          ┆            ┆ East      ┆           ┆ Blue      ┆            ┆            ┆            │\n",
      "│          ┆            ┆           ┆           ┆ Cross     ┆            ┆            ┆            │\n",
      "│          ┆            ┆           ┆           ┆ Blue      ┆            ┆            ┆            │\n",
      "│          ┆            ┆           ┆           ┆ Shield    ┆            ┆            ┆            │\n",
      "│          ┆            ┆           ┆           ┆ o...      ┆            ┆            ┆            │\n",
      "│ AK       ┆ 2013       ┆ Aleutians ┆ Silver    ┆ Premera   ┆ $1,532.00  ┆ $3,000     ┆ $6,600     │\n",
      "│          ┆            ┆ East      ┆           ┆ Blue      ┆            ┆            ┆            │\n",
      "│          ┆            ┆           ┆           ┆ Cross     ┆            ┆            ┆            │\n",
      "│          ┆            ┆           ┆           ┆ Blue      ┆            ┆            ┆            │\n",
      "│          ┆            ┆           ┆           ┆ Shield    ┆            ┆            ┆            │\n",
      "│          ┆            ┆           ┆           ┆ o...      ┆            ┆            ┆            │\n",
      "│ ...      ┆ ...        ┆ ...       ┆ ...       ┆ ...       ┆ ...        ┆ ...        ┆ ...        │\n",
      "│ WY       ┆ 56045      ┆ Weston    ┆ Bronze    ┆ Blue      ┆ $1,303.44  ┆ $6,000     ┆ $7,900     │\n",
      "│          ┆            ┆           ┆           ┆ Cross     ┆            ┆            ┆            │\n",
      "│          ┆            ┆           ┆           ┆ Blue      ┆            ┆            ┆            │\n",
      "│          ┆            ┆           ┆           ┆ Shield of ┆            ┆            ┆            │\n",
      "│          ┆            ┆           ┆           ┆ Wyomin... ┆            ┆            ┆            │\n",
      "│ WY       ┆ 56045      ┆ Weston    ┆ Bronze    ┆ Blue      ┆ $1,312.71  ┆ $7,900     ┆ $7,900     │\n",
      "│          ┆            ┆           ┆           ┆ Cross     ┆            ┆            ┆            │\n",
      "│          ┆            ┆           ┆           ┆ Blue      ┆            ┆            ┆            │\n",
      "│          ┆            ┆           ┆           ┆ Shield of ┆            ┆            ┆            │\n",
      "│          ┆            ┆           ┆           ┆ Wyomin... ┆            ┆            ┆            │\n",
      "│ WY       ┆ 56045      ┆ Weston    ┆ Silver    ┆ Blue      ┆ $1,840.60  ┆ $6,000     ┆ $7,900     │\n",
      "│          ┆            ┆           ┆           ┆ Cross     ┆            ┆            ┆            │\n",
      "│          ┆            ┆           ┆           ┆ Blue      ┆            ┆            ┆            │\n",
      "│          ┆            ┆           ┆           ┆ Shield of ┆            ┆            ┆            │\n",
      "│          ┆            ┆           ┆           ┆ Wyomin... ┆            ┆            ┆            │\n",
      "│ WY       ┆ 56045      ┆ Weston    ┆ Gold      ┆ Blue      ┆ $1,536.85  ┆ $2,000     ┆ $7,900     │\n",
      "│          ┆            ┆           ┆           ┆ Cross     ┆            ┆            ┆            │\n",
      "│          ┆            ┆           ┆           ┆ Blue      ┆            ┆            ┆            │\n",
      "│          ┆            ┆           ┆           ┆ Shield of ┆            ┆            ┆            │\n",
      "│          ┆            ┆           ┆           ┆ Wyomin... ┆            ┆            ┆            │\n",
      "└──────────┴────────────┴───────────┴───────────┴───────────┴────────────┴────────────┴────────────┘\n"
     ]
    }
   ],
   "source": [
    "%timeit\n",
    "df = pl.read_csv(\"data/Individual_Market_Medical_07_25_2019.csv\")\n",
    "\n",
    "columns_needed = [\n",
    "        'State Code','FIPS County Code', 'County Name', 'Metal Level', 'Issuer Name', 'Premium Adult Individual Age 60 ','Medical Deductible - Individual - Standard', 'Medical Maximum Out Of Pocket - Individual - Standard'\n",
    "        ]\n",
    "df = df.select(columns_needed)\n",
    "df = df.filter(pl.col(\"Issuer Name\").str.contains(r\"Blue\"))\n",
    "print(df)\n",
    "df.write_csv('data/2019.csv')"
   ],
   "metadata": {
    "collapsed": false,
    "pycharm": {
     "name": "#%%\n"
    }
   }
  },
  {
   "cell_type": "code",
   "execution_count": 14,
   "outputs": [
    {
     "name": "stdout",
     "output_type": "stream",
     "text": [
      "shape: (11488, 8)\n",
      "┌──────────┬────────────┬───────────┬───────────┬───────────┬────────────┬────────────┬────────────┐\n",
      "│ State    ┆ FIPS       ┆ County    ┆ Metal     ┆ Issuer    ┆ Premium    ┆ Medical    ┆ Medical    │\n",
      "│ Code     ┆ County     ┆ Name      ┆ Level     ┆ Name      ┆ Adult      ┆ Deductible ┆ Maximum    │\n",
      "│ ---      ┆ Code       ┆ ---       ┆ ---       ┆ ---       ┆ Individual ┆ -          ┆ Out Of     │\n",
      "│ str      ┆ ---        ┆ str       ┆ str       ┆ str       ┆ Age 60     ┆ Individual ┆ Pocket -   │\n",
      "│          ┆ i64        ┆           ┆           ┆           ┆ ---        ┆ ...        ┆ ...        │\n",
      "│          ┆            ┆           ┆           ┆           ┆ str        ┆ ---        ┆ ---        │\n",
      "│          ┆            ┆           ┆           ┆           ┆            ┆ str        ┆ str        │\n",
      "╞══════════╪════════════╪═══════════╪═══════════╪═══════════╪════════════╪════════════╪════════════╡\n",
      "│ AK       ┆ 2013       ┆ Aleutians ┆ Gold      ┆ Premera   ┆ $1,695.00  ┆ $1,500     ┆ $6,000     │\n",
      "│          ┆            ┆ East      ┆           ┆ Blue      ┆            ┆            ┆            │\n",
      "│          ┆            ┆           ┆           ┆ Cross     ┆            ┆            ┆            │\n",
      "│          ┆            ┆           ┆           ┆ Blue      ┆            ┆            ┆            │\n",
      "│          ┆            ┆           ┆           ┆ Shield    ┆            ┆            ┆            │\n",
      "│          ┆            ┆           ┆           ┆ o...      ┆            ┆            ┆            │\n",
      "│ AK       ┆ 2013       ┆ Aleutians ┆ Silver    ┆ Premera   ┆ $1,521.00  ┆ $4,500     ┆ $7,350     │\n",
      "│          ┆            ┆ East      ┆           ┆ Blue      ┆            ┆            ┆            │\n",
      "│          ┆            ┆           ┆           ┆ Cross     ┆            ┆            ┆            │\n",
      "│          ┆            ┆           ┆           ┆ Blue      ┆            ┆            ┆            │\n",
      "│          ┆            ┆           ┆           ┆ Shield    ┆            ┆            ┆            │\n",
      "│          ┆            ┆           ┆           ┆ o...      ┆            ┆            ┆            │\n",
      "│ AK       ┆ 2013       ┆ Aleutians ┆ Bronze    ┆ Premera   ┆ $1,178.00  ┆ $6,350     ┆ $7,350     │\n",
      "│          ┆            ┆ East      ┆           ┆ Blue      ┆            ┆            ┆            │\n",
      "│          ┆            ┆           ┆           ┆ Cross     ┆            ┆            ┆            │\n",
      "│          ┆            ┆           ┆           ┆ Blue      ┆            ┆            ┆            │\n",
      "│          ┆            ┆           ┆           ┆ Shield    ┆            ┆            ┆            │\n",
      "│          ┆            ┆           ┆           ┆ o...      ┆            ┆            ┆            │\n",
      "│ AK       ┆ 2013       ┆ Aleutians ┆ Bronze    ┆ Premera   ┆ $1,174.00  ┆ $5,250     ┆ $6,600     │\n",
      "│          ┆            ┆ East      ┆           ┆ Blue      ┆            ┆            ┆            │\n",
      "│          ┆            ┆           ┆           ┆ Cross     ┆            ┆            ┆            │\n",
      "│          ┆            ┆           ┆           ┆ Blue      ┆            ┆            ┆            │\n",
      "│          ┆            ┆           ┆           ┆ Shield    ┆            ┆            ┆            │\n",
      "│          ┆            ┆           ┆           ┆ o...      ┆            ┆            ┆            │\n",
      "│ ...      ┆ ...        ┆ ...       ┆ ...       ┆ ...       ┆ ...        ┆ ...        ┆ ...        │\n",
      "│ WY       ┆ 56045      ┆ Weston    ┆ Bronze    ┆ Blue      ┆ $1,320.71  ┆ $6,000     ┆ $7,350     │\n",
      "│          ┆            ┆           ┆           ┆ Cross     ┆            ┆            ┆            │\n",
      "│          ┆            ┆           ┆           ┆ Blue      ┆            ┆            ┆            │\n",
      "│          ┆            ┆           ┆           ┆ Shield of ┆            ┆            ┆            │\n",
      "│          ┆            ┆           ┆           ┆ Wyomin... ┆            ┆            ┆            │\n",
      "│ WY       ┆ 56045      ┆ Weston    ┆ Bronze    ┆ Blue      ┆ $1,327.71  ┆ $7,350     ┆ $7,350     │\n",
      "│          ┆            ┆           ┆           ┆ Cross     ┆            ┆            ┆            │\n",
      "│          ┆            ┆           ┆           ┆ Blue      ┆            ┆            ┆            │\n",
      "│          ┆            ┆           ┆           ┆ Shield of ┆            ┆            ┆            │\n",
      "│          ┆            ┆           ┆           ┆ Wyomin... ┆            ┆            ┆            │\n",
      "│ WY       ┆ 56045      ┆ Weston    ┆ Silver    ┆ Blue      ┆ $1,855.80  ┆ $6,000     ┆ $7,350     │\n",
      "│          ┆            ┆           ┆           ┆ Cross     ┆            ┆            ┆            │\n",
      "│          ┆            ┆           ┆           ┆ Blue      ┆            ┆            ┆            │\n",
      "│          ┆            ┆           ┆           ┆ Shield of ┆            ┆            ┆            │\n",
      "│          ┆            ┆           ┆           ┆ Wyomin... ┆            ┆            ┆            │\n",
      "│ WY       ┆ 56045      ┆ Weston    ┆ Gold      ┆ Blue      ┆ $1,531.15  ┆ $2,000     ┆ $7,350     │\n",
      "│          ┆            ┆           ┆           ┆ Cross     ┆            ┆            ┆            │\n",
      "│          ┆            ┆           ┆           ┆ Blue      ┆            ┆            ┆            │\n",
      "│          ┆            ┆           ┆           ┆ Shield of ┆            ┆            ┆            │\n",
      "│          ┆            ┆           ┆           ┆ Wyomin... ┆            ┆            ┆            │\n",
      "└──────────┴────────────┴───────────┴───────────┴───────────┴────────────┴────────────┴────────────┘\n"
     ]
    }
   ],
   "source": [
    "%timeit\n",
    "df = pl.read_csv(\"data/PY2018_Medi-Indi-Land-07_26_2018.csv\")\n",
    "\n",
    "columns_needed = [\n",
    "        'State Code','FIPS County Code', 'County Name', 'Metal Level', 'Issuer Name', 'Premium Adult Individual Age 60 ','Medical Deductible - Individual - Standard', 'Medical Maximum Out Of Pocket - Individual - Standard'\n",
    "        ]\n",
    "df = df.select(columns_needed)\n",
    "df = df.filter(pl.col(\"Issuer Name\").str.contains(r\"Blue\"))\n",
    "print(df)\n",
    "df.write_csv('data/2018.csv')"
   ],
   "metadata": {
    "collapsed": false,
    "pycharm": {
     "name": "#%%\n"
    }
   }
  },
  {
   "cell_type": "code",
   "execution_count": 15,
   "outputs": [
    {
     "name": "stdout",
     "output_type": "stream",
     "text": [
      "shape: (16698, 8)\n",
      "┌──────────┬────────────┬───────────┬───────────┬───────────┬────────────┬────────────┬────────────┐\n",
      "│ State    ┆ FIPS       ┆ County    ┆ Metal     ┆ Issuer    ┆ Premium    ┆ Medical    ┆ Medical    │\n",
      "│ Code     ┆ County     ┆ Name      ┆ Level     ┆ Name      ┆ Adult      ┆ Deductible ┆ Maximum    │\n",
      "│ ---      ┆ Code       ┆ ---       ┆ ---       ┆ ---       ┆ Individual ┆ -          ┆ Out Of     │\n",
      "│ str      ┆ ---        ┆ str       ┆ str       ┆ str       ┆ Age 60     ┆ Individual ┆ Pocket -   │\n",
      "│          ┆ i64        ┆           ┆           ┆           ┆ ---        ┆ ...        ┆ ...        │\n",
      "│          ┆            ┆           ┆           ┆           ┆ str        ┆ ---        ┆ ---        │\n",
      "│          ┆            ┆           ┆           ┆           ┆            ┆ str        ┆ str        │\n",
      "╞══════════╪════════════╪═══════════╪═══════════╪═══════════╪════════════╪════════════╪════════════╡\n",
      "│ AK       ┆ 2013       ┆ Aleutians ┆ Gold      ┆ Premera   ┆ $2,351.00  ┆ $1,500     ┆ $5,000     │\n",
      "│          ┆            ┆ East      ┆           ┆ Blue      ┆            ┆            ┆            │\n",
      "│          ┆            ┆           ┆           ┆ Cross     ┆            ┆            ┆            │\n",
      "│          ┆            ┆           ┆           ┆ Blue      ┆            ┆            ┆            │\n",
      "│          ┆            ┆           ┆           ┆ Shield    ┆            ┆            ┆            │\n",
      "│          ┆            ┆           ┆           ┆ o...      ┆            ┆            ┆            │\n",
      "│ AK       ┆ 2013       ┆ Aleutians ┆ Silver    ┆ Premera   ┆ $2,018.00  ┆ $3,000     ┆ $7,150     │\n",
      "│          ┆            ┆ East      ┆           ┆ Blue      ┆            ┆            ┆            │\n",
      "│          ┆            ┆           ┆           ┆ Cross     ┆            ┆            ┆            │\n",
      "│          ┆            ┆           ┆           ┆ Blue      ┆            ┆            ┆            │\n",
      "│          ┆            ┆           ┆           ┆ Shield    ┆            ┆            ┆            │\n",
      "│          ┆            ┆           ┆           ┆ o...      ┆            ┆            ┆            │\n",
      "│ AK       ┆ 2013       ┆ Aleutians ┆ Bronze    ┆ Premera   ┆ $1,573.00  ┆ $6,350     ┆ $7,150     │\n",
      "│          ┆            ┆ East      ┆           ┆ Blue      ┆            ┆            ┆            │\n",
      "│          ┆            ┆           ┆           ┆ Cross     ┆            ┆            ┆            │\n",
      "│          ┆            ┆           ┆           ┆ Blue      ┆            ┆            ┆            │\n",
      "│          ┆            ┆           ┆           ┆ Shield    ┆            ┆            ┆            │\n",
      "│          ┆            ┆           ┆           ┆ o...      ┆            ┆            ┆            │\n",
      "│ AK       ┆ 2013       ┆ Aleutians ┆ Bronze    ┆ Premera   ┆ $1,570.00  ┆ $5,250     ┆ $6,500     │\n",
      "│          ┆            ┆ East      ┆           ┆ Blue      ┆            ┆            ┆            │\n",
      "│          ┆            ┆           ┆           ┆ Cross     ┆            ┆            ┆            │\n",
      "│          ┆            ┆           ┆           ┆ Blue      ┆            ┆            ┆            │\n",
      "│          ┆            ┆           ┆           ┆ Shield    ┆            ┆            ┆            │\n",
      "│          ┆            ┆           ┆           ┆ o...      ┆            ┆            ┆            │\n",
      "│ ...      ┆ ...        ┆ ...       ┆ ...       ┆ ...       ┆ ...        ┆ ...        ┆ ...        │\n",
      "│ WY       ┆ 56045      ┆ Weston    ┆ Silver    ┆ Blue      ┆ $1,157.33  ┆ $2,500     ┆ $6,350     │\n",
      "│          ┆            ┆           ┆           ┆ Cross     ┆            ┆            ┆            │\n",
      "│          ┆            ┆           ┆           ┆ Blue      ┆            ┆            ┆            │\n",
      "│          ┆            ┆           ┆           ┆ Shield of ┆            ┆            ┆            │\n",
      "│          ┆            ┆           ┆           ┆ Wyomin... ┆            ┆            ┆            │\n",
      "│ WY       ┆ 56045      ┆ Weston    ┆ Bronze    ┆ Blue      ┆ $1,008.19  ┆ $6,000     ┆ $7,150     │\n",
      "│          ┆            ┆           ┆           ┆ Cross     ┆            ┆            ┆            │\n",
      "│          ┆            ┆           ┆           ┆ Blue      ┆            ┆            ┆            │\n",
      "│          ┆            ┆           ┆           ┆ Shield of ┆            ┆            ┆            │\n",
      "│          ┆            ┆           ┆           ┆ Wyomin... ┆            ┆            ┆            │\n",
      "│ WY       ┆ 56045      ┆ Weston    ┆ Catastrop ┆ Blue      ┆  $851.82   ┆ $7,150     ┆ $7,150     │\n",
      "│          ┆            ┆           ┆ hic       ┆ Cross     ┆            ┆            ┆            │\n",
      "│          ┆            ┆           ┆           ┆ Blue      ┆            ┆            ┆            │\n",
      "│          ┆            ┆           ┆           ┆ Shield of ┆            ┆            ┆            │\n",
      "│          ┆            ┆           ┆           ┆ Wyomin... ┆            ┆            ┆            │\n",
      "│ WY       ┆ 56045      ┆ Weston    ┆ Silver    ┆ Blue      ┆ $1,112.64  ┆ $3,250     ┆ $5,600     │\n",
      "│          ┆            ┆           ┆           ┆ Cross     ┆            ┆            ┆            │\n",
      "│          ┆            ┆           ┆           ┆ Blue      ┆            ┆            ┆            │\n",
      "│          ┆            ┆           ┆           ┆ Shield of ┆            ┆            ┆            │\n",
      "│          ┆            ┆           ┆           ┆ Wyomin... ┆            ┆            ┆            │\n",
      "└──────────┴────────────┴───────────┴───────────┴───────────┴────────────┴────────────┴────────────┘\n"
     ]
    }
   ],
   "source": [
    "%timeit\n",
    "df = pl.read_csv(\"data/PY2017_Medi-Indi-Land-08_11_2017.csv\")\n",
    "\n",
    "columns_needed = [\n",
    "        'State Code','FIPS County Code', 'County Name', 'Metal Level', 'Issuer Name', 'Premium Adult Individual Age 60 ','Medical Deductible - Individual - Standard', 'Medical Maximum Out Of Pocket - Individual - Standard'\n",
    "        ]\n",
    "df = df.select(columns_needed)\n",
    "df = df.filter(pl.col(\"Issuer Name\").str.contains(r\"Blue\"))\n",
    "print(df)\n",
    "df.write_csv('data/2017.csv')"
   ],
   "metadata": {
    "collapsed": false,
    "pycharm": {
     "name": "#%%\n"
    }
   }
  },
  {
   "cell_type": "code",
   "execution_count": 16,
   "outputs": [
    {
     "name": "stdout",
     "output_type": "stream",
     "text": [
      "shape: (97134, 9)\n",
      "┌──────────┬────────────┬───────────┬───────────┬─────┬────────────┬────────────┬────────────┬──────────┐\n",
      "│ State    ┆ FIPS       ┆ County    ┆ Metal     ┆ ... ┆ Premium    ┆ Medical    ┆ Medical    ┆ Time     │\n",
      "│ Code     ┆ County     ┆ Name      ┆ Level     ┆     ┆ Adult      ┆ Deductible ┆ Maximum    ┆ Trend    │\n",
      "│ ---      ┆ Code       ┆ ---       ┆ ---       ┆     ┆ Individual ┆ -          ┆ Out Of     ┆ ---      │\n",
      "│ str      ┆ ---        ┆ str       ┆ str       ┆     ┆ Age 60     ┆ Individual ┆ Pocket -   ┆ i32      │\n",
      "│          ┆ i64        ┆           ┆           ┆     ┆ ---        ┆ ...        ┆ ...        ┆          │\n",
      "│          ┆            ┆           ┆           ┆     ┆ f64        ┆ ---        ┆ ---        ┆          │\n",
      "│          ┆            ┆           ┆           ┆     ┆            ┆ f64        ┆ f64        ┆          │\n",
      "╞══════════╪════════════╪═══════════╪═══════════╪═════╪════════════╪════════════╪════════════╪══════════╡\n",
      "│ AK       ┆ 2013       ┆ Aleutians ┆ Gold      ┆ ... ┆ 2351.0     ┆ 1500.0     ┆ 5000.0     ┆ 2017     │\n",
      "│          ┆            ┆ East      ┆           ┆     ┆            ┆            ┆            ┆          │\n",
      "│ AK       ┆ 2013       ┆ Aleutians ┆ Silver    ┆ ... ┆ 2018.0     ┆ 3000.0     ┆ 7150.0     ┆ 2017     │\n",
      "│          ┆            ┆ East      ┆           ┆     ┆            ┆            ┆            ┆          │\n",
      "│ AK       ┆ 2013       ┆ Aleutians ┆ Bronze    ┆ ... ┆ 1573.0     ┆ 6350.0     ┆ 7150.0     ┆ 2017     │\n",
      "│          ┆            ┆ East      ┆           ┆     ┆            ┆            ┆            ┆          │\n",
      "│ AK       ┆ 2013       ┆ Aleutians ┆ Bronze    ┆ ... ┆ 1570.0     ┆ 5250.0     ┆ 6500.0     ┆ 2017     │\n",
      "│          ┆            ┆ East      ┆           ┆     ┆            ┆            ┆            ┆          │\n",
      "│ ...      ┆ ...        ┆ ...       ┆ ...       ┆ ... ┆ ...        ┆ ...        ┆ ...        ┆ ...      │\n",
      "│ WY       ┆ 56045      ┆ Weston    ┆ Gold      ┆ ... ┆ 1355.92    ┆ 1500.0     ┆ 7000.0     ┆ 2022     │\n",
      "│ WY       ┆ 56045      ┆ Weston    ┆ Bronze    ┆ ... ┆ 1090.01    ┆ 8550.0     ┆ 8550.0     ┆ 2022     │\n",
      "│ WY       ┆ 56045      ┆ Weston    ┆ Silver    ┆ ... ┆ 1637.5     ┆ 6000.0     ┆ 8550.0     ┆ 2022     │\n",
      "│ WY       ┆ 56045      ┆ Weston    ┆ Silver    ┆ ... ┆ 1657.7     ┆ 2500.0     ┆ 8550.0     ┆ 2022     │\n",
      "└──────────┴────────────┴───────────┴───────────┴─────┴────────────┴────────────┴────────────┴──────────┘\n"
     ]
    }
   ],
   "source": [
    "years = [str(year) for year in range(2017,2023)]\n",
    "dataframe = pl.DataFrame()\n",
    "\n",
    "for year in years:\n",
    "    df = pl.read_csv(f\"data/{year}.csv\")\n",
    "\n",
    "    covid_dummy = int(year)\n",
    "\n",
    "    df = df.with_columns(pl.lit(covid_dummy).alias('Time Trend'))\n",
    "    dataframe = pl.concat([dataframe, df])\n",
    "\n",
    "func = lambda x: float(x.replace(',', \"\").replace(\"$\", \"\"))\n",
    "\n",
    "# def func\n",
    "dataframe = dataframe.with_columns([\n",
    "        pl.col('Medical Maximum Out Of Pocket - Individual - Standard').apply(func),\n",
    "        pl.col('Premium Adult Individual Age 60 ').apply(func),\n",
    "        pl.col('Medical Deductible - Individual - Standard').apply(func)\n",
    "        ])\n",
    "print(dataframe)\n",
    "dataframe.write_csv('data/main_data_file.csv')"
   ],
   "metadata": {
    "collapsed": false,
    "pycharm": {
     "name": "#%%\n"
    }
   }
  },
  {
   "cell_type": "code",
   "execution_count": 17,
   "outputs": [
    {
     "name": "stdout",
     "output_type": "stream",
     "text": [
      "34\n"
     ]
    }
   ],
   "source": [
    "print(dataframe['State Code'].n_unique())"
   ],
   "metadata": {
    "collapsed": false,
    "pycharm": {
     "name": "#%%\n"
    }
   }
  },
  {
   "cell_type": "code",
   "execution_count": 18,
   "outputs": [
    {
     "name": "stdout",
     "output_type": "stream",
     "text": [
      "      State Code  FIPS County Code     County Name Metal Level  \\\n",
      "0             AK              2013  Aleutians East        Gold   \n",
      "1             AK              2013  Aleutians East      Silver   \n",
      "2             AK              2013  Aleutians East      Bronze   \n",
      "3             AK              2013  Aleutians East      Bronze   \n",
      "4             AK              2013  Aleutians East      Silver   \n",
      "...          ...               ...             ...         ...   \n",
      "97129         WY             56045          Weston        Gold   \n",
      "97130         WY             56045          Weston        Gold   \n",
      "97131         WY             56045          Weston      Bronze   \n",
      "97132         WY             56045          Weston      Silver   \n",
      "97133         WY             56045          Weston      Silver   \n",
      "\n",
      "                                    Issuer Name  \\\n",
      "0      Premera Blue Cross Blue Shield of Alaska   \n",
      "1      Premera Blue Cross Blue Shield of Alaska   \n",
      "2      Premera Blue Cross Blue Shield of Alaska   \n",
      "3      Premera Blue Cross Blue Shield of Alaska   \n",
      "4      Premera Blue Cross Blue Shield of Alaska   \n",
      "...                                         ...   \n",
      "97129         Blue Cross Blue Shield of Wyoming   \n",
      "97130         Blue Cross Blue Shield of Wyoming   \n",
      "97131         Blue Cross Blue Shield of Wyoming   \n",
      "97132         Blue Cross Blue Shield of Wyoming   \n",
      "97133         Blue Cross Blue Shield of Wyoming   \n",
      "\n",
      "       Premium Adult Individual Age 60   \\\n",
      "0                               2351.00   \n",
      "1                               2018.00   \n",
      "2                               1573.00   \n",
      "3                               1570.00   \n",
      "4                               1962.00   \n",
      "...                                 ...   \n",
      "97129                           1382.43   \n",
      "97130                           1355.92   \n",
      "97131                           1090.01   \n",
      "97132                           1637.50   \n",
      "97133                           1657.70   \n",
      "\n",
      "       Medical Deductible - Individual - Standard  \\\n",
      "0                                          1500.0   \n",
      "1                                          3000.0   \n",
      "2                                          6350.0   \n",
      "3                                          5250.0   \n",
      "4                                          3000.0   \n",
      "...                                           ...   \n",
      "97129                                      2000.0   \n",
      "97130                                      1500.0   \n",
      "97131                                      8550.0   \n",
      "97132                                      6000.0   \n",
      "97133                                      2500.0   \n",
      "\n",
      "       Medical Maximum Out Of Pocket - Individual - Standard  Time Trend  \n",
      "0                                                 5000.0            2017  \n",
      "1                                                 7150.0            2017  \n",
      "2                                                 7150.0            2017  \n",
      "3                                                 6500.0            2017  \n",
      "4                                                 4100.0            2017  \n",
      "...                                                  ...             ...  \n",
      "97129                                             8550.0            2022  \n",
      "97130                                             7000.0            2022  \n",
      "97131                                             8550.0            2022  \n",
      "97132                                             8550.0            2022  \n",
      "97133                                             8550.0            2022  \n",
      "\n",
      "[97134 rows x 9 columns]\n"
     ]
    }
   ],
   "source": [
    "import pandas as pd\n",
    "\n",
    "print(pd.read_csv('data/main_data_file.csv'))"
   ],
   "metadata": {
    "collapsed": false,
    "pycharm": {
     "name": "#%%\n"
    }
   }
  },
  {
   "cell_type": "code",
   "execution_count": 19,
   "outputs": [],
   "source": [
    "def clean_date(date):\n",
    "\n",
    "    month, day, year = date.split('/')\n",
    "    year = year[-2:]\n",
    "\n",
    "    if len(month) == 1:\n",
    "        month = '0' + month\n",
    "\n",
    "    if len(day) == 1:\n",
    "        day = '0' + day\n",
    "\n",
    "    return '20' + str(year) + '-' + str(month) + '-' + str(day)"
   ],
   "metadata": {
    "collapsed": false,
    "pycharm": {
     "name": "#%%\n"
    }
   }
  },
  {
   "cell_type": "code",
   "execution_count": 20,
   "outputs": [
    {
     "name": "stdout",
     "output_type": "stream",
     "text": [
      "             date_updated state  start_date    end_date  tot_cases  new_cases  \\\n",
      "date_updated                                                                    \n",
      "2022-12-29     2022-12-29   FSM  12/22/2022  12/28/2022      22069         21   \n",
      "2022-12-29     2022-12-29    PR  12/22/2022  12/28/2022    1049438       8652   \n",
      "2022-12-29     2022-12-29    PW  12/22/2022  12/28/2022       5968         13   \n",
      "2022-12-29     2022-12-29    AL  12/22/2022  12/28/2022    1573637       4703   \n",
      "2022-12-29     2022-12-29    AK  12/22/2022  12/28/2022     288123        332   \n",
      "\n",
      "              tot_deaths  new_deaths  new_historic_cases  new_historic_deaths  \n",
      "date_updated                                                                   \n",
      "2022-12-29            58           0                   0                    0  \n",
      "2022-12-29          5519          29                   0                    0  \n",
      "2022-12-29             9           0                   0                    0  \n",
      "2022-12-29         20757          20                   0                    0  \n",
      "2022-12-29          1418           0                   0                    0  \n"
     ]
    }
   ],
   "source": [
    "import datetime\n",
    "df = pd.read_csv('data/Weekly_United_States_COVID-19_Cases_and_Deaths_by_State.csv')\n",
    "df.date_updated = list(map(clean_date, df.date_updated))\n",
    "df.date_updated = pd.to_datetime(df.date_updated, format = '%Y-%m-%d')\n",
    "df = df.sort_values(by = 'date_updated')\n",
    "df.set_index(df.date_updated, drop = True, inplace = True)\n",
    "df = df[df.date_updated < datetime.datetime(2023, 1, 1)]\n",
    "print(df.tail())"
   ],
   "metadata": {
    "collapsed": false,
    "pycharm": {
     "name": "#%%\n"
    }
   }
  },
  {
   "cell_type": "code",
   "execution_count": 21,
   "outputs": [
    {
     "data": {
      "text/plain": "    state date_updated  new_cases\n0      AK   2020-12-31      45802\n1      AK   2021-12-31     106561\n2      AK   2022-12-31     135760\n3      AL   2020-12-31     356820\n4      AL   2021-12-31     523487\n..    ...          ...        ...\n175    WV   2021-12-31     241289\n176    WV   2022-12-31     298027\n177    WY   2020-12-31      44125\n178    WY   2021-12-31      71117\n179    WY   2022-12-31      67605\n\n[180 rows x 3 columns]",
      "text/html": "<div>\n<style scoped>\n    .dataframe tbody tr th:only-of-type {\n        vertical-align: middle;\n    }\n\n    .dataframe tbody tr th {\n        vertical-align: top;\n    }\n\n    .dataframe thead th {\n        text-align: right;\n    }\n</style>\n<table border=\"1\" class=\"dataframe\">\n  <thead>\n    <tr style=\"text-align: right;\">\n      <th></th>\n      <th>state</th>\n      <th>date_updated</th>\n      <th>new_cases</th>\n    </tr>\n  </thead>\n  <tbody>\n    <tr>\n      <th>0</th>\n      <td>AK</td>\n      <td>2020-12-31</td>\n      <td>45802</td>\n    </tr>\n    <tr>\n      <th>1</th>\n      <td>AK</td>\n      <td>2021-12-31</td>\n      <td>106561</td>\n    </tr>\n    <tr>\n      <th>2</th>\n      <td>AK</td>\n      <td>2022-12-31</td>\n      <td>135760</td>\n    </tr>\n    <tr>\n      <th>3</th>\n      <td>AL</td>\n      <td>2020-12-31</td>\n      <td>356820</td>\n    </tr>\n    <tr>\n      <th>4</th>\n      <td>AL</td>\n      <td>2021-12-31</td>\n      <td>523487</td>\n    </tr>\n    <tr>\n      <th>...</th>\n      <td>...</td>\n      <td>...</td>\n      <td>...</td>\n    </tr>\n    <tr>\n      <th>175</th>\n      <td>WV</td>\n      <td>2021-12-31</td>\n      <td>241289</td>\n    </tr>\n    <tr>\n      <th>176</th>\n      <td>WV</td>\n      <td>2022-12-31</td>\n      <td>298027</td>\n    </tr>\n    <tr>\n      <th>177</th>\n      <td>WY</td>\n      <td>2020-12-31</td>\n      <td>44125</td>\n    </tr>\n    <tr>\n      <th>178</th>\n      <td>WY</td>\n      <td>2021-12-31</td>\n      <td>71117</td>\n    </tr>\n    <tr>\n      <th>179</th>\n      <td>WY</td>\n      <td>2022-12-31</td>\n      <td>67605</td>\n    </tr>\n  </tbody>\n</table>\n<p>180 rows × 3 columns</p>\n</div>"
     },
     "execution_count": 21,
     "metadata": {},
     "output_type": "execute_result"
    }
   ],
   "source": [
    "df.groupby('state').resample('Y')['new_cases'].sum().to_csv('data/year_and_statewise_covid_cases.csv')\n",
    "tmp = pd.read_csv('data/year_and_statewise_covid_cases.csv')\n",
    "tmp"
   ],
   "metadata": {
    "collapsed": false,
    "pycharm": {
     "name": "#%%\n"
    }
   }
  },
  {
   "cell_type": "code",
   "execution_count": 22,
   "outputs": [
    {
     "data": {
      "text/plain": "             date_updated state  start_date    end_date  tot_cases  new_cases  \\\ndate_updated                                                                    \n2020-01-23     2020-01-23    GA  01/16/2020  01/22/2020          0          0   \n2020-01-23     2020-01-23    CA  01/16/2020  01/22/2020          0          0   \n2020-01-23     2020-01-23    WY  01/16/2020  01/22/2020          0          0   \n2020-01-23     2020-01-23    NH  01/16/2020  01/22/2020          0          0   \n2020-01-23     2020-01-23    MT  01/16/2020  01/22/2020          0          0   \n...                   ...   ...         ...         ...        ...        ...   \n2022-12-29     2022-12-29   FSM  12/22/2022  12/28/2022      22069         21   \n2022-12-29     2022-12-29    PR  12/22/2022  12/28/2022    1049438       8652   \n2022-12-29     2022-12-29    PW  12/22/2022  12/28/2022       5968         13   \n2022-12-29     2022-12-29    AL  12/22/2022  12/28/2022    1573637       4703   \n2022-12-29     2022-12-29    AK  12/22/2022  12/28/2022     288123        332   \n\n              tot_deaths  new_deaths  new_historic_cases  new_historic_deaths  \ndate_updated                                                                   \n2020-01-23             0           0                   0                    0  \n2020-01-23             0           0                   0                    0  \n2020-01-23             0           0                   0                    0  \n2020-01-23             0           0                   0                    0  \n2020-01-23             0           0                   0                    0  \n...                  ...         ...                 ...                  ...  \n2022-12-29            58           0                   0                    0  \n2022-12-29          5519          29                   0                    0  \n2022-12-29             9           0                   0                    0  \n2022-12-29         20757          20                   0                    0  \n2022-12-29          1418           0                   0                    0  \n\n[9240 rows x 10 columns]",
      "text/html": "<div>\n<style scoped>\n    .dataframe tbody tr th:only-of-type {\n        vertical-align: middle;\n    }\n\n    .dataframe tbody tr th {\n        vertical-align: top;\n    }\n\n    .dataframe thead th {\n        text-align: right;\n    }\n</style>\n<table border=\"1\" class=\"dataframe\">\n  <thead>\n    <tr style=\"text-align: right;\">\n      <th></th>\n      <th>date_updated</th>\n      <th>state</th>\n      <th>start_date</th>\n      <th>end_date</th>\n      <th>tot_cases</th>\n      <th>new_cases</th>\n      <th>tot_deaths</th>\n      <th>new_deaths</th>\n      <th>new_historic_cases</th>\n      <th>new_historic_deaths</th>\n    </tr>\n    <tr>\n      <th>date_updated</th>\n      <th></th>\n      <th></th>\n      <th></th>\n      <th></th>\n      <th></th>\n      <th></th>\n      <th></th>\n      <th></th>\n      <th></th>\n      <th></th>\n    </tr>\n  </thead>\n  <tbody>\n    <tr>\n      <th>2020-01-23</th>\n      <td>2020-01-23</td>\n      <td>GA</td>\n      <td>01/16/2020</td>\n      <td>01/22/2020</td>\n      <td>0</td>\n      <td>0</td>\n      <td>0</td>\n      <td>0</td>\n      <td>0</td>\n      <td>0</td>\n    </tr>\n    <tr>\n      <th>2020-01-23</th>\n      <td>2020-01-23</td>\n      <td>CA</td>\n      <td>01/16/2020</td>\n      <td>01/22/2020</td>\n      <td>0</td>\n      <td>0</td>\n      <td>0</td>\n      <td>0</td>\n      <td>0</td>\n      <td>0</td>\n    </tr>\n    <tr>\n      <th>2020-01-23</th>\n      <td>2020-01-23</td>\n      <td>WY</td>\n      <td>01/16/2020</td>\n      <td>01/22/2020</td>\n      <td>0</td>\n      <td>0</td>\n      <td>0</td>\n      <td>0</td>\n      <td>0</td>\n      <td>0</td>\n    </tr>\n    <tr>\n      <th>2020-01-23</th>\n      <td>2020-01-23</td>\n      <td>NH</td>\n      <td>01/16/2020</td>\n      <td>01/22/2020</td>\n      <td>0</td>\n      <td>0</td>\n      <td>0</td>\n      <td>0</td>\n      <td>0</td>\n      <td>0</td>\n    </tr>\n    <tr>\n      <th>2020-01-23</th>\n      <td>2020-01-23</td>\n      <td>MT</td>\n      <td>01/16/2020</td>\n      <td>01/22/2020</td>\n      <td>0</td>\n      <td>0</td>\n      <td>0</td>\n      <td>0</td>\n      <td>0</td>\n      <td>0</td>\n    </tr>\n    <tr>\n      <th>...</th>\n      <td>...</td>\n      <td>...</td>\n      <td>...</td>\n      <td>...</td>\n      <td>...</td>\n      <td>...</td>\n      <td>...</td>\n      <td>...</td>\n      <td>...</td>\n      <td>...</td>\n    </tr>\n    <tr>\n      <th>2022-12-29</th>\n      <td>2022-12-29</td>\n      <td>FSM</td>\n      <td>12/22/2022</td>\n      <td>12/28/2022</td>\n      <td>22069</td>\n      <td>21</td>\n      <td>58</td>\n      <td>0</td>\n      <td>0</td>\n      <td>0</td>\n    </tr>\n    <tr>\n      <th>2022-12-29</th>\n      <td>2022-12-29</td>\n      <td>PR</td>\n      <td>12/22/2022</td>\n      <td>12/28/2022</td>\n      <td>1049438</td>\n      <td>8652</td>\n      <td>5519</td>\n      <td>29</td>\n      <td>0</td>\n      <td>0</td>\n    </tr>\n    <tr>\n      <th>2022-12-29</th>\n      <td>2022-12-29</td>\n      <td>PW</td>\n      <td>12/22/2022</td>\n      <td>12/28/2022</td>\n      <td>5968</td>\n      <td>13</td>\n      <td>9</td>\n      <td>0</td>\n      <td>0</td>\n      <td>0</td>\n    </tr>\n    <tr>\n      <th>2022-12-29</th>\n      <td>2022-12-29</td>\n      <td>AL</td>\n      <td>12/22/2022</td>\n      <td>12/28/2022</td>\n      <td>1573637</td>\n      <td>4703</td>\n      <td>20757</td>\n      <td>20</td>\n      <td>0</td>\n      <td>0</td>\n    </tr>\n    <tr>\n      <th>2022-12-29</th>\n      <td>2022-12-29</td>\n      <td>AK</td>\n      <td>12/22/2022</td>\n      <td>12/28/2022</td>\n      <td>288123</td>\n      <td>332</td>\n      <td>1418</td>\n      <td>0</td>\n      <td>0</td>\n      <td>0</td>\n    </tr>\n  </tbody>\n</table>\n<p>9240 rows × 10 columns</p>\n</div>"
     },
     "execution_count": 22,
     "metadata": {},
     "output_type": "execute_result"
    }
   ],
   "source": [
    "df"
   ],
   "metadata": {
    "collapsed": false,
    "pycharm": {
     "name": "#%%\n"
    }
   }
  },
  {
   "cell_type": "code",
   "execution_count": 23,
   "outputs": [],
   "source": [
    "df_political = pd.read_csv('data/political_data.csv', header = 0, index_col = 0)\n",
    "state_control = []\n",
    "for col in df_political.columns:\n",
    "\n",
    "    if 'Unnamed: ' in col:\n",
    "        if int(col.split(sep='Unnamed:')[1]) % 3 == 0:\n",
    "            state_control.append(col)\n",
    "\n",
    "df_political = df_political[state_control]\n",
    "df_political.columns = [str(i) for i in range(2017, 2024)]\n",
    "df_political.drop(['State_Code'], axis=0, inplace = True) #.to_csv('data/cleaned_political_data.csv')\n",
    "df_political = df_political.reset_index().rename(columns = {'index': 'State Code'})\n",
    "# df_political = pd.read_csv('data/cleaned_political_data.csv')\n",
    "df_political = df_political.melt(id_vars = 'State Code', value_vars = [str(i) for i in range(2017, 2024)])\n",
    "df_political = df_political.rename(columns = {'variable': 'Time Trend', 'value': 'Unity'})\n",
    "df_political.to_csv('data/cleaned_political_data.csv', index = False)"
   ],
   "metadata": {
    "collapsed": false,
    "pycharm": {
     "name": "#%%\n"
    }
   }
  },
  {
   "cell_type": "code",
   "execution_count": 24,
   "outputs": [
    {
     "data": {
      "text/plain": "    State Code Time Trend    Unity\n0           AL       2017      Rep\n1           AK       2017  Divided\n2           AZ       2017      Rep\n3           AR       2017      Rep\n4           CA       2017      Dem\n..         ...        ...      ...\n345         VA       2023  Divided\n346         WA       2023      Dem\n347         WV       2023      Rep\n348         WI       2023  Divided\n349         WY       2023      Rep\n\n[350 rows x 3 columns]",
      "text/html": "<div>\n<style scoped>\n    .dataframe tbody tr th:only-of-type {\n        vertical-align: middle;\n    }\n\n    .dataframe tbody tr th {\n        vertical-align: top;\n    }\n\n    .dataframe thead th {\n        text-align: right;\n    }\n</style>\n<table border=\"1\" class=\"dataframe\">\n  <thead>\n    <tr style=\"text-align: right;\">\n      <th></th>\n      <th>State Code</th>\n      <th>Time Trend</th>\n      <th>Unity</th>\n    </tr>\n  </thead>\n  <tbody>\n    <tr>\n      <th>0</th>\n      <td>AL</td>\n      <td>2017</td>\n      <td>Rep</td>\n    </tr>\n    <tr>\n      <th>1</th>\n      <td>AK</td>\n      <td>2017</td>\n      <td>Divided</td>\n    </tr>\n    <tr>\n      <th>2</th>\n      <td>AZ</td>\n      <td>2017</td>\n      <td>Rep</td>\n    </tr>\n    <tr>\n      <th>3</th>\n      <td>AR</td>\n      <td>2017</td>\n      <td>Rep</td>\n    </tr>\n    <tr>\n      <th>4</th>\n      <td>CA</td>\n      <td>2017</td>\n      <td>Dem</td>\n    </tr>\n    <tr>\n      <th>...</th>\n      <td>...</td>\n      <td>...</td>\n      <td>...</td>\n    </tr>\n    <tr>\n      <th>345</th>\n      <td>VA</td>\n      <td>2023</td>\n      <td>Divided</td>\n    </tr>\n    <tr>\n      <th>346</th>\n      <td>WA</td>\n      <td>2023</td>\n      <td>Dem</td>\n    </tr>\n    <tr>\n      <th>347</th>\n      <td>WV</td>\n      <td>2023</td>\n      <td>Rep</td>\n    </tr>\n    <tr>\n      <th>348</th>\n      <td>WI</td>\n      <td>2023</td>\n      <td>Divided</td>\n    </tr>\n    <tr>\n      <th>349</th>\n      <td>WY</td>\n      <td>2023</td>\n      <td>Rep</td>\n    </tr>\n  </tbody>\n</table>\n<p>350 rows × 3 columns</p>\n</div>"
     },
     "execution_count": 24,
     "metadata": {},
     "output_type": "execute_result"
    }
   ],
   "source": [
    "df_political"
   ],
   "metadata": {
    "collapsed": false,
    "pycharm": {
     "name": "#%%\n"
    }
   }
  },
  {
   "cell_type": "code",
   "execution_count": 24,
   "outputs": [],
   "source": [],
   "metadata": {
    "collapsed": false,
    "pycharm": {
     "name": "#%%\n"
    }
   }
  },
  {
   "cell_type": "code",
   "execution_count": 24,
   "outputs": [],
   "source": [],
   "metadata": {
    "collapsed": false,
    "pycharm": {
     "name": "#%%\n"
    }
   }
  }
 ],
 "metadata": {
  "kernelspec": {
   "display_name": "Python 3",
   "language": "python",
   "name": "python3"
  },
  "language_info": {
   "codemirror_mode": {
    "name": "ipython",
    "version": 2
   },
   "file_extension": ".py",
   "mimetype": "text/x-python",
   "name": "python",
   "nbconvert_exporter": "python",
   "pygments_lexer": "ipython2",
   "version": "2.7.6"
  }
 },
 "nbformat": 4,
 "nbformat_minor": 0
}