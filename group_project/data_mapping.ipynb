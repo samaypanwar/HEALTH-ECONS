{
 "cells": [
  {
   "cell_type": "code",
   "execution_count": 1,
   "metadata": {
    "collapsed": true,
    "pycharm": {
     "name": "#%%\n"
    }
   },
   "outputs": [
    {
     "name": "stdout",
     "output_type": "stream",
     "text": [
      "/Users/samaypanwar/storage/University/Y4S2/HEALTH ECONS/group_project\n"
     ]
    }
   ],
   "source": [
    "%load_ext autoreload\n",
    "%autoreload 2\n",
    "\n",
    "# Author: Samay Panwar\n",
    "# Date: March 2023\n",
    "import os\n",
    "import pandas as pd\n",
    "import numpy as np\n",
    "\n",
    "path_parent = os.path.dirname(os.getcwd())\n",
    "\n",
    "print(os.getcwd())\n",
    "\n",
    "import matplotlib.pyplot as plt\n",
    "\n",
    "plt.style.use('seaborn-v0_8')\n",
    "plt.rcParams.update({'font.family': 'Times New Roman'})\n",
    "plt.rcParams.update({'axes.grid': True, 'axes.linewidth': 0.5, 'axes.edgecolor': 'black'})\n",
    "\n"
   ]
  },
  {
   "cell_type": "markdown",
   "source": [
    "## 1. Cleaning Medical Premium Data"
   ],
   "metadata": {
    "collapsed": false,
    "pycharm": {
     "name": "#%% md\n"
    }
   }
  },
  {
   "cell_type": "code",
   "execution_count": 2,
   "outputs": [],
   "source": [
    "import polars as pl"
   ],
   "metadata": {
    "collapsed": false,
    "pycharm": {
     "name": "#%%\n"
    }
   }
  },
  {
   "cell_type": "code",
   "execution_count": 3,
   "outputs": [
    {
     "name": "stdout",
     "output_type": "stream",
     "text": [
      "shape: (5, 8)\n",
      "┌──────────┬────────────┬───────────┬───────────┬───────────┬────────────┬────────────┬────────────┐\n",
      "│ State    ┆ FIPS       ┆ County    ┆ Metal     ┆ Issuer    ┆ Premium    ┆ Medical    ┆ Medical    │\n",
      "│ Code     ┆ County     ┆ Name      ┆ Level     ┆ Name      ┆ Adult      ┆ Deductible ┆ Maximum    │\n",
      "│ ---      ┆ Code       ┆ ---       ┆ ---       ┆ ---       ┆ Individual ┆ -          ┆ Out Of     │\n",
      "│ str      ┆ ---        ┆ str       ┆ str       ┆ str       ┆ Age 21     ┆ Individual ┆ Pocket -   │\n",
      "│          ┆ i64        ┆           ┆           ┆           ┆ ---        ┆ ...        ┆ ...        │\n",
      "│          ┆            ┆           ┆           ┆           ┆ str        ┆ ---        ┆ ---        │\n",
      "│          ┆            ┆           ┆           ┆           ┆            ┆ str        ┆ str        │\n",
      "╞══════════╪════════════╪═══════════╪═══════════╪═══════════╪════════════╪════════════╪════════════╡\n",
      "│ AK       ┆ 2013       ┆ Aleutians ┆ Gold      ┆ Premera   ┆ $491.74    ┆ $1,500     ┆ $6,300     │\n",
      "│          ┆            ┆ East      ┆           ┆ Blue      ┆            ┆            ┆            │\n",
      "│          ┆            ┆           ┆           ┆ Cross     ┆            ┆            ┆            │\n",
      "│          ┆            ┆           ┆           ┆ Blue      ┆            ┆            ┆            │\n",
      "│          ┆            ┆           ┆           ┆ Shield    ┆            ┆            ┆            │\n",
      "│          ┆            ┆           ┆           ┆ o...      ┆            ┆            ┆            │\n",
      "│ AK       ┆ 2013       ┆ Aleutians ┆ Silver    ┆ Premera   ┆ $566.02    ┆ $4,500     ┆ $7,700     │\n",
      "│          ┆            ┆ East      ┆           ┆ Blue      ┆            ┆            ┆            │\n",
      "│          ┆            ┆           ┆           ┆ Cross     ┆            ┆            ┆            │\n",
      "│          ┆            ┆           ┆           ┆ Blue      ┆            ┆            ┆            │\n",
      "│          ┆            ┆           ┆           ┆ Shield    ┆            ┆            ┆            │\n",
      "│          ┆            ┆           ┆           ┆ o...      ┆            ┆            ┆            │\n",
      "│ AK       ┆ 2013       ┆ Aleutians ┆ Expanded  ┆ Premera   ┆ $374.36    ┆ $6,350     ┆ $8,550     │\n",
      "│          ┆            ┆ East      ┆ Bronze    ┆ Blue      ┆            ┆            ┆            │\n",
      "│          ┆            ┆           ┆           ┆ Cross     ┆            ┆            ┆            │\n",
      "│          ┆            ┆           ┆           ┆ Blue      ┆            ┆            ┆            │\n",
      "│          ┆            ┆           ┆           ┆ Shield    ┆            ┆            ┆            │\n",
      "│          ┆            ┆           ┆           ┆ o...      ┆            ┆            ┆            │\n",
      "│ AK       ┆ 2013       ┆ Aleutians ┆ Silver    ┆ Premera   ┆ $574.56    ┆ $3,000     ┆ $7,000     │\n",
      "│          ┆            ┆ East      ┆           ┆ Blue      ┆            ┆            ┆            │\n",
      "│          ┆            ┆           ┆           ┆ Cross     ┆            ┆            ┆            │\n",
      "│          ┆            ┆           ┆           ┆ Blue      ┆            ┆            ┆            │\n",
      "│          ┆            ┆           ┆           ┆ Shield    ┆            ┆            ┆            │\n",
      "│          ┆            ┆           ┆           ┆ o...      ┆            ┆            ┆            │\n",
      "│ AK       ┆ 2013       ┆ Aleutians ┆ Expanded  ┆ Premera   ┆ $372.85    ┆ $5,800     ┆ $7,000     │\n",
      "│          ┆            ┆ East      ┆ Bronze    ┆ Blue      ┆            ┆            ┆            │\n",
      "│          ┆            ┆           ┆           ┆ Cross     ┆            ┆            ┆            │\n",
      "│          ┆            ┆           ┆           ┆ Blue      ┆            ┆            ┆            │\n",
      "│          ┆            ┆           ┆           ┆ Shield    ┆            ┆            ┆            │\n",
      "│          ┆            ┆           ┆           ┆ o...      ┆            ┆            ┆            │\n",
      "└──────────┴────────────┴───────────┴───────────┴───────────┴────────────┴────────────┴────────────┘\n"
     ]
    }
   ],
   "source": [
    "%timeit\n",
    "df = pl.read_csv(\"data/raw/Individual_Market_Medical.csv\")\n",
    "\n",
    "columns_needed = [\n",
    "        'State Code','FIPS County Code', 'County Name', 'Metal Level', 'Issuer Name', 'Premium Adult Individual Age 21','Medical Deductible - Individual - Standard', 'Medical Maximum Out Of Pocket - Individual - Standard'\n",
    "        ]\n",
    "df = df.select(columns_needed)\n",
    "df = df.filter(pl.col(\"Issuer Name\").str.contains(r\"Blue\"))\n",
    "print(df.head())\n",
    "df.write_csv('data/clean/2022.csv')"
   ],
   "metadata": {
    "collapsed": false,
    "pycharm": {
     "name": "#%%\n"
    }
   }
  },
  {
   "cell_type": "code",
   "execution_count": 4,
   "outputs": [
    {
     "name": "stdout",
     "output_type": "stream",
     "text": [
      "shape: (19238, 8)\n",
      "┌──────────┬────────────┬───────────┬───────────┬───────────┬────────────┬────────────┬────────────┐\n",
      "│ State    ┆ FIPS       ┆ County    ┆ Metal     ┆ Issuer    ┆ Premium    ┆ Medical    ┆ Medical    │\n",
      "│ Code     ┆ County     ┆ Name      ┆ Level     ┆ Name      ┆ Adult      ┆ Deductible ┆ Maximum    │\n",
      "│ ---      ┆ Code       ┆ ---       ┆ ---       ┆ ---       ┆ Individual ┆ -          ┆ Out Of     │\n",
      "│ str      ┆ ---        ┆ str       ┆ str       ┆ str       ┆ Age 21     ┆ Individual ┆ Pocket -   │\n",
      "│          ┆ i64        ┆           ┆           ┆           ┆ ---        ┆ ...        ┆ ...        │\n",
      "│          ┆            ┆           ┆           ┆           ┆ str        ┆ ---        ┆ ---        │\n",
      "│          ┆            ┆           ┆           ┆           ┆            ┆ str        ┆ str        │\n",
      "╞══════════╪════════════╪═══════════╪═══════════╪═══════════╪════════════╪════════════╪════════════╡\n",
      "│ AK       ┆ 2013       ┆ Aleutians ┆ Gold      ┆ Premera   ┆ $488.00    ┆ $1,500     ┆ $6,000     │\n",
      "│          ┆            ┆ East      ┆           ┆ Blue      ┆            ┆            ┆            │\n",
      "│          ┆            ┆           ┆           ┆ Cross     ┆            ┆            ┆            │\n",
      "│          ┆            ┆           ┆           ┆ Blue      ┆            ┆            ┆            │\n",
      "│          ┆            ┆           ┆           ┆ Shield    ┆            ┆            ┆            │\n",
      "│          ┆            ┆           ┆           ┆ o...      ┆            ┆            ┆            │\n",
      "│ AK       ┆ 2013       ┆ Aleutians ┆ Silver    ┆ Premera   ┆ $543.00    ┆ $4,500     ┆ $7,350     │\n",
      "│          ┆            ┆ East      ┆           ┆ Blue      ┆            ┆            ┆            │\n",
      "│          ┆            ┆           ┆           ┆ Cross     ┆            ┆            ┆            │\n",
      "│          ┆            ┆           ┆           ┆ Blue      ┆            ┆            ┆            │\n",
      "│          ┆            ┆           ┆           ┆ Shield    ┆            ┆            ┆            │\n",
      "│          ┆            ┆           ┆           ┆ o...      ┆            ┆            ┆            │\n",
      "│ AK       ┆ 2013       ┆ Aleutians ┆ Expanded  ┆ Premera   ┆ $362.00    ┆ $6,350     ┆ $8,400     │\n",
      "│          ┆            ┆ East      ┆ Bronze    ┆ Blue      ┆            ┆            ┆            │\n",
      "│          ┆            ┆           ┆           ┆ Cross     ┆            ┆            ┆            │\n",
      "│          ┆            ┆           ┆           ┆ Blue      ┆            ┆            ┆            │\n",
      "│          ┆            ┆           ┆           ┆ Shield    ┆            ┆            ┆            │\n",
      "│          ┆            ┆           ┆           ┆ o...      ┆            ┆            ┆            │\n",
      "│ AK       ┆ 2013       ┆ Aleutians ┆ Silver    ┆ Premera   ┆ $541.00    ┆ $3,000     ┆ $6,600     │\n",
      "│          ┆            ┆ East      ┆           ┆ Blue      ┆            ┆            ┆            │\n",
      "│          ┆            ┆           ┆           ┆ Cross     ┆            ┆            ┆            │\n",
      "│          ┆            ┆           ┆           ┆ Blue      ┆            ┆            ┆            │\n",
      "│          ┆            ┆           ┆           ┆ Shield    ┆            ┆            ┆            │\n",
      "│          ┆            ┆           ┆           ┆ o...      ┆            ┆            ┆            │\n",
      "│ ...      ┆ ...        ┆ ...       ┆ ...       ┆ ...       ┆ ...        ┆ ...        ┆ ...        │\n",
      "│ WY       ┆ 56045      ┆ Weston    ┆ Silver    ┆ Blue      ┆ $625.07    ┆ $6,000     ┆ $8,550     │\n",
      "│          ┆            ┆           ┆           ┆ Cross     ┆            ┆            ┆            │\n",
      "│          ┆            ┆           ┆           ┆ Blue      ┆            ┆            ┆            │\n",
      "│          ┆            ┆           ┆           ┆ Shield of ┆            ┆            ┆            │\n",
      "│          ┆            ┆           ┆           ┆ Wyomin... ┆            ┆            ┆            │\n",
      "│ WY       ┆ 56045      ┆ Weston    ┆ Gold      ┆ Blue      ┆ $520.23    ┆ $2,000     ┆ $8,550     │\n",
      "│          ┆            ┆           ┆           ┆ Cross     ┆            ┆            ┆            │\n",
      "│          ┆            ┆           ┆           ┆ Blue      ┆            ┆            ┆            │\n",
      "│          ┆            ┆           ┆           ┆ Shield of ┆            ┆            ┆            │\n",
      "│          ┆            ┆           ┆           ┆ Wyomin... ┆            ┆            ┆            │\n",
      "│ WY       ┆ 56045      ┆ Weston    ┆ Gold      ┆ Blue      ┆ $510.05    ┆ $1,500     ┆ $7,000     │\n",
      "│          ┆            ┆           ┆           ┆ Cross     ┆            ┆            ┆            │\n",
      "│          ┆            ┆           ┆           ┆ Blue      ┆            ┆            ┆            │\n",
      "│          ┆            ┆           ┆           ┆ Shield of ┆            ┆            ┆            │\n",
      "│          ┆            ┆           ┆           ┆ Wyomin... ┆            ┆            ┆            │\n",
      "│ WY       ┆ 56045      ┆ Weston    ┆ Bronze    ┆ Blue      ┆ $410.76    ┆ $8,550     ┆ $8,550     │\n",
      "│          ┆            ┆           ┆           ┆ Cross     ┆            ┆            ┆            │\n",
      "│          ┆            ┆           ┆           ┆ Blue      ┆            ┆            ┆            │\n",
      "│          ┆            ┆           ┆           ┆ Shield of ┆            ┆            ┆            │\n",
      "│          ┆            ┆           ┆           ┆ Wyomin... ┆            ┆            ┆            │\n",
      "└──────────┴────────────┴───────────┴───────────┴───────────┴────────────┴────────────┴────────────┘\n"
     ]
    }
   ],
   "source": [
    "%timeit\n",
    "df = pl.read_csv(\"data/raw/Individual_Market_Medical_08_04_2021.csv\")\n",
    "\n",
    "columns_needed = [\n",
    "        'State Code','FIPS County Code', 'County Name', 'Metal Level', 'Issuer Name', 'Premium Adult Individual Age 21','Medical Deductible - Individual - Standard', 'Medical Maximum Out Of Pocket - Individual - Standard'\n",
    "        ]\n",
    "df = df.select(columns_needed)\n",
    "df = df.filter(pl.col(\"Issuer Name\").str.contains(r\"Blue\"))\n",
    "print(df)\n",
    "df.write_csv('data/clean/2021.csv')"
   ],
   "metadata": {
    "collapsed": false,
    "pycharm": {
     "name": "#%%\n"
    }
   }
  },
  {
   "cell_type": "code",
   "execution_count": 5,
   "outputs": [
    {
     "name": "stdout",
     "output_type": "stream",
     "text": [
      "shape: (17100, 8)\n",
      "┌──────────┬────────────┬───────────┬───────────┬───────────┬────────────┬────────────┬────────────┐\n",
      "│ State    ┆ FIPS       ┆ County    ┆ Metal     ┆ Issuer    ┆ Premium    ┆ Medical    ┆ Medical    │\n",
      "│ Code     ┆ County     ┆ Name      ┆ Level     ┆ Name      ┆ Adult      ┆ Deductible ┆ Maximum    │\n",
      "│ ---      ┆ Code       ┆ ---       ┆ ---       ┆ ---       ┆ Individual ┆ -          ┆ Out Of     │\n",
      "│ str      ┆ ---        ┆ str       ┆ str       ┆ str       ┆ Age 21     ┆ Individual ┆ Pocket -   │\n",
      "│          ┆ i64        ┆           ┆           ┆           ┆ ---        ┆ ...        ┆ ...        │\n",
      "│          ┆            ┆           ┆           ┆           ┆ str        ┆ ---        ┆ ---        │\n",
      "│          ┆            ┆           ┆           ┆           ┆            ┆ str        ┆ str        │\n",
      "╞══════════╪════════════╪═══════════╪═══════════╪═══════════╪════════════╪════════════╪════════════╡\n",
      "│ AK       ┆ 2013       ┆ Aleutians ┆ Gold      ┆ Premera   ┆ $528.00    ┆ $1,500     ┆ $6,000     │\n",
      "│          ┆            ┆ East      ┆           ┆ Blue      ┆            ┆            ┆            │\n",
      "│          ┆            ┆           ┆           ┆ Cross     ┆            ┆            ┆            │\n",
      "│          ┆            ┆           ┆           ┆ Blue      ┆            ┆            ┆            │\n",
      "│          ┆            ┆           ┆           ┆ Shield    ┆            ┆            ┆            │\n",
      "│          ┆            ┆           ┆           ┆ o...      ┆            ┆            ┆            │\n",
      "│ AK       ┆ 2013       ┆ Aleutians ┆ Silver    ┆ Premera   ┆ $582.00    ┆ $4,500     ┆ $7,350     │\n",
      "│          ┆            ┆ East      ┆           ┆ Blue      ┆            ┆            ┆            │\n",
      "│          ┆            ┆           ┆           ┆ Cross     ┆            ┆            ┆            │\n",
      "│          ┆            ┆           ┆           ┆ Blue      ┆            ┆            ┆            │\n",
      "│          ┆            ┆           ┆           ┆ Shield    ┆            ┆            ┆            │\n",
      "│          ┆            ┆           ┆           ┆ o...      ┆            ┆            ┆            │\n",
      "│ AK       ┆ 2013       ┆ Aleutians ┆ Expanded  ┆ Premera   ┆ $391.00    ┆ $6,350     ┆ $7,800     │\n",
      "│          ┆            ┆ East      ┆ Bronze    ┆ Blue      ┆            ┆            ┆            │\n",
      "│          ┆            ┆           ┆           ┆ Cross     ┆            ┆            ┆            │\n",
      "│          ┆            ┆           ┆           ┆ Blue      ┆            ┆            ┆            │\n",
      "│          ┆            ┆           ┆           ┆ Shield    ┆            ┆            ┆            │\n",
      "│          ┆            ┆           ┆           ┆ o...      ┆            ┆            ┆            │\n",
      "│ AK       ┆ 2013       ┆ Aleutians ┆ Silver    ┆ Premera   ┆ $577.00    ┆ $3,000     ┆ $6,600     │\n",
      "│          ┆            ┆ East      ┆           ┆ Blue      ┆            ┆            ┆            │\n",
      "│          ┆            ┆           ┆           ┆ Cross     ┆            ┆            ┆            │\n",
      "│          ┆            ┆           ┆           ┆ Blue      ┆            ┆            ┆            │\n",
      "│          ┆            ┆           ┆           ┆ Shield    ┆            ┆            ┆            │\n",
      "│          ┆            ┆           ┆           ┆ o...      ┆            ┆            ┆            │\n",
      "│ ...      ┆ ...        ┆ ...       ┆ ...       ┆ ...       ┆ ...        ┆ ...        ┆ ...        │\n",
      "│ WY       ┆ 56045      ┆ Weston    ┆ Bronze    ┆ Blue      ┆ $491.19    ┆ $6,000     ┆ $7,900     │\n",
      "│          ┆            ┆           ┆           ┆ Cross     ┆            ┆            ┆            │\n",
      "│          ┆            ┆           ┆           ┆ Blue      ┆            ┆            ┆            │\n",
      "│          ┆            ┆           ┆           ┆ Shield of ┆            ┆            ┆            │\n",
      "│          ┆            ┆           ┆           ┆ Wyomin... ┆            ┆            ┆            │\n",
      "│ WY       ┆ 56045      ┆ Weston    ┆ Bronze    ┆ Blue      ┆ $495.06    ┆ $7,900     ┆ $7,900     │\n",
      "│          ┆            ┆           ┆           ┆ Cross     ┆            ┆            ┆            │\n",
      "│          ┆            ┆           ┆           ┆ Blue      ┆            ┆            ┆            │\n",
      "│          ┆            ┆           ┆           ┆ Shield of ┆            ┆            ┆            │\n",
      "│          ┆            ┆           ┆           ┆ Wyomin... ┆            ┆            ┆            │\n",
      "│ WY       ┆ 56045      ┆ Weston    ┆ Silver    ┆ Blue      ┆ $692.08    ┆ $6,000     ┆ $7,900     │\n",
      "│          ┆            ┆           ┆           ┆ Cross     ┆            ┆            ┆            │\n",
      "│          ┆            ┆           ┆           ┆ Blue      ┆            ┆            ┆            │\n",
      "│          ┆            ┆           ┆           ┆ Shield of ┆            ┆            ┆            │\n",
      "│          ┆            ┆           ┆           ┆ Wyomin... ┆            ┆            ┆            │\n",
      "│ WY       ┆ 56045      ┆ Weston    ┆ Gold      ┆ Blue      ┆ $578.83    ┆ $2,000     ┆ $7,900     │\n",
      "│          ┆            ┆           ┆           ┆ Cross     ┆            ┆            ┆            │\n",
      "│          ┆            ┆           ┆           ┆ Blue      ┆            ┆            ┆            │\n",
      "│          ┆            ┆           ┆           ┆ Shield of ┆            ┆            ┆            │\n",
      "│          ┆            ┆           ┆           ┆ Wyomin... ┆            ┆            ┆            │\n",
      "└──────────┴────────────┴───────────┴───────────┴───────────┴────────────┴────────────┴────────────┘\n"
     ]
    }
   ],
   "source": [
    "%timeit\n",
    "df = pl.read_csv(\"data/raw/Individual_Market_Medical_07_27_2020.csv\")\n",
    "\n",
    "columns_needed = [\n",
    "        'State Code','FIPS County Code', 'County Name', 'Metal Level', 'Issuer Name', 'Premium Adult Individual Age 21','Medical Deductible - Individual - Standard', 'Medical Maximum Out Of Pocket - Individual - Standard'\n",
    "        ]\n",
    "df = df.select(columns_needed)\n",
    "df = df.filter(pl.col(\"Issuer Name\").str.contains(r\"Blue\"))\n",
    "print(df)\n",
    "df.write_csv('data/clean/2020.csv')"
   ],
   "metadata": {
    "collapsed": false,
    "pycharm": {
     "name": "#%%\n"
    }
   }
  },
  {
   "cell_type": "code",
   "execution_count": 6,
   "outputs": [
    {
     "name": "stdout",
     "output_type": "stream",
     "text": [
      "shape: (11946, 8)\n",
      "┌──────────┬────────────┬───────────┬───────────┬───────────┬────────────┬────────────┬────────────┐\n",
      "│ State    ┆ FIPS       ┆ County    ┆ Metal     ┆ Issuer    ┆ Premium    ┆ Medical    ┆ Medical    │\n",
      "│ Code     ┆ County     ┆ Name      ┆ Level     ┆ Name      ┆ Adult      ┆ Deductible ┆ Maximum    │\n",
      "│ ---      ┆ Code       ┆ ---       ┆ ---       ┆ ---       ┆ Individual ┆ -          ┆ Out Of     │\n",
      "│ str      ┆ ---        ┆ str       ┆ str       ┆ str       ┆ Age 21     ┆ Individual ┆ Pocket -   │\n",
      "│          ┆ i64        ┆           ┆           ┆           ┆ ---        ┆ ...        ┆ ...        │\n",
      "│          ┆            ┆           ┆           ┆           ┆ str        ┆ ---        ┆ ---        │\n",
      "│          ┆            ┆           ┆           ┆           ┆            ┆ str        ┆ str        │\n",
      "╞══════════╪════════════╪═══════════╪═══════════╪═══════════╪════════════╪════════════╪════════════╡\n",
      "│ AK       ┆ 2013       ┆ Aleutians ┆ Gold      ┆ Premera   ┆ $539.00    ┆ $1,500     ┆ $6,000     │\n",
      "│          ┆            ┆ East      ┆           ┆ Blue      ┆            ┆            ┆            │\n",
      "│          ┆            ┆           ┆           ┆ Cross     ┆            ┆            ┆            │\n",
      "│          ┆            ┆           ┆           ┆ Blue      ┆            ┆            ┆            │\n",
      "│          ┆            ┆           ┆           ┆ Shield    ┆            ┆            ┆            │\n",
      "│          ┆            ┆           ┆           ┆ o...      ┆            ┆            ┆            │\n",
      "│ AK       ┆ 2013       ┆ Aleutians ┆ Silver    ┆ Premera   ┆ $572.00    ┆ $4,500     ┆ $7,350     │\n",
      "│          ┆            ┆ East      ┆           ┆ Blue      ┆            ┆            ┆            │\n",
      "│          ┆            ┆           ┆           ┆ Cross     ┆            ┆            ┆            │\n",
      "│          ┆            ┆           ┆           ┆ Blue      ┆            ┆            ┆            │\n",
      "│          ┆            ┆           ┆           ┆ Shield    ┆            ┆            ┆            │\n",
      "│          ┆            ┆           ┆           ┆ o...      ┆            ┆            ┆            │\n",
      "│ AK       ┆ 2013       ┆ Aleutians ┆ Bronze    ┆ Premera   ┆ $379.00    ┆ $6,350     ┆ $7,800     │\n",
      "│          ┆            ┆ East      ┆           ┆ Blue      ┆            ┆            ┆            │\n",
      "│          ┆            ┆           ┆           ┆ Cross     ┆            ┆            ┆            │\n",
      "│          ┆            ┆           ┆           ┆ Blue      ┆            ┆            ┆            │\n",
      "│          ┆            ┆           ┆           ┆ Shield    ┆            ┆            ┆            │\n",
      "│          ┆            ┆           ┆           ┆ o...      ┆            ┆            ┆            │\n",
      "│ AK       ┆ 2013       ┆ Aleutians ┆ Silver    ┆ Premera   ┆ $564.00    ┆ $3,000     ┆ $6,600     │\n",
      "│          ┆            ┆ East      ┆           ┆ Blue      ┆            ┆            ┆            │\n",
      "│          ┆            ┆           ┆           ┆ Cross     ┆            ┆            ┆            │\n",
      "│          ┆            ┆           ┆           ┆ Blue      ┆            ┆            ┆            │\n",
      "│          ┆            ┆           ┆           ┆ Shield    ┆            ┆            ┆            │\n",
      "│          ┆            ┆           ┆           ┆ o...      ┆            ┆            ┆            │\n",
      "│ ...      ┆ ...        ┆ ...       ┆ ...       ┆ ...       ┆ ...        ┆ ...        ┆ ...        │\n",
      "│ WY       ┆ 56045      ┆ Weston    ┆ Bronze    ┆ Blue      ┆ $480.27    ┆ $6,000     ┆ $7,900     │\n",
      "│          ┆            ┆           ┆           ┆ Cross     ┆            ┆            ┆            │\n",
      "│          ┆            ┆           ┆           ┆ Blue      ┆            ┆            ┆            │\n",
      "│          ┆            ┆           ┆           ┆ Shield of ┆            ┆            ┆            │\n",
      "│          ┆            ┆           ┆           ┆ Wyomin... ┆            ┆            ┆            │\n",
      "│ WY       ┆ 56045      ┆ Weston    ┆ Bronze    ┆ Blue      ┆ $483.68    ┆ $7,900     ┆ $7,900     │\n",
      "│          ┆            ┆           ┆           ┆ Cross     ┆            ┆            ┆            │\n",
      "│          ┆            ┆           ┆           ┆ Blue      ┆            ┆            ┆            │\n",
      "│          ┆            ┆           ┆           ┆ Shield of ┆            ┆            ┆            │\n",
      "│          ┆            ┆           ┆           ┆ Wyomin... ┆            ┆            ┆            │\n",
      "│ WY       ┆ 56045      ┆ Weston    ┆ Silver    ┆ Blue      ┆ $678.19    ┆ $6,000     ┆ $7,900     │\n",
      "│          ┆            ┆           ┆           ┆ Cross     ┆            ┆            ┆            │\n",
      "│          ┆            ┆           ┆           ┆ Blue      ┆            ┆            ┆            │\n",
      "│          ┆            ┆           ┆           ┆ Shield of ┆            ┆            ┆            │\n",
      "│          ┆            ┆           ┆           ┆ Wyomin... ┆            ┆            ┆            │\n",
      "│ WY       ┆ 56045      ┆ Weston    ┆ Gold      ┆ Blue      ┆ $566.27    ┆ $2,000     ┆ $7,900     │\n",
      "│          ┆            ┆           ┆           ┆ Cross     ┆            ┆            ┆            │\n",
      "│          ┆            ┆           ┆           ┆ Blue      ┆            ┆            ┆            │\n",
      "│          ┆            ┆           ┆           ┆ Shield of ┆            ┆            ┆            │\n",
      "│          ┆            ┆           ┆           ┆ Wyomin... ┆            ┆            ┆            │\n",
      "└──────────┴────────────┴───────────┴───────────┴───────────┴────────────┴────────────┴────────────┘\n"
     ]
    }
   ],
   "source": [
    "%timeit\n",
    "df = pl.read_csv(\"data/raw/Individual_Market_Medical_07_25_2019.csv\")\n",
    "\n",
    "columns_needed = [\n",
    "        'State Code','FIPS County Code', 'County Name', 'Metal Level', 'Issuer Name', 'Premium Adult Individual Age 21','Medical Deductible - Individual - Standard', 'Medical Maximum Out Of Pocket - Individual - Standard'\n",
    "        ]\n",
    "df = df.select(columns_needed)\n",
    "df = df.filter(pl.col(\"Issuer Name\").str.contains(r\"Blue\"))\n",
    "print(df)\n",
    "df.write_csv('data/clean/2019.csv')"
   ],
   "metadata": {
    "collapsed": false,
    "pycharm": {
     "name": "#%%\n"
    }
   }
  },
  {
   "cell_type": "code",
   "execution_count": 7,
   "outputs": [
    {
     "name": "stdout",
     "output_type": "stream",
     "text": [
      "shape: (11488, 8)\n",
      "┌──────────┬────────────┬───────────┬───────────┬───────────┬────────────┬────────────┬────────────┐\n",
      "│ State    ┆ FIPS       ┆ County    ┆ Metal     ┆ Issuer    ┆ Premium    ┆ Medical    ┆ Medical    │\n",
      "│ Code     ┆ County     ┆ Name      ┆ Level     ┆ Name      ┆ Adult      ┆ Deductible ┆ Maximum    │\n",
      "│ ---      ┆ Code       ┆ ---       ┆ ---       ┆ ---       ┆ Individual ┆ -          ┆ Out Of     │\n",
      "│ str      ┆ ---        ┆ str       ┆ str       ┆ str       ┆ Age 21     ┆ Individual ┆ Pocket -   │\n",
      "│          ┆ i64        ┆           ┆           ┆           ┆ ---        ┆ ...        ┆ ...        │\n",
      "│          ┆            ┆           ┆           ┆           ┆ str        ┆ ---        ┆ ---        │\n",
      "│          ┆            ┆           ┆           ┆           ┆            ┆ str        ┆ str        │\n",
      "╞══════════╪════════════╪═══════════╪═══════════╪═══════════╪════════════╪════════════╪════════════╡\n",
      "│ AK       ┆ 2013       ┆ Aleutians ┆ Gold      ┆ Premera   ┆  $625.00   ┆ $1,500     ┆ $6,000     │\n",
      "│          ┆            ┆ East      ┆           ┆ Blue      ┆            ┆            ┆            │\n",
      "│          ┆            ┆           ┆           ┆ Cross     ┆            ┆            ┆            │\n",
      "│          ┆            ┆           ┆           ┆ Blue      ┆            ┆            ┆            │\n",
      "│          ┆            ┆           ┆           ┆ Shield    ┆            ┆            ┆            │\n",
      "│          ┆            ┆           ┆           ┆ o...      ┆            ┆            ┆            │\n",
      "│ AK       ┆ 2013       ┆ Aleutians ┆ Silver    ┆ Premera   ┆  $560.00   ┆ $4,500     ┆ $7,350     │\n",
      "│          ┆            ┆ East      ┆           ┆ Blue      ┆            ┆            ┆            │\n",
      "│          ┆            ┆           ┆           ┆ Cross     ┆            ┆            ┆            │\n",
      "│          ┆            ┆           ┆           ┆ Blue      ┆            ┆            ┆            │\n",
      "│          ┆            ┆           ┆           ┆ Shield    ┆            ┆            ┆            │\n",
      "│          ┆            ┆           ┆           ┆ o...      ┆            ┆            ┆            │\n",
      "│ AK       ┆ 2013       ┆ Aleutians ┆ Bronze    ┆ Premera   ┆  $434.00   ┆ $6,350     ┆ $7,350     │\n",
      "│          ┆            ┆ East      ┆           ┆ Blue      ┆            ┆            ┆            │\n",
      "│          ┆            ┆           ┆           ┆ Cross     ┆            ┆            ┆            │\n",
      "│          ┆            ┆           ┆           ┆ Blue      ┆            ┆            ┆            │\n",
      "│          ┆            ┆           ┆           ┆ Shield    ┆            ┆            ┆            │\n",
      "│          ┆            ┆           ┆           ┆ o...      ┆            ┆            ┆            │\n",
      "│ AK       ┆ 2013       ┆ Aleutians ┆ Bronze    ┆ Premera   ┆  $433.00   ┆ $5,250     ┆ $6,600     │\n",
      "│          ┆            ┆ East      ┆           ┆ Blue      ┆            ┆            ┆            │\n",
      "│          ┆            ┆           ┆           ┆ Cross     ┆            ┆            ┆            │\n",
      "│          ┆            ┆           ┆           ┆ Blue      ┆            ┆            ┆            │\n",
      "│          ┆            ┆           ┆           ┆ Shield    ┆            ┆            ┆            │\n",
      "│          ┆            ┆           ┆           ┆ o...      ┆            ┆            ┆            │\n",
      "│ ...      ┆ ...        ┆ ...       ┆ ...       ┆ ...       ┆ ...        ┆ ...        ┆ ...        │\n",
      "│ WY       ┆ 56045      ┆ Weston    ┆ Bronze    ┆ Blue      ┆  $486.63   ┆ $6,000     ┆ $7,350     │\n",
      "│          ┆            ┆           ┆           ┆ Cross     ┆            ┆            ┆            │\n",
      "│          ┆            ┆           ┆           ┆ Blue      ┆            ┆            ┆            │\n",
      "│          ┆            ┆           ┆           ┆ Shield of ┆            ┆            ┆            │\n",
      "│          ┆            ┆           ┆           ┆ Wyomin... ┆            ┆            ┆            │\n",
      "│ WY       ┆ 56045      ┆ Weston    ┆ Bronze    ┆ Blue      ┆  $489.21   ┆ $7,350     ┆ $7,350     │\n",
      "│          ┆            ┆           ┆           ┆ Cross     ┆            ┆            ┆            │\n",
      "│          ┆            ┆           ┆           ┆ Blue      ┆            ┆            ┆            │\n",
      "│          ┆            ┆           ┆           ┆ Shield of ┆            ┆            ┆            │\n",
      "│          ┆            ┆           ┆           ┆ Wyomin... ┆            ┆            ┆            │\n",
      "│ WY       ┆ 56045      ┆ Weston    ┆ Silver    ┆ Blue      ┆  $683.79   ┆ $6,000     ┆ $7,350     │\n",
      "│          ┆            ┆           ┆           ┆ Cross     ┆            ┆            ┆            │\n",
      "│          ┆            ┆           ┆           ┆ Blue      ┆            ┆            ┆            │\n",
      "│          ┆            ┆           ┆           ┆ Shield of ┆            ┆            ┆            │\n",
      "│          ┆            ┆           ┆           ┆ Wyomin... ┆            ┆            ┆            │\n",
      "│ WY       ┆ 56045      ┆ Weston    ┆ Gold      ┆ Blue      ┆  $564.17   ┆ $2,000     ┆ $7,350     │\n",
      "│          ┆            ┆           ┆           ┆ Cross     ┆            ┆            ┆            │\n",
      "│          ┆            ┆           ┆           ┆ Blue      ┆            ┆            ┆            │\n",
      "│          ┆            ┆           ┆           ┆ Shield of ┆            ┆            ┆            │\n",
      "│          ┆            ┆           ┆           ┆ Wyomin... ┆            ┆            ┆            │\n",
      "└──────────┴────────────┴───────────┴───────────┴───────────┴────────────┴────────────┴────────────┘\n"
     ]
    }
   ],
   "source": [
    "%timeit\n",
    "df = pl.read_csv(\"data/raw/PY2018_Medi-Indi-Land-07_26_2018.csv\")\n",
    "\n",
    "columns_needed = [\n",
    "        'State Code','FIPS County Code', 'County Name', 'Metal Level', 'Issuer Name', 'Premium Adult Individual Age 21','Medical Deductible - Individual - Standard', 'Medical Maximum Out Of Pocket - Individual - Standard'\n",
    "        ]\n",
    "df = df.select(columns_needed)\n",
    "df = df.filter(pl.col(\"Issuer Name\").str.contains(r\"Blue\"))\n",
    "print(df)\n",
    "df.write_csv('data/clean/2018.csv')"
   ],
   "metadata": {
    "collapsed": false,
    "pycharm": {
     "name": "#%%\n"
    }
   }
  },
  {
   "cell_type": "code",
   "execution_count": 8,
   "outputs": [
    {
     "name": "stdout",
     "output_type": "stream",
     "text": [
      "shape: (16698, 8)\n",
      "┌──────────┬────────────┬───────────┬───────────┬───────────┬────────────┬────────────┬────────────┐\n",
      "│ State    ┆ FIPS       ┆ County    ┆ Metal     ┆ Issuer    ┆ Premium    ┆ Medical    ┆ Medical    │\n",
      "│ Code     ┆ County     ┆ Name      ┆ Level     ┆ Name      ┆ Adult      ┆ Deductible ┆ Maximum    │\n",
      "│ ---      ┆ Code       ┆ ---       ┆ ---       ┆ ---       ┆ Individual ┆ -          ┆ Out Of     │\n",
      "│ str      ┆ ---        ┆ str       ┆ str       ┆ str       ┆ Age 21     ┆ Individual ┆ Pocket -   │\n",
      "│          ┆ i64        ┆           ┆           ┆           ┆ ---        ┆ ...        ┆ ...        │\n",
      "│          ┆            ┆           ┆           ┆           ┆ str        ┆ ---        ┆ ---        │\n",
      "│          ┆            ┆           ┆           ┆           ┆            ┆ str        ┆ str        │\n",
      "╞══════════╪════════════╪═══════════╪═══════════╪═══════════╪════════════╪════════════╪════════════╡\n",
      "│ AK       ┆ 2013       ┆ Aleutians ┆ Gold      ┆ Premera   ┆  $866.00   ┆ $1,500     ┆ $5,000     │\n",
      "│          ┆            ┆ East      ┆           ┆ Blue      ┆            ┆            ┆            │\n",
      "│          ┆            ┆           ┆           ┆ Cross     ┆            ┆            ┆            │\n",
      "│          ┆            ┆           ┆           ┆ Blue      ┆            ┆            ┆            │\n",
      "│          ┆            ┆           ┆           ┆ Shield    ┆            ┆            ┆            │\n",
      "│          ┆            ┆           ┆           ┆ o...      ┆            ┆            ┆            │\n",
      "│ AK       ┆ 2013       ┆ Aleutians ┆ Silver    ┆ Premera   ┆  $743.00   ┆ $3,000     ┆ $7,150     │\n",
      "│          ┆            ┆ East      ┆           ┆ Blue      ┆            ┆            ┆            │\n",
      "│          ┆            ┆           ┆           ┆ Cross     ┆            ┆            ┆            │\n",
      "│          ┆            ┆           ┆           ┆ Blue      ┆            ┆            ┆            │\n",
      "│          ┆            ┆           ┆           ┆ Shield    ┆            ┆            ┆            │\n",
      "│          ┆            ┆           ┆           ┆ o...      ┆            ┆            ┆            │\n",
      "│ AK       ┆ 2013       ┆ Aleutians ┆ Bronze    ┆ Premera   ┆  $580.00   ┆ $6,350     ┆ $7,150     │\n",
      "│          ┆            ┆ East      ┆           ┆ Blue      ┆            ┆            ┆            │\n",
      "│          ┆            ┆           ┆           ┆ Cross     ┆            ┆            ┆            │\n",
      "│          ┆            ┆           ┆           ┆ Blue      ┆            ┆            ┆            │\n",
      "│          ┆            ┆           ┆           ┆ Shield    ┆            ┆            ┆            │\n",
      "│          ┆            ┆           ┆           ┆ o...      ┆            ┆            ┆            │\n",
      "│ AK       ┆ 2013       ┆ Aleutians ┆ Bronze    ┆ Premera   ┆  $578.00   ┆ $5,250     ┆ $6,500     │\n",
      "│          ┆            ┆ East      ┆           ┆ Blue      ┆            ┆            ┆            │\n",
      "│          ┆            ┆           ┆           ┆ Cross     ┆            ┆            ┆            │\n",
      "│          ┆            ┆           ┆           ┆ Blue      ┆            ┆            ┆            │\n",
      "│          ┆            ┆           ┆           ┆ Shield    ┆            ┆            ┆            │\n",
      "│          ┆            ┆           ┆           ┆ o...      ┆            ┆            ┆            │\n",
      "│ ...      ┆ ...        ┆ ...       ┆ ...       ┆ ...       ┆ ...        ┆ ...        ┆ ...        │\n",
      "│ WY       ┆ 56045      ┆ Weston    ┆ Silver    ┆ Blue      ┆  $426.43   ┆ $2,500     ┆ $6,350     │\n",
      "│          ┆            ┆           ┆           ┆ Cross     ┆            ┆            ┆            │\n",
      "│          ┆            ┆           ┆           ┆ Blue      ┆            ┆            ┆            │\n",
      "│          ┆            ┆           ┆           ┆ Shield of ┆            ┆            ┆            │\n",
      "│          ┆            ┆           ┆           ┆ Wyomin... ┆            ┆            ┆            │\n",
      "│ WY       ┆ 56045      ┆ Weston    ┆ Bronze    ┆ Blue      ┆  $371.48   ┆ $6,000     ┆ $7,150     │\n",
      "│          ┆            ┆           ┆           ┆ Cross     ┆            ┆            ┆            │\n",
      "│          ┆            ┆           ┆           ┆ Blue      ┆            ┆            ┆            │\n",
      "│          ┆            ┆           ┆           ┆ Shield of ┆            ┆            ┆            │\n",
      "│          ┆            ┆           ┆           ┆ Wyomin... ┆            ┆            ┆            │\n",
      "│ WY       ┆ 56045      ┆ Weston    ┆ Catastrop ┆ Blue      ┆  $313.86   ┆ $7,150     ┆ $7,150     │\n",
      "│          ┆            ┆           ┆ hic       ┆ Cross     ┆            ┆            ┆            │\n",
      "│          ┆            ┆           ┆           ┆ Blue      ┆            ┆            ┆            │\n",
      "│          ┆            ┆           ┆           ┆ Shield of ┆            ┆            ┆            │\n",
      "│          ┆            ┆           ┆           ┆ Wyomin... ┆            ┆            ┆            │\n",
      "│ WY       ┆ 56045      ┆ Weston    ┆ Silver    ┆ Blue      ┆  $409.97   ┆ $3,250     ┆ $5,600     │\n",
      "│          ┆            ┆           ┆           ┆ Cross     ┆            ┆            ┆            │\n",
      "│          ┆            ┆           ┆           ┆ Blue      ┆            ┆            ┆            │\n",
      "│          ┆            ┆           ┆           ┆ Shield of ┆            ┆            ┆            │\n",
      "│          ┆            ┆           ┆           ┆ Wyomin... ┆            ┆            ┆            │\n",
      "└──────────┴────────────┴───────────┴───────────┴───────────┴────────────┴────────────┴────────────┘\n"
     ]
    }
   ],
   "source": [
    "%timeit\n",
    "df = pl.read_csv(\"data/raw/PY2017_Medi-Indi-Land-08_11_2017.csv\")\n",
    "\n",
    "columns_needed = [\n",
    "        'State Code','FIPS County Code', 'County Name', 'Metal Level', 'Issuer Name', 'Premium Adult Individual Age 21','Medical Deductible - Individual - Standard', 'Medical Maximum Out Of Pocket - Individual - Standard'\n",
    "        ]\n",
    "df = df.select(columns_needed)\n",
    "df = df.filter(pl.col(\"Issuer Name\").str.contains(r\"Blue\"))\n",
    "print(df)\n",
    "df.write_csv('data/clean/2017.csv')"
   ],
   "metadata": {
    "collapsed": false,
    "pycharm": {
     "name": "#%%\n"
    }
   }
  },
  {
   "cell_type": "code",
   "execution_count": 9,
   "outputs": [
    {
     "name": "stdout",
     "output_type": "stream",
     "text": [
      "shape: (97134, 9)\n",
      "┌──────────┬────────────┬───────────┬───────────┬─────┬────────────┬────────────┬────────────┬──────────┐\n",
      "│ State    ┆ FIPS       ┆ County    ┆ Metal     ┆ ... ┆ Premium    ┆ Medical    ┆ Medical    ┆ Time     │\n",
      "│ Code     ┆ County     ┆ Name      ┆ Level     ┆     ┆ Adult      ┆ Deductible ┆ Maximum    ┆ Trend    │\n",
      "│ ---      ┆ Code       ┆ ---       ┆ ---       ┆     ┆ Individual ┆ -          ┆ Out Of     ┆ ---      │\n",
      "│ str      ┆ ---        ┆ str       ┆ str       ┆     ┆ Age 21     ┆ Individual ┆ Pocket -   ┆ i32      │\n",
      "│          ┆ i64        ┆           ┆           ┆     ┆ ---        ┆ ...        ┆ ...        ┆          │\n",
      "│          ┆            ┆           ┆           ┆     ┆ f64        ┆ ---        ┆ ---        ┆          │\n",
      "│          ┆            ┆           ┆           ┆     ┆            ┆ f64        ┆ f64        ┆          │\n",
      "╞══════════╪════════════╪═══════════╪═══════════╪═════╪════════════╪════════════╪════════════╪══════════╡\n",
      "│ AK       ┆ 2013       ┆ Aleutians ┆ Gold      ┆ ... ┆ 866.0      ┆ 1500.0     ┆ 5000.0     ┆ 2017     │\n",
      "│          ┆            ┆ East      ┆           ┆     ┆            ┆            ┆            ┆          │\n",
      "│ AK       ┆ 2013       ┆ Aleutians ┆ Silver    ┆ ... ┆ 743.0      ┆ 3000.0     ┆ 7150.0     ┆ 2017     │\n",
      "│          ┆            ┆ East      ┆           ┆     ┆            ┆            ┆            ┆          │\n",
      "│ AK       ┆ 2013       ┆ Aleutians ┆ Bronze    ┆ ... ┆ 580.0      ┆ 6350.0     ┆ 7150.0     ┆ 2017     │\n",
      "│          ┆            ┆ East      ┆           ┆     ┆            ┆            ┆            ┆          │\n",
      "│ AK       ┆ 2013       ┆ Aleutians ┆ Bronze    ┆ ... ┆ 578.0      ┆ 5250.0     ┆ 6500.0     ┆ 2017     │\n",
      "│          ┆            ┆ East      ┆           ┆     ┆            ┆            ┆            ┆          │\n",
      "│ ...      ┆ ...        ┆ ...       ┆ ...       ┆ ... ┆ ...        ┆ ...        ┆ ...        ┆ ...      │\n",
      "│ WY       ┆ 56045      ┆ Weston    ┆ Gold      ┆ ... ┆ 499.61     ┆ 1500.0     ┆ 7000.0     ┆ 2022     │\n",
      "│ WY       ┆ 56045      ┆ Weston    ┆ Bronze    ┆ ... ┆ 401.63     ┆ 8550.0     ┆ 8550.0     ┆ 2022     │\n",
      "│ WY       ┆ 56045      ┆ Weston    ┆ Silver    ┆ ... ┆ 603.36     ┆ 6000.0     ┆ 8550.0     ┆ 2022     │\n",
      "│ WY       ┆ 56045      ┆ Weston    ┆ Silver    ┆ ... ┆ 610.8      ┆ 2500.0     ┆ 8550.0     ┆ 2022     │\n",
      "└──────────┴────────────┴───────────┴───────────┴─────┴────────────┴────────────┴────────────┴──────────┘\n"
     ]
    }
   ],
   "source": [
    "years = [str(year) for year in range(2017,2023)]\n",
    "dataframe = pl.DataFrame()\n",
    "\n",
    "for year in years:\n",
    "    df = pl.read_csv(f\"data/clean/{year}.csv\")\n",
    "\n",
    "    covid_dummy = int(year)\n",
    "\n",
    "    df = df.with_columns(pl.lit(covid_dummy).alias('Time Trend'))\n",
    "    dataframe = pl.concat([dataframe, df])\n",
    "\n",
    "func = lambda x: float(x.replace(',', \"\").replace(\"$\", \"\"))\n",
    "\n",
    "# def func\n",
    "dataframe = dataframe.with_columns([\n",
    "        pl.col('Medical Maximum Out Of Pocket - Individual - Standard').apply(func),\n",
    "        pl.col('Premium Adult Individual Age 21').apply(func),\n",
    "        pl.col('Medical Deductible - Individual - Standard').apply(func)\n",
    "        ])\n",
    "print(dataframe)\n",
    "dataframe.write_csv('data/clean/main_data_file.csv')"
   ],
   "metadata": {
    "collapsed": false,
    "pycharm": {
     "name": "#%%\n"
    }
   }
  },
  {
   "cell_type": "code",
   "execution_count": 10,
   "outputs": [
    {
     "name": "stdout",
     "output_type": "stream",
     "text": [
      "34\n"
     ]
    }
   ],
   "source": [
    "print(dataframe['State Code'].n_unique())"
   ],
   "metadata": {
    "collapsed": false,
    "pycharm": {
     "name": "#%%\n"
    }
   }
  },
  {
   "cell_type": "markdown",
   "source": [
    "## 2. Cleaning Covid Data"
   ],
   "metadata": {
    "collapsed": false,
    "pycharm": {
     "name": "#%% md\n"
    }
   }
  },
  {
   "cell_type": "code",
   "execution_count": 11,
   "outputs": [],
   "source": [
    "def clean_date(date):\n",
    "\n",
    "    month, day, year = date.split('/')\n",
    "    year = year[-2:]\n",
    "\n",
    "    if len(month) == 1:\n",
    "        month = '0' + month\n",
    "\n",
    "    if len(day) == 1:\n",
    "        day = '0' + day\n",
    "\n",
    "    return '20' + str(year) + '-' + str(month) + '-' + str(day)"
   ],
   "metadata": {
    "collapsed": false,
    "pycharm": {
     "name": "#%%\n"
    }
   }
  },
  {
   "cell_type": "code",
   "execution_count": 12,
   "outputs": [
    {
     "name": "stdout",
     "output_type": "stream",
     "text": [
      "             date_updated state  start_date    end_date  tot_cases  new_cases  \\\n",
      "date_updated                                                                    \n",
      "2022-12-29     2022-12-29   FSM  12/22/2022  12/28/2022      22069         21   \n",
      "2022-12-29     2022-12-29    PR  12/22/2022  12/28/2022    1049438       8652   \n",
      "2022-12-29     2022-12-29    PW  12/22/2022  12/28/2022       5968         13   \n",
      "2022-12-29     2022-12-29    AL  12/22/2022  12/28/2022    1573637       4703   \n",
      "2022-12-29     2022-12-29    AK  12/22/2022  12/28/2022     288123        332   \n",
      "\n",
      "              tot_deaths  new_deaths  new_historic_cases  new_historic_deaths  \n",
      "date_updated                                                                   \n",
      "2022-12-29            58           0                   0                    0  \n",
      "2022-12-29          5519          29                   0                    0  \n",
      "2022-12-29             9           0                   0                    0  \n",
      "2022-12-29         20757          20                   0                    0  \n",
      "2022-12-29          1418           0                   0                    0  \n"
     ]
    }
   ],
   "source": [
    "import datetime\n",
    "df = pd.read_csv('data/raw/Weekly_United_States_COVID-19_Cases_and_Deaths_by_State.csv')\n",
    "df.date_updated = list(map(clean_date, df.date_updated))\n",
    "df.date_updated = pd.to_datetime(df.date_updated, format = '%Y-%m-%d')\n",
    "df = df.sort_values(by = 'date_updated')\n",
    "df.set_index(df.date_updated, drop = True, inplace = True)\n",
    "df = df[df.date_updated < datetime.datetime(2023, 1, 1)]\n",
    "print(df.tail())"
   ],
   "metadata": {
    "collapsed": false,
    "pycharm": {
     "name": "#%%\n"
    }
   }
  },
  {
   "cell_type": "code",
   "execution_count": 13,
   "outputs": [
    {
     "data": {
      "text/plain": "    state date_updated  new_cases\n0      AK   2020-12-31      45802\n1      AK   2021-12-31     106561\n2      AK   2022-12-31     135760\n3      AL   2020-12-31     356820\n4      AL   2021-12-31     523487\n..    ...          ...        ...\n175    WV   2021-12-31     241289\n176    WV   2022-12-31     298027\n177    WY   2020-12-31      44125\n178    WY   2021-12-31      71117\n179    WY   2022-12-31      67605\n\n[180 rows x 3 columns]",
      "text/html": "<div>\n<style scoped>\n    .dataframe tbody tr th:only-of-type {\n        vertical-align: middle;\n    }\n\n    .dataframe tbody tr th {\n        vertical-align: top;\n    }\n\n    .dataframe thead th {\n        text-align: right;\n    }\n</style>\n<table border=\"1\" class=\"dataframe\">\n  <thead>\n    <tr style=\"text-align: right;\">\n      <th></th>\n      <th>state</th>\n      <th>date_updated</th>\n      <th>new_cases</th>\n    </tr>\n  </thead>\n  <tbody>\n    <tr>\n      <th>0</th>\n      <td>AK</td>\n      <td>2020-12-31</td>\n      <td>45802</td>\n    </tr>\n    <tr>\n      <th>1</th>\n      <td>AK</td>\n      <td>2021-12-31</td>\n      <td>106561</td>\n    </tr>\n    <tr>\n      <th>2</th>\n      <td>AK</td>\n      <td>2022-12-31</td>\n      <td>135760</td>\n    </tr>\n    <tr>\n      <th>3</th>\n      <td>AL</td>\n      <td>2020-12-31</td>\n      <td>356820</td>\n    </tr>\n    <tr>\n      <th>4</th>\n      <td>AL</td>\n      <td>2021-12-31</td>\n      <td>523487</td>\n    </tr>\n    <tr>\n      <th>...</th>\n      <td>...</td>\n      <td>...</td>\n      <td>...</td>\n    </tr>\n    <tr>\n      <th>175</th>\n      <td>WV</td>\n      <td>2021-12-31</td>\n      <td>241289</td>\n    </tr>\n    <tr>\n      <th>176</th>\n      <td>WV</td>\n      <td>2022-12-31</td>\n      <td>298027</td>\n    </tr>\n    <tr>\n      <th>177</th>\n      <td>WY</td>\n      <td>2020-12-31</td>\n      <td>44125</td>\n    </tr>\n    <tr>\n      <th>178</th>\n      <td>WY</td>\n      <td>2021-12-31</td>\n      <td>71117</td>\n    </tr>\n    <tr>\n      <th>179</th>\n      <td>WY</td>\n      <td>2022-12-31</td>\n      <td>67605</td>\n    </tr>\n  </tbody>\n</table>\n<p>180 rows × 3 columns</p>\n</div>"
     },
     "execution_count": 13,
     "metadata": {},
     "output_type": "execute_result"
    }
   ],
   "source": [
    "df.groupby('state').resample('Y')['new_cases'].sum().to_csv('data/clean/year_and_statewise_covid_cases.csv')\n",
    "tmp = pd.read_csv('data/clean/year_and_statewise_covid_cases.csv')\n",
    "tmp"
   ],
   "metadata": {
    "collapsed": false,
    "pycharm": {
     "name": "#%%\n"
    }
   }
  },
  {
   "cell_type": "markdown",
   "source": [
    "## 3. Cleaning Political Data"
   ],
   "metadata": {
    "collapsed": false,
    "pycharm": {
     "name": "#%% md\n"
    }
   }
  },
  {
   "cell_type": "code",
   "execution_count": 14,
   "outputs": [],
   "source": [
    "df_political = pd.read_csv('data/raw/political_data.csv', header = 0, index_col = 0)\n",
    "state_control = []\n",
    "for col in df_political.columns:\n",
    "\n",
    "    if 'Unnamed: ' in col:\n",
    "        if int(col.split(sep='Unnamed:')[1]) % 3 == 0:\n",
    "            state_control.append(col)\n",
    "\n",
    "df_political = df_political[state_control]\n",
    "df_political.columns = [str(i) for i in range(2017, 2024)]\n",
    "df_political.drop(['State_Code'], axis=0, inplace = True)\n",
    "df_political = df_political.reset_index().rename(columns = {'index': 'State Code'})\n",
    "\n",
    "df_political = df_political.melt(id_vars = 'State Code', value_vars = [str(i) for i in range(2017, 2024)])\n",
    "df_political = df_political.rename(columns = {'variable': 'Time Trend', 'value': 'Unity'})\n",
    "df_political.to_csv('data/clean/cleaned_political_data.csv', index = False)"
   ],
   "metadata": {
    "collapsed": false,
    "pycharm": {
     "name": "#%%\n"
    }
   }
  },
  {
   "cell_type": "code",
   "execution_count": 15,
   "outputs": [
    {
     "data": {
      "text/plain": "    State Code Time Trend    Unity\n0           AL       2017      Rep\n1           AK       2017  Divided\n2           AZ       2017      Rep\n3           AR       2017      Rep\n4           CA       2017      Dem\n..         ...        ...      ...\n345         VA       2023  Divided\n346         WA       2023      Dem\n347         WV       2023      Rep\n348         WI       2023  Divided\n349         WY       2023      Rep\n\n[350 rows x 3 columns]",
      "text/html": "<div>\n<style scoped>\n    .dataframe tbody tr th:only-of-type {\n        vertical-align: middle;\n    }\n\n    .dataframe tbody tr th {\n        vertical-align: top;\n    }\n\n    .dataframe thead th {\n        text-align: right;\n    }\n</style>\n<table border=\"1\" class=\"dataframe\">\n  <thead>\n    <tr style=\"text-align: right;\">\n      <th></th>\n      <th>State Code</th>\n      <th>Time Trend</th>\n      <th>Unity</th>\n    </tr>\n  </thead>\n  <tbody>\n    <tr>\n      <th>0</th>\n      <td>AL</td>\n      <td>2017</td>\n      <td>Rep</td>\n    </tr>\n    <tr>\n      <th>1</th>\n      <td>AK</td>\n      <td>2017</td>\n      <td>Divided</td>\n    </tr>\n    <tr>\n      <th>2</th>\n      <td>AZ</td>\n      <td>2017</td>\n      <td>Rep</td>\n    </tr>\n    <tr>\n      <th>3</th>\n      <td>AR</td>\n      <td>2017</td>\n      <td>Rep</td>\n    </tr>\n    <tr>\n      <th>4</th>\n      <td>CA</td>\n      <td>2017</td>\n      <td>Dem</td>\n    </tr>\n    <tr>\n      <th>...</th>\n      <td>...</td>\n      <td>...</td>\n      <td>...</td>\n    </tr>\n    <tr>\n      <th>345</th>\n      <td>VA</td>\n      <td>2023</td>\n      <td>Divided</td>\n    </tr>\n    <tr>\n      <th>346</th>\n      <td>WA</td>\n      <td>2023</td>\n      <td>Dem</td>\n    </tr>\n    <tr>\n      <th>347</th>\n      <td>WV</td>\n      <td>2023</td>\n      <td>Rep</td>\n    </tr>\n    <tr>\n      <th>348</th>\n      <td>WI</td>\n      <td>2023</td>\n      <td>Divided</td>\n    </tr>\n    <tr>\n      <th>349</th>\n      <td>WY</td>\n      <td>2023</td>\n      <td>Rep</td>\n    </tr>\n  </tbody>\n</table>\n<p>350 rows × 3 columns</p>\n</div>"
     },
     "execution_count": 15,
     "metadata": {},
     "output_type": "execute_result"
    }
   ],
   "source": [
    "df_political"
   ],
   "metadata": {
    "collapsed": false,
    "pycharm": {
     "name": "#%%\n"
    }
   }
  }
 ],
 "metadata": {
  "kernelspec": {
   "display_name": "Python 3",
   "language": "python",
   "name": "python3"
  },
  "language_info": {
   "codemirror_mode": {
    "name": "ipython",
    "version": 2
   },
   "file_extension": ".py",
   "mimetype": "text/x-python",
   "name": "python",
   "nbconvert_exporter": "python",
   "pygments_lexer": "ipython2",
   "version": "2.7.6"
  }
 },
 "nbformat": 4,
 "nbformat_minor": 0
}