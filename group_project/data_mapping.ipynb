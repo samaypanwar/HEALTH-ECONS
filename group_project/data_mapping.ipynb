{
 "cells": [
  {
   "cell_type": "code",
   "execution_count": 1,
   "metadata": {
    "collapsed": true,
    "pycharm": {
     "name": "#%%\n"
    }
   },
   "outputs": [
    {
     "name": "stdout",
     "output_type": "stream",
     "text": [
      "/Users/samaypanwar/Library/CloudStorage/OneDrive-NanyangTechnologicalUniversity/Uni/Y4S2/HEALTH ECONS/group_project\n"
     ]
    }
   ],
   "source": [
    "%load_ext autoreload\n",
    "%autoreload 2\n",
    "\n",
    "import os\n",
    "import pandas as pd\n",
    "import numpy as np\n",
    "\n",
    "path_parent = os.path.dirname(os.getcwd())\n",
    "\n",
    "# if os.getcwd()[-8:] != 'HEALTH-ECONS':\n",
    "#     os.chdir(path_parent)\n",
    "\n",
    "print(os.getcwd())\n",
    "\n",
    "import matplotlib.pyplot as plt\n",
    "\n",
    "plt.style.use('seaborn-v0_8')\n",
    "plt.rcParams.update({'font.family': 'Times New Roman'})\n",
    "plt.rcParams.update({'axes.grid': True, 'axes.linewidth': 0.5, 'axes.edgecolor': 'black'})\n",
    "\n"
   ]
  },
  {
   "cell_type": "code",
   "execution_count": 2,
   "outputs": [],
   "source": [
    "import polars as pl"
   ],
   "metadata": {
    "collapsed": false,
    "pycharm": {
     "name": "#%%\n"
    }
   }
  },
  {
   "cell_type": "code",
   "execution_count": 26,
   "outputs": [
    {
     "name": "stdout",
     "output_type": "stream",
     "text": [
      "shape: (5, 8)\n",
      "┌──────────┬────────────┬───────────┬───────────┬───────────┬────────────┬────────────┬────────────┐\n",
      "│ State    ┆ FIPS       ┆ County    ┆ Metal     ┆ Issuer    ┆ Premium    ┆ Medical    ┆ Medical    │\n",
      "│ Code     ┆ County     ┆ Name      ┆ Level     ┆ Name      ┆ Adult      ┆ Deductible ┆ Maximum    │\n",
      "│ ---      ┆ Code       ┆ ---       ┆ ---       ┆ ---       ┆ Individual ┆ -          ┆ Out Of     │\n",
      "│ str      ┆ ---        ┆ str       ┆ str       ┆ str       ┆ Age 21     ┆ Individual ┆ Pocket -   │\n",
      "│          ┆ i64        ┆           ┆           ┆           ┆ ---        ┆ ...        ┆ ...        │\n",
      "│          ┆            ┆           ┆           ┆           ┆ str        ┆ ---        ┆ ---        │\n",
      "│          ┆            ┆           ┆           ┆           ┆            ┆ str        ┆ str        │\n",
      "╞══════════╪════════════╪═══════════╪═══════════╪═══════════╪════════════╪════════════╪════════════╡\n",
      "│ AK       ┆ 2013       ┆ Aleutians ┆ Gold      ┆ Premera   ┆ $491.74    ┆ $1,500     ┆ $6,300     │\n",
      "│          ┆            ┆ East      ┆           ┆ Blue      ┆            ┆            ┆            │\n",
      "│          ┆            ┆           ┆           ┆ Cross     ┆            ┆            ┆            │\n",
      "│          ┆            ┆           ┆           ┆ Blue      ┆            ┆            ┆            │\n",
      "│          ┆            ┆           ┆           ┆ Shield    ┆            ┆            ┆            │\n",
      "│          ┆            ┆           ┆           ┆ o...      ┆            ┆            ┆            │\n",
      "│ AK       ┆ 2013       ┆ Aleutians ┆ Silver    ┆ Premera   ┆ $566.02    ┆ $4,500     ┆ $7,700     │\n",
      "│          ┆            ┆ East      ┆           ┆ Blue      ┆            ┆            ┆            │\n",
      "│          ┆            ┆           ┆           ┆ Cross     ┆            ┆            ┆            │\n",
      "│          ┆            ┆           ┆           ┆ Blue      ┆            ┆            ┆            │\n",
      "│          ┆            ┆           ┆           ┆ Shield    ┆            ┆            ┆            │\n",
      "│          ┆            ┆           ┆           ┆ o...      ┆            ┆            ┆            │\n",
      "│ AK       ┆ 2013       ┆ Aleutians ┆ Expanded  ┆ Premera   ┆ $374.36    ┆ $6,350     ┆ $8,550     │\n",
      "│          ┆            ┆ East      ┆ Bronze    ┆ Blue      ┆            ┆            ┆            │\n",
      "│          ┆            ┆           ┆           ┆ Cross     ┆            ┆            ┆            │\n",
      "│          ┆            ┆           ┆           ┆ Blue      ┆            ┆            ┆            │\n",
      "│          ┆            ┆           ┆           ┆ Shield    ┆            ┆            ┆            │\n",
      "│          ┆            ┆           ┆           ┆ o...      ┆            ┆            ┆            │\n",
      "│ AK       ┆ 2013       ┆ Aleutians ┆ Silver    ┆ Premera   ┆ $574.56    ┆ $3,000     ┆ $7,000     │\n",
      "│          ┆            ┆ East      ┆           ┆ Blue      ┆            ┆            ┆            │\n",
      "│          ┆            ┆           ┆           ┆ Cross     ┆            ┆            ┆            │\n",
      "│          ┆            ┆           ┆           ┆ Blue      ┆            ┆            ┆            │\n",
      "│          ┆            ┆           ┆           ┆ Shield    ┆            ┆            ┆            │\n",
      "│          ┆            ┆           ┆           ┆ o...      ┆            ┆            ┆            │\n",
      "│ AK       ┆ 2013       ┆ Aleutians ┆ Expanded  ┆ Premera   ┆ $372.85    ┆ $5,800     ┆ $7,000     │\n",
      "│          ┆            ┆ East      ┆ Bronze    ┆ Blue      ┆            ┆            ┆            │\n",
      "│          ┆            ┆           ┆           ┆ Cross     ┆            ┆            ┆            │\n",
      "│          ┆            ┆           ┆           ┆ Blue      ┆            ┆            ┆            │\n",
      "│          ┆            ┆           ┆           ┆ Shield    ┆            ┆            ┆            │\n",
      "│          ┆            ┆           ┆           ┆ o...      ┆            ┆            ┆            │\n",
      "└──────────┴────────────┴───────────┴───────────┴───────────┴────────────┴────────────┴────────────┘\n"
     ]
    }
   ],
   "source": [
    "%timeit\n",
    "df = pl.read_csv(\"data/Individual_Market_Medical.csv\")\n",
    "\n",
    "columns_needed = [\n",
    "        'State Code','FIPS County Code', 'County Name', 'Metal Level', 'Issuer Name', 'Premium Adult Individual Age 21','Medical Deductible - Individual - Standard', 'Medical Maximum Out Of Pocket - Individual - Standard'\n",
    "        ]\n",
    "df = df.select(columns_needed)\n",
    "df = df.filter(pl.col(\"Issuer Name\").str.contains(r\"Blue\"))\n",
    "print(df.head())\n",
    "df.write_csv('data/2022.csv')"
   ],
   "metadata": {
    "collapsed": false,
    "pycharm": {
     "name": "#%%\n"
    }
   }
  },
  {
   "cell_type": "code",
   "execution_count": 29,
   "outputs": [
    {
     "name": "stdout",
     "output_type": "stream",
     "text": [
      "shape: (19238, 8)\n",
      "┌──────────┬────────────┬───────────┬───────────┬───────────┬────────────┬────────────┬────────────┐\n",
      "│ State    ┆ FIPS       ┆ County    ┆ Metal     ┆ Issuer    ┆ Premium    ┆ Medical    ┆ Medical    │\n",
      "│ Code     ┆ County     ┆ Name      ┆ Level     ┆ Name      ┆ Adult      ┆ Deductible ┆ Maximum    │\n",
      "│ ---      ┆ Code       ┆ ---       ┆ ---       ┆ ---       ┆ Individual ┆ -          ┆ Out Of     │\n",
      "│ str      ┆ ---        ┆ str       ┆ str       ┆ str       ┆ Age 21     ┆ Individual ┆ Pocket -   │\n",
      "│          ┆ i64        ┆           ┆           ┆           ┆ ---        ┆ ...        ┆ ...        │\n",
      "│          ┆            ┆           ┆           ┆           ┆ str        ┆ ---        ┆ ---        │\n",
      "│          ┆            ┆           ┆           ┆           ┆            ┆ str        ┆ str        │\n",
      "╞══════════╪════════════╪═══════════╪═══════════╪═══════════╪════════════╪════════════╪════════════╡\n",
      "│ AK       ┆ 2013       ┆ Aleutians ┆ Gold      ┆ Premera   ┆ $488.00    ┆ $1,500     ┆ $6,000     │\n",
      "│          ┆            ┆ East      ┆           ┆ Blue      ┆            ┆            ┆            │\n",
      "│          ┆            ┆           ┆           ┆ Cross     ┆            ┆            ┆            │\n",
      "│          ┆            ┆           ┆           ┆ Blue      ┆            ┆            ┆            │\n",
      "│          ┆            ┆           ┆           ┆ Shield    ┆            ┆            ┆            │\n",
      "│          ┆            ┆           ┆           ┆ o...      ┆            ┆            ┆            │\n",
      "│ AK       ┆ 2013       ┆ Aleutians ┆ Silver    ┆ Premera   ┆ $543.00    ┆ $4,500     ┆ $7,350     │\n",
      "│          ┆            ┆ East      ┆           ┆ Blue      ┆            ┆            ┆            │\n",
      "│          ┆            ┆           ┆           ┆ Cross     ┆            ┆            ┆            │\n",
      "│          ┆            ┆           ┆           ┆ Blue      ┆            ┆            ┆            │\n",
      "│          ┆            ┆           ┆           ┆ Shield    ┆            ┆            ┆            │\n",
      "│          ┆            ┆           ┆           ┆ o...      ┆            ┆            ┆            │\n",
      "│ AK       ┆ 2013       ┆ Aleutians ┆ Expanded  ┆ Premera   ┆ $362.00    ┆ $6,350     ┆ $8,400     │\n",
      "│          ┆            ┆ East      ┆ Bronze    ┆ Blue      ┆            ┆            ┆            │\n",
      "│          ┆            ┆           ┆           ┆ Cross     ┆            ┆            ┆            │\n",
      "│          ┆            ┆           ┆           ┆ Blue      ┆            ┆            ┆            │\n",
      "│          ┆            ┆           ┆           ┆ Shield    ┆            ┆            ┆            │\n",
      "│          ┆            ┆           ┆           ┆ o...      ┆            ┆            ┆            │\n",
      "│ AK       ┆ 2013       ┆ Aleutians ┆ Silver    ┆ Premera   ┆ $541.00    ┆ $3,000     ┆ $6,600     │\n",
      "│          ┆            ┆ East      ┆           ┆ Blue      ┆            ┆            ┆            │\n",
      "│          ┆            ┆           ┆           ┆ Cross     ┆            ┆            ┆            │\n",
      "│          ┆            ┆           ┆           ┆ Blue      ┆            ┆            ┆            │\n",
      "│          ┆            ┆           ┆           ┆ Shield    ┆            ┆            ┆            │\n",
      "│          ┆            ┆           ┆           ┆ o...      ┆            ┆            ┆            │\n",
      "│ ...      ┆ ...        ┆ ...       ┆ ...       ┆ ...       ┆ ...        ┆ ...        ┆ ...        │\n",
      "│ WY       ┆ 56045      ┆ Weston    ┆ Silver    ┆ Blue      ┆ $625.07    ┆ $6,000     ┆ $8,550     │\n",
      "│          ┆            ┆           ┆           ┆ Cross     ┆            ┆            ┆            │\n",
      "│          ┆            ┆           ┆           ┆ Blue      ┆            ┆            ┆            │\n",
      "│          ┆            ┆           ┆           ┆ Shield of ┆            ┆            ┆            │\n",
      "│          ┆            ┆           ┆           ┆ Wyomin... ┆            ┆            ┆            │\n",
      "│ WY       ┆ 56045      ┆ Weston    ┆ Gold      ┆ Blue      ┆ $520.23    ┆ $2,000     ┆ $8,550     │\n",
      "│          ┆            ┆           ┆           ┆ Cross     ┆            ┆            ┆            │\n",
      "│          ┆            ┆           ┆           ┆ Blue      ┆            ┆            ┆            │\n",
      "│          ┆            ┆           ┆           ┆ Shield of ┆            ┆            ┆            │\n",
      "│          ┆            ┆           ┆           ┆ Wyomin... ┆            ┆            ┆            │\n",
      "│ WY       ┆ 56045      ┆ Weston    ┆ Gold      ┆ Blue      ┆ $510.05    ┆ $1,500     ┆ $7,000     │\n",
      "│          ┆            ┆           ┆           ┆ Cross     ┆            ┆            ┆            │\n",
      "│          ┆            ┆           ┆           ┆ Blue      ┆            ┆            ┆            │\n",
      "│          ┆            ┆           ┆           ┆ Shield of ┆            ┆            ┆            │\n",
      "│          ┆            ┆           ┆           ┆ Wyomin... ┆            ┆            ┆            │\n",
      "│ WY       ┆ 56045      ┆ Weston    ┆ Bronze    ┆ Blue      ┆ $410.76    ┆ $8,550     ┆ $8,550     │\n",
      "│          ┆            ┆           ┆           ┆ Cross     ┆            ┆            ┆            │\n",
      "│          ┆            ┆           ┆           ┆ Blue      ┆            ┆            ┆            │\n",
      "│          ┆            ┆           ┆           ┆ Shield of ┆            ┆            ┆            │\n",
      "│          ┆            ┆           ┆           ┆ Wyomin... ┆            ┆            ┆            │\n",
      "└──────────┴────────────┴───────────┴───────────┴───────────┴────────────┴────────────┴────────────┘\n"
     ]
    }
   ],
   "source": [
    "%timeit\n",
    "df = pl.read_csv(\"data/Individual_Market_Medical_08_04_2021.csv\")\n",
    "\n",
    "columns_needed = [\n",
    "        'State Code','FIPS County Code', 'County Name', 'Metal Level', 'Issuer Name', 'Premium Adult Individual Age 21','Medical Deductible - Individual - Standard', 'Medical Maximum Out Of Pocket - Individual - Standard'\n",
    "        ]\n",
    "df = df.select(columns_needed)\n",
    "df = df.filter(pl.col(\"Issuer Name\").str.contains(r\"Blue\"))\n",
    "print(df)\n",
    "df.write_csv('data/2021.csv')"
   ],
   "metadata": {
    "collapsed": false,
    "pycharm": {
     "name": "#%%\n"
    }
   }
  },
  {
   "cell_type": "code",
   "execution_count": 30,
   "outputs": [
    {
     "name": "stdout",
     "output_type": "stream",
     "text": [
      "shape: (17100, 8)\n",
      "┌──────────┬────────────┬───────────┬───────────┬───────────┬────────────┬────────────┬────────────┐\n",
      "│ State    ┆ FIPS       ┆ County    ┆ Metal     ┆ Issuer    ┆ Premium    ┆ Medical    ┆ Medical    │\n",
      "│ Code     ┆ County     ┆ Name      ┆ Level     ┆ Name      ┆ Adult      ┆ Deductible ┆ Maximum    │\n",
      "│ ---      ┆ Code       ┆ ---       ┆ ---       ┆ ---       ┆ Individual ┆ -          ┆ Out Of     │\n",
      "│ str      ┆ ---        ┆ str       ┆ str       ┆ str       ┆ Age 21     ┆ Individual ┆ Pocket -   │\n",
      "│          ┆ i64        ┆           ┆           ┆           ┆ ---        ┆ ...        ┆ ...        │\n",
      "│          ┆            ┆           ┆           ┆           ┆ str        ┆ ---        ┆ ---        │\n",
      "│          ┆            ┆           ┆           ┆           ┆            ┆ str        ┆ str        │\n",
      "╞══════════╪════════════╪═══════════╪═══════════╪═══════════╪════════════╪════════════╪════════════╡\n",
      "│ AK       ┆ 2013       ┆ Aleutians ┆ Gold      ┆ Premera   ┆ $528.00    ┆ $1,500     ┆ $6,000     │\n",
      "│          ┆            ┆ East      ┆           ┆ Blue      ┆            ┆            ┆            │\n",
      "│          ┆            ┆           ┆           ┆ Cross     ┆            ┆            ┆            │\n",
      "│          ┆            ┆           ┆           ┆ Blue      ┆            ┆            ┆            │\n",
      "│          ┆            ┆           ┆           ┆ Shield    ┆            ┆            ┆            │\n",
      "│          ┆            ┆           ┆           ┆ o...      ┆            ┆            ┆            │\n",
      "│ AK       ┆ 2013       ┆ Aleutians ┆ Silver    ┆ Premera   ┆ $582.00    ┆ $4,500     ┆ $7,350     │\n",
      "│          ┆            ┆ East      ┆           ┆ Blue      ┆            ┆            ┆            │\n",
      "│          ┆            ┆           ┆           ┆ Cross     ┆            ┆            ┆            │\n",
      "│          ┆            ┆           ┆           ┆ Blue      ┆            ┆            ┆            │\n",
      "│          ┆            ┆           ┆           ┆ Shield    ┆            ┆            ┆            │\n",
      "│          ┆            ┆           ┆           ┆ o...      ┆            ┆            ┆            │\n",
      "│ AK       ┆ 2013       ┆ Aleutians ┆ Expanded  ┆ Premera   ┆ $391.00    ┆ $6,350     ┆ $7,800     │\n",
      "│          ┆            ┆ East      ┆ Bronze    ┆ Blue      ┆            ┆            ┆            │\n",
      "│          ┆            ┆           ┆           ┆ Cross     ┆            ┆            ┆            │\n",
      "│          ┆            ┆           ┆           ┆ Blue      ┆            ┆            ┆            │\n",
      "│          ┆            ┆           ┆           ┆ Shield    ┆            ┆            ┆            │\n",
      "│          ┆            ┆           ┆           ┆ o...      ┆            ┆            ┆            │\n",
      "│ AK       ┆ 2013       ┆ Aleutians ┆ Silver    ┆ Premera   ┆ $577.00    ┆ $3,000     ┆ $6,600     │\n",
      "│          ┆            ┆ East      ┆           ┆ Blue      ┆            ┆            ┆            │\n",
      "│          ┆            ┆           ┆           ┆ Cross     ┆            ┆            ┆            │\n",
      "│          ┆            ┆           ┆           ┆ Blue      ┆            ┆            ┆            │\n",
      "│          ┆            ┆           ┆           ┆ Shield    ┆            ┆            ┆            │\n",
      "│          ┆            ┆           ┆           ┆ o...      ┆            ┆            ┆            │\n",
      "│ ...      ┆ ...        ┆ ...       ┆ ...       ┆ ...       ┆ ...        ┆ ...        ┆ ...        │\n",
      "│ WY       ┆ 56045      ┆ Weston    ┆ Bronze    ┆ Blue      ┆ $491.19    ┆ $6,000     ┆ $7,900     │\n",
      "│          ┆            ┆           ┆           ┆ Cross     ┆            ┆            ┆            │\n",
      "│          ┆            ┆           ┆           ┆ Blue      ┆            ┆            ┆            │\n",
      "│          ┆            ┆           ┆           ┆ Shield of ┆            ┆            ┆            │\n",
      "│          ┆            ┆           ┆           ┆ Wyomin... ┆            ┆            ┆            │\n",
      "│ WY       ┆ 56045      ┆ Weston    ┆ Bronze    ┆ Blue      ┆ $495.06    ┆ $7,900     ┆ $7,900     │\n",
      "│          ┆            ┆           ┆           ┆ Cross     ┆            ┆            ┆            │\n",
      "│          ┆            ┆           ┆           ┆ Blue      ┆            ┆            ┆            │\n",
      "│          ┆            ┆           ┆           ┆ Shield of ┆            ┆            ┆            │\n",
      "│          ┆            ┆           ┆           ┆ Wyomin... ┆            ┆            ┆            │\n",
      "│ WY       ┆ 56045      ┆ Weston    ┆ Silver    ┆ Blue      ┆ $692.08    ┆ $6,000     ┆ $7,900     │\n",
      "│          ┆            ┆           ┆           ┆ Cross     ┆            ┆            ┆            │\n",
      "│          ┆            ┆           ┆           ┆ Blue      ┆            ┆            ┆            │\n",
      "│          ┆            ┆           ┆           ┆ Shield of ┆            ┆            ┆            │\n",
      "│          ┆            ┆           ┆           ┆ Wyomin... ┆            ┆            ┆            │\n",
      "│ WY       ┆ 56045      ┆ Weston    ┆ Gold      ┆ Blue      ┆ $578.83    ┆ $2,000     ┆ $7,900     │\n",
      "│          ┆            ┆           ┆           ┆ Cross     ┆            ┆            ┆            │\n",
      "│          ┆            ┆           ┆           ┆ Blue      ┆            ┆            ┆            │\n",
      "│          ┆            ┆           ┆           ┆ Shield of ┆            ┆            ┆            │\n",
      "│          ┆            ┆           ┆           ┆ Wyomin... ┆            ┆            ┆            │\n",
      "└──────────┴────────────┴───────────┴───────────┴───────────┴────────────┴────────────┴────────────┘\n"
     ]
    }
   ],
   "source": [
    "%timeit\n",
    "df = pl.read_csv(\"data/Individual_Market_Medical_07_27_2020.csv\")\n",
    "\n",
    "columns_needed = [\n",
    "        'State Code','FIPS County Code', 'County Name', 'Metal Level', 'Issuer Name', 'Premium Adult Individual Age 21','Medical Deductible - Individual - Standard', 'Medical Maximum Out Of Pocket - Individual - Standard'\n",
    "        ]\n",
    "df = df.select(columns_needed)\n",
    "df = df.filter(pl.col(\"Issuer Name\").str.contains(r\"Blue\"))\n",
    "print(df)\n",
    "df.write_csv('data/2020.csv')"
   ],
   "metadata": {
    "collapsed": false,
    "pycharm": {
     "name": "#%%\n"
    }
   }
  },
  {
   "cell_type": "code",
   "execution_count": 31,
   "outputs": [
    {
     "name": "stdout",
     "output_type": "stream",
     "text": [
      "shape: (11946, 8)\n",
      "┌──────────┬────────────┬───────────┬───────────┬───────────┬────────────┬────────────┬────────────┐\n",
      "│ State    ┆ FIPS       ┆ County    ┆ Metal     ┆ Issuer    ┆ Premium    ┆ Medical    ┆ Medical    │\n",
      "│ Code     ┆ County     ┆ Name      ┆ Level     ┆ Name      ┆ Adult      ┆ Deductible ┆ Maximum    │\n",
      "│ ---      ┆ Code       ┆ ---       ┆ ---       ┆ ---       ┆ Individual ┆ -          ┆ Out Of     │\n",
      "│ str      ┆ ---        ┆ str       ┆ str       ┆ str       ┆ Age 21     ┆ Individual ┆ Pocket -   │\n",
      "│          ┆ i64        ┆           ┆           ┆           ┆ ---        ┆ ...        ┆ ...        │\n",
      "│          ┆            ┆           ┆           ┆           ┆ str        ┆ ---        ┆ ---        │\n",
      "│          ┆            ┆           ┆           ┆           ┆            ┆ str        ┆ str        │\n",
      "╞══════════╪════════════╪═══════════╪═══════════╪═══════════╪════════════╪════════════╪════════════╡\n",
      "│ AK       ┆ 2013       ┆ Aleutians ┆ Gold      ┆ Premera   ┆ $539.00    ┆ $1,500     ┆ $6,000     │\n",
      "│          ┆            ┆ East      ┆           ┆ Blue      ┆            ┆            ┆            │\n",
      "│          ┆            ┆           ┆           ┆ Cross     ┆            ┆            ┆            │\n",
      "│          ┆            ┆           ┆           ┆ Blue      ┆            ┆            ┆            │\n",
      "│          ┆            ┆           ┆           ┆ Shield    ┆            ┆            ┆            │\n",
      "│          ┆            ┆           ┆           ┆ o...      ┆            ┆            ┆            │\n",
      "│ AK       ┆ 2013       ┆ Aleutians ┆ Silver    ┆ Premera   ┆ $572.00    ┆ $4,500     ┆ $7,350     │\n",
      "│          ┆            ┆ East      ┆           ┆ Blue      ┆            ┆            ┆            │\n",
      "│          ┆            ┆           ┆           ┆ Cross     ┆            ┆            ┆            │\n",
      "│          ┆            ┆           ┆           ┆ Blue      ┆            ┆            ┆            │\n",
      "│          ┆            ┆           ┆           ┆ Shield    ┆            ┆            ┆            │\n",
      "│          ┆            ┆           ┆           ┆ o...      ┆            ┆            ┆            │\n",
      "│ AK       ┆ 2013       ┆ Aleutians ┆ Bronze    ┆ Premera   ┆ $379.00    ┆ $6,350     ┆ $7,800     │\n",
      "│          ┆            ┆ East      ┆           ┆ Blue      ┆            ┆            ┆            │\n",
      "│          ┆            ┆           ┆           ┆ Cross     ┆            ┆            ┆            │\n",
      "│          ┆            ┆           ┆           ┆ Blue      ┆            ┆            ┆            │\n",
      "│          ┆            ┆           ┆           ┆ Shield    ┆            ┆            ┆            │\n",
      "│          ┆            ┆           ┆           ┆ o...      ┆            ┆            ┆            │\n",
      "│ AK       ┆ 2013       ┆ Aleutians ┆ Silver    ┆ Premera   ┆ $564.00    ┆ $3,000     ┆ $6,600     │\n",
      "│          ┆            ┆ East      ┆           ┆ Blue      ┆            ┆            ┆            │\n",
      "│          ┆            ┆           ┆           ┆ Cross     ┆            ┆            ┆            │\n",
      "│          ┆            ┆           ┆           ┆ Blue      ┆            ┆            ┆            │\n",
      "│          ┆            ┆           ┆           ┆ Shield    ┆            ┆            ┆            │\n",
      "│          ┆            ┆           ┆           ┆ o...      ┆            ┆            ┆            │\n",
      "│ ...      ┆ ...        ┆ ...       ┆ ...       ┆ ...       ┆ ...        ┆ ...        ┆ ...        │\n",
      "│ WY       ┆ 56045      ┆ Weston    ┆ Bronze    ┆ Blue      ┆ $480.27    ┆ $6,000     ┆ $7,900     │\n",
      "│          ┆            ┆           ┆           ┆ Cross     ┆            ┆            ┆            │\n",
      "│          ┆            ┆           ┆           ┆ Blue      ┆            ┆            ┆            │\n",
      "│          ┆            ┆           ┆           ┆ Shield of ┆            ┆            ┆            │\n",
      "│          ┆            ┆           ┆           ┆ Wyomin... ┆            ┆            ┆            │\n",
      "│ WY       ┆ 56045      ┆ Weston    ┆ Bronze    ┆ Blue      ┆ $483.68    ┆ $7,900     ┆ $7,900     │\n",
      "│          ┆            ┆           ┆           ┆ Cross     ┆            ┆            ┆            │\n",
      "│          ┆            ┆           ┆           ┆ Blue      ┆            ┆            ┆            │\n",
      "│          ┆            ┆           ┆           ┆ Shield of ┆            ┆            ┆            │\n",
      "│          ┆            ┆           ┆           ┆ Wyomin... ┆            ┆            ┆            │\n",
      "│ WY       ┆ 56045      ┆ Weston    ┆ Silver    ┆ Blue      ┆ $678.19    ┆ $6,000     ┆ $7,900     │\n",
      "│          ┆            ┆           ┆           ┆ Cross     ┆            ┆            ┆            │\n",
      "│          ┆            ┆           ┆           ┆ Blue      ┆            ┆            ┆            │\n",
      "│          ┆            ┆           ┆           ┆ Shield of ┆            ┆            ┆            │\n",
      "│          ┆            ┆           ┆           ┆ Wyomin... ┆            ┆            ┆            │\n",
      "│ WY       ┆ 56045      ┆ Weston    ┆ Gold      ┆ Blue      ┆ $566.27    ┆ $2,000     ┆ $7,900     │\n",
      "│          ┆            ┆           ┆           ┆ Cross     ┆            ┆            ┆            │\n",
      "│          ┆            ┆           ┆           ┆ Blue      ┆            ┆            ┆            │\n",
      "│          ┆            ┆           ┆           ┆ Shield of ┆            ┆            ┆            │\n",
      "│          ┆            ┆           ┆           ┆ Wyomin... ┆            ┆            ┆            │\n",
      "└──────────┴────────────┴───────────┴───────────┴───────────┴────────────┴────────────┴────────────┘\n"
     ]
    }
   ],
   "source": [
    "%timeit\n",
    "df = pl.read_csv(\"data/Individual_Market_Medical_07_25_2019.csv\")\n",
    "\n",
    "columns_needed = [\n",
    "        'State Code','FIPS County Code', 'County Name', 'Metal Level', 'Issuer Name', 'Premium Adult Individual Age 21','Medical Deductible - Individual - Standard', 'Medical Maximum Out Of Pocket - Individual - Standard'\n",
    "        ]\n",
    "df = df.select(columns_needed)\n",
    "df = df.filter(pl.col(\"Issuer Name\").str.contains(r\"Blue\"))\n",
    "print(df)\n",
    "df.write_csv('data/2019.csv')"
   ],
   "metadata": {
    "collapsed": false,
    "pycharm": {
     "name": "#%%\n"
    }
   }
  },
  {
   "cell_type": "code",
   "execution_count": 32,
   "outputs": [
    {
     "name": "stdout",
     "output_type": "stream",
     "text": [
      "shape: (11488, 8)\n",
      "┌──────────┬────────────┬───────────┬───────────┬───────────┬────────────┬────────────┬────────────┐\n",
      "│ State    ┆ FIPS       ┆ County    ┆ Metal     ┆ Issuer    ┆ Premium    ┆ Medical    ┆ Medical    │\n",
      "│ Code     ┆ County     ┆ Name      ┆ Level     ┆ Name      ┆ Adult      ┆ Deductible ┆ Maximum    │\n",
      "│ ---      ┆ Code       ┆ ---       ┆ ---       ┆ ---       ┆ Individual ┆ -          ┆ Out Of     │\n",
      "│ str      ┆ ---        ┆ str       ┆ str       ┆ str       ┆ Age 21     ┆ Individual ┆ Pocket -   │\n",
      "│          ┆ i64        ┆           ┆           ┆           ┆ ---        ┆ ...        ┆ ...        │\n",
      "│          ┆            ┆           ┆           ┆           ┆ str        ┆ ---        ┆ ---        │\n",
      "│          ┆            ┆           ┆           ┆           ┆            ┆ str        ┆ str        │\n",
      "╞══════════╪════════════╪═══════════╪═══════════╪═══════════╪════════════╪════════════╪════════════╡\n",
      "│ AK       ┆ 2013       ┆ Aleutians ┆ Gold      ┆ Premera   ┆  $625.00   ┆ $1,500     ┆ $6,000     │\n",
      "│          ┆            ┆ East      ┆           ┆ Blue      ┆            ┆            ┆            │\n",
      "│          ┆            ┆           ┆           ┆ Cross     ┆            ┆            ┆            │\n",
      "│          ┆            ┆           ┆           ┆ Blue      ┆            ┆            ┆            │\n",
      "│          ┆            ┆           ┆           ┆ Shield    ┆            ┆            ┆            │\n",
      "│          ┆            ┆           ┆           ┆ o...      ┆            ┆            ┆            │\n",
      "│ AK       ┆ 2013       ┆ Aleutians ┆ Silver    ┆ Premera   ┆  $560.00   ┆ $4,500     ┆ $7,350     │\n",
      "│          ┆            ┆ East      ┆           ┆ Blue      ┆            ┆            ┆            │\n",
      "│          ┆            ┆           ┆           ┆ Cross     ┆            ┆            ┆            │\n",
      "│          ┆            ┆           ┆           ┆ Blue      ┆            ┆            ┆            │\n",
      "│          ┆            ┆           ┆           ┆ Shield    ┆            ┆            ┆            │\n",
      "│          ┆            ┆           ┆           ┆ o...      ┆            ┆            ┆            │\n",
      "│ AK       ┆ 2013       ┆ Aleutians ┆ Bronze    ┆ Premera   ┆  $434.00   ┆ $6,350     ┆ $7,350     │\n",
      "│          ┆            ┆ East      ┆           ┆ Blue      ┆            ┆            ┆            │\n",
      "│          ┆            ┆           ┆           ┆ Cross     ┆            ┆            ┆            │\n",
      "│          ┆            ┆           ┆           ┆ Blue      ┆            ┆            ┆            │\n",
      "│          ┆            ┆           ┆           ┆ Shield    ┆            ┆            ┆            │\n",
      "│          ┆            ┆           ┆           ┆ o...      ┆            ┆            ┆            │\n",
      "│ AK       ┆ 2013       ┆ Aleutians ┆ Bronze    ┆ Premera   ┆  $433.00   ┆ $5,250     ┆ $6,600     │\n",
      "│          ┆            ┆ East      ┆           ┆ Blue      ┆            ┆            ┆            │\n",
      "│          ┆            ┆           ┆           ┆ Cross     ┆            ┆            ┆            │\n",
      "│          ┆            ┆           ┆           ┆ Blue      ┆            ┆            ┆            │\n",
      "│          ┆            ┆           ┆           ┆ Shield    ┆            ┆            ┆            │\n",
      "│          ┆            ┆           ┆           ┆ o...      ┆            ┆            ┆            │\n",
      "│ ...      ┆ ...        ┆ ...       ┆ ...       ┆ ...       ┆ ...        ┆ ...        ┆ ...        │\n",
      "│ WY       ┆ 56045      ┆ Weston    ┆ Bronze    ┆ Blue      ┆  $486.63   ┆ $6,000     ┆ $7,350     │\n",
      "│          ┆            ┆           ┆           ┆ Cross     ┆            ┆            ┆            │\n",
      "│          ┆            ┆           ┆           ┆ Blue      ┆            ┆            ┆            │\n",
      "│          ┆            ┆           ┆           ┆ Shield of ┆            ┆            ┆            │\n",
      "│          ┆            ┆           ┆           ┆ Wyomin... ┆            ┆            ┆            │\n",
      "│ WY       ┆ 56045      ┆ Weston    ┆ Bronze    ┆ Blue      ┆  $489.21   ┆ $7,350     ┆ $7,350     │\n",
      "│          ┆            ┆           ┆           ┆ Cross     ┆            ┆            ┆            │\n",
      "│          ┆            ┆           ┆           ┆ Blue      ┆            ┆            ┆            │\n",
      "│          ┆            ┆           ┆           ┆ Shield of ┆            ┆            ┆            │\n",
      "│          ┆            ┆           ┆           ┆ Wyomin... ┆            ┆            ┆            │\n",
      "│ WY       ┆ 56045      ┆ Weston    ┆ Silver    ┆ Blue      ┆  $683.79   ┆ $6,000     ┆ $7,350     │\n",
      "│          ┆            ┆           ┆           ┆ Cross     ┆            ┆            ┆            │\n",
      "│          ┆            ┆           ┆           ┆ Blue      ┆            ┆            ┆            │\n",
      "│          ┆            ┆           ┆           ┆ Shield of ┆            ┆            ┆            │\n",
      "│          ┆            ┆           ┆           ┆ Wyomin... ┆            ┆            ┆            │\n",
      "│ WY       ┆ 56045      ┆ Weston    ┆ Gold      ┆ Blue      ┆  $564.17   ┆ $2,000     ┆ $7,350     │\n",
      "│          ┆            ┆           ┆           ┆ Cross     ┆            ┆            ┆            │\n",
      "│          ┆            ┆           ┆           ┆ Blue      ┆            ┆            ┆            │\n",
      "│          ┆            ┆           ┆           ┆ Shield of ┆            ┆            ┆            │\n",
      "│          ┆            ┆           ┆           ┆ Wyomin... ┆            ┆            ┆            │\n",
      "└──────────┴────────────┴───────────┴───────────┴───────────┴────────────┴────────────┴────────────┘\n"
     ]
    }
   ],
   "source": [
    "%timeit\n",
    "df = pl.read_csv(\"data/PY2018_Medi-Indi-Land-07_26_2018.csv\")\n",
    "\n",
    "columns_needed = [\n",
    "        'State Code','FIPS County Code', 'County Name', 'Metal Level', 'Issuer Name', 'Premium Adult Individual Age 21','Medical Deductible - Individual - Standard', 'Medical Maximum Out Of Pocket - Individual - Standard'\n",
    "        ]\n",
    "df = df.select(columns_needed)\n",
    "df = df.filter(pl.col(\"Issuer Name\").str.contains(r\"Blue\"))\n",
    "print(df)\n",
    "df.write_csv('data/2018.csv')"
   ],
   "metadata": {
    "collapsed": false,
    "pycharm": {
     "name": "#%%\n"
    }
   }
  },
  {
   "cell_type": "code",
   "execution_count": 33,
   "outputs": [
    {
     "name": "stdout",
     "output_type": "stream",
     "text": [
      "shape: (16698, 8)\n",
      "┌──────────┬────────────┬───────────┬───────────┬───────────┬────────────┬────────────┬────────────┐\n",
      "│ State    ┆ FIPS       ┆ County    ┆ Metal     ┆ Issuer    ┆ Premium    ┆ Medical    ┆ Medical    │\n",
      "│ Code     ┆ County     ┆ Name      ┆ Level     ┆ Name      ┆ Adult      ┆ Deductible ┆ Maximum    │\n",
      "│ ---      ┆ Code       ┆ ---       ┆ ---       ┆ ---       ┆ Individual ┆ -          ┆ Out Of     │\n",
      "│ str      ┆ ---        ┆ str       ┆ str       ┆ str       ┆ Age 21     ┆ Individual ┆ Pocket -   │\n",
      "│          ┆ i64        ┆           ┆           ┆           ┆ ---        ┆ ...        ┆ ...        │\n",
      "│          ┆            ┆           ┆           ┆           ┆ str        ┆ ---        ┆ ---        │\n",
      "│          ┆            ┆           ┆           ┆           ┆            ┆ str        ┆ str        │\n",
      "╞══════════╪════════════╪═══════════╪═══════════╪═══════════╪════════════╪════════════╪════════════╡\n",
      "│ AK       ┆ 2013       ┆ Aleutians ┆ Gold      ┆ Premera   ┆  $866.00   ┆ $1,500     ┆ $5,000     │\n",
      "│          ┆            ┆ East      ┆           ┆ Blue      ┆            ┆            ┆            │\n",
      "│          ┆            ┆           ┆           ┆ Cross     ┆            ┆            ┆            │\n",
      "│          ┆            ┆           ┆           ┆ Blue      ┆            ┆            ┆            │\n",
      "│          ┆            ┆           ┆           ┆ Shield    ┆            ┆            ┆            │\n",
      "│          ┆            ┆           ┆           ┆ o...      ┆            ┆            ┆            │\n",
      "│ AK       ┆ 2013       ┆ Aleutians ┆ Silver    ┆ Premera   ┆  $743.00   ┆ $3,000     ┆ $7,150     │\n",
      "│          ┆            ┆ East      ┆           ┆ Blue      ┆            ┆            ┆            │\n",
      "│          ┆            ┆           ┆           ┆ Cross     ┆            ┆            ┆            │\n",
      "│          ┆            ┆           ┆           ┆ Blue      ┆            ┆            ┆            │\n",
      "│          ┆            ┆           ┆           ┆ Shield    ┆            ┆            ┆            │\n",
      "│          ┆            ┆           ┆           ┆ o...      ┆            ┆            ┆            │\n",
      "│ AK       ┆ 2013       ┆ Aleutians ┆ Bronze    ┆ Premera   ┆  $580.00   ┆ $6,350     ┆ $7,150     │\n",
      "│          ┆            ┆ East      ┆           ┆ Blue      ┆            ┆            ┆            │\n",
      "│          ┆            ┆           ┆           ┆ Cross     ┆            ┆            ┆            │\n",
      "│          ┆            ┆           ┆           ┆ Blue      ┆            ┆            ┆            │\n",
      "│          ┆            ┆           ┆           ┆ Shield    ┆            ┆            ┆            │\n",
      "│          ┆            ┆           ┆           ┆ o...      ┆            ┆            ┆            │\n",
      "│ AK       ┆ 2013       ┆ Aleutians ┆ Bronze    ┆ Premera   ┆  $578.00   ┆ $5,250     ┆ $6,500     │\n",
      "│          ┆            ┆ East      ┆           ┆ Blue      ┆            ┆            ┆            │\n",
      "│          ┆            ┆           ┆           ┆ Cross     ┆            ┆            ┆            │\n",
      "│          ┆            ┆           ┆           ┆ Blue      ┆            ┆            ┆            │\n",
      "│          ┆            ┆           ┆           ┆ Shield    ┆            ┆            ┆            │\n",
      "│          ┆            ┆           ┆           ┆ o...      ┆            ┆            ┆            │\n",
      "│ ...      ┆ ...        ┆ ...       ┆ ...       ┆ ...       ┆ ...        ┆ ...        ┆ ...        │\n",
      "│ WY       ┆ 56045      ┆ Weston    ┆ Silver    ┆ Blue      ┆  $426.43   ┆ $2,500     ┆ $6,350     │\n",
      "│          ┆            ┆           ┆           ┆ Cross     ┆            ┆            ┆            │\n",
      "│          ┆            ┆           ┆           ┆ Blue      ┆            ┆            ┆            │\n",
      "│          ┆            ┆           ┆           ┆ Shield of ┆            ┆            ┆            │\n",
      "│          ┆            ┆           ┆           ┆ Wyomin... ┆            ┆            ┆            │\n",
      "│ WY       ┆ 56045      ┆ Weston    ┆ Bronze    ┆ Blue      ┆  $371.48   ┆ $6,000     ┆ $7,150     │\n",
      "│          ┆            ┆           ┆           ┆ Cross     ┆            ┆            ┆            │\n",
      "│          ┆            ┆           ┆           ┆ Blue      ┆            ┆            ┆            │\n",
      "│          ┆            ┆           ┆           ┆ Shield of ┆            ┆            ┆            │\n",
      "│          ┆            ┆           ┆           ┆ Wyomin... ┆            ┆            ┆            │\n",
      "│ WY       ┆ 56045      ┆ Weston    ┆ Catastrop ┆ Blue      ┆  $313.86   ┆ $7,150     ┆ $7,150     │\n",
      "│          ┆            ┆           ┆ hic       ┆ Cross     ┆            ┆            ┆            │\n",
      "│          ┆            ┆           ┆           ┆ Blue      ┆            ┆            ┆            │\n",
      "│          ┆            ┆           ┆           ┆ Shield of ┆            ┆            ┆            │\n",
      "│          ┆            ┆           ┆           ┆ Wyomin... ┆            ┆            ┆            │\n",
      "│ WY       ┆ 56045      ┆ Weston    ┆ Silver    ┆ Blue      ┆  $409.97   ┆ $3,250     ┆ $5,600     │\n",
      "│          ┆            ┆           ┆           ┆ Cross     ┆            ┆            ┆            │\n",
      "│          ┆            ┆           ┆           ┆ Blue      ┆            ┆            ┆            │\n",
      "│          ┆            ┆           ┆           ┆ Shield of ┆            ┆            ┆            │\n",
      "│          ┆            ┆           ┆           ┆ Wyomin... ┆            ┆            ┆            │\n",
      "└──────────┴────────────┴───────────┴───────────┴───────────┴────────────┴────────────┴────────────┘\n"
     ]
    }
   ],
   "source": [
    "%timeit\n",
    "df = pl.read_csv(\"data/PY2017_Medi-Indi-Land-08_11_2017.csv\")\n",
    "\n",
    "columns_needed = [\n",
    "        'State Code','FIPS County Code', 'County Name', 'Metal Level', 'Issuer Name', 'Premium Adult Individual Age 21','Medical Deductible - Individual - Standard', 'Medical Maximum Out Of Pocket - Individual - Standard'\n",
    "        ]\n",
    "df = df.select(columns_needed)\n",
    "df = df.filter(pl.col(\"Issuer Name\").str.contains(r\"Blue\"))\n",
    "print(df)\n",
    "df.write_csv('data/2017.csv')"
   ],
   "metadata": {
    "collapsed": false,
    "pycharm": {
     "name": "#%%\n"
    }
   }
  },
  {
   "cell_type": "code",
   "execution_count": 68,
   "outputs": [
    {
     "name": "stdout",
     "output_type": "stream",
     "text": [
      "shape: (97134, 9)\n",
      "┌──────────┬────────────┬───────────┬───────────┬─────┬────────────┬────────────┬────────────┬───────────┐\n",
      "│ State    ┆ FIPS       ┆ County    ┆ Metal     ┆ ... ┆ Premium    ┆ Medical    ┆ Medical    ┆ Covid-Dum │\n",
      "│ Code     ┆ County     ┆ Name      ┆ Level     ┆     ┆ Adult      ┆ Deductible ┆ Maximum    ┆ my        │\n",
      "│ ---      ┆ Code       ┆ ---       ┆ ---       ┆     ┆ Individual ┆ -          ┆ Out Of     ┆ ---       │\n",
      "│ str      ┆ ---        ┆ str       ┆ str       ┆     ┆ Age 21     ┆ Individual ┆ Pocket -   ┆ i32       │\n",
      "│          ┆ i64        ┆           ┆           ┆     ┆ ---        ┆ ...        ┆ ...        ┆           │\n",
      "│          ┆            ┆           ┆           ┆     ┆ f64        ┆ ---        ┆ ---        ┆           │\n",
      "│          ┆            ┆           ┆           ┆     ┆            ┆ f64        ┆ f64        ┆           │\n",
      "╞══════════╪════════════╪═══════════╪═══════════╪═════╪════════════╪════════════╪════════════╪═══════════╡\n",
      "│ AK       ┆ 2013       ┆ Aleutians ┆ Gold      ┆ ... ┆ 866.0      ┆ 1500.0     ┆ 5000.0     ┆ 0         │\n",
      "│          ┆            ┆ East      ┆           ┆     ┆            ┆            ┆            ┆           │\n",
      "│ AK       ┆ 2013       ┆ Aleutians ┆ Silver    ┆ ... ┆ 743.0      ┆ 3000.0     ┆ 7150.0     ┆ 0         │\n",
      "│          ┆            ┆ East      ┆           ┆     ┆            ┆            ┆            ┆           │\n",
      "│ AK       ┆ 2013       ┆ Aleutians ┆ Bronze    ┆ ... ┆ 580.0      ┆ 6350.0     ┆ 7150.0     ┆ 0         │\n",
      "│          ┆            ┆ East      ┆           ┆     ┆            ┆            ┆            ┆           │\n",
      "│ AK       ┆ 2013       ┆ Aleutians ┆ Bronze    ┆ ... ┆ 578.0      ┆ 5250.0     ┆ 6500.0     ┆ 0         │\n",
      "│          ┆            ┆ East      ┆           ┆     ┆            ┆            ┆            ┆           │\n",
      "│ ...      ┆ ...        ┆ ...       ┆ ...       ┆ ... ┆ ...        ┆ ...        ┆ ...        ┆ ...       │\n",
      "│ WY       ┆ 56045      ┆ Weston    ┆ Gold      ┆ ... ┆ 499.61     ┆ 1500.0     ┆ 7000.0     ┆ 1         │\n",
      "│ WY       ┆ 56045      ┆ Weston    ┆ Bronze    ┆ ... ┆ 401.63     ┆ 8550.0     ┆ 8550.0     ┆ 1         │\n",
      "│ WY       ┆ 56045      ┆ Weston    ┆ Silver    ┆ ... ┆ 603.36     ┆ 6000.0     ┆ 8550.0     ┆ 1         │\n",
      "│ WY       ┆ 56045      ┆ Weston    ┆ Silver    ┆ ... ┆ 610.8      ┆ 2500.0     ┆ 8550.0     ┆ 1         │\n",
      "└──────────┴────────────┴───────────┴───────────┴─────┴────────────┴────────────┴────────────┴───────────┘\n"
     ]
    }
   ],
   "source": [
    "years = [str(year) for year in range(2017,2023)]\n",
    "dataframe = pl.DataFrame()\n",
    "\n",
    "for year in years:\n",
    "    df = pl.read_csv(f\"data/{year}.csv\")\n",
    "\n",
    "    if int(year) < 2020:\n",
    "        covid_dummy = 0\n",
    "\n",
    "    else:\n",
    "        covid_dummy = 1\n",
    "\n",
    "    df = df.with_columns(pl.lit(covid_dummy).alias('Covid-Dummy'))\n",
    "    dataframe = pl.concat([dataframe, df])\n",
    "\n",
    "func = lambda x: float(x.replace(',', \"\").replace(\"$\", \"\"))\n",
    "\n",
    "# def func\n",
    "dataframe = dataframe.with_columns([\n",
    "        pl.col('Medical Maximum Out Of Pocket - Individual - Standard').apply(func),\n",
    "        pl.col('Premium Adult Individual Age 21').apply(func),\n",
    "        pl.col('Medical Deductible - Individual - Standard').apply(func)\n",
    "        ])\n",
    "print(dataframe)\n",
    "dataframe.write_csv('data/main_data_file.csv')"
   ],
   "metadata": {
    "collapsed": false,
    "pycharm": {
     "name": "#%%\n"
    }
   }
  },
  {
   "cell_type": "code",
   "execution_count": 69,
   "outputs": [
    {
     "name": "stdout",
     "output_type": "stream",
     "text": [
      "      State Code  FIPS County Code     County Name Metal Level  \\\n",
      "0             AK              2013  Aleutians East        Gold   \n",
      "1             AK              2013  Aleutians East      Silver   \n",
      "2             AK              2013  Aleutians East      Bronze   \n",
      "3             AK              2013  Aleutians East      Bronze   \n",
      "4             AK              2013  Aleutians East      Silver   \n",
      "...          ...               ...             ...         ...   \n",
      "97129         WY             56045          Weston        Gold   \n",
      "97130         WY             56045          Weston        Gold   \n",
      "97131         WY             56045          Weston      Bronze   \n",
      "97132         WY             56045          Weston      Silver   \n",
      "97133         WY             56045          Weston      Silver   \n",
      "\n",
      "                                    Issuer Name  \\\n",
      "0      Premera Blue Cross Blue Shield of Alaska   \n",
      "1      Premera Blue Cross Blue Shield of Alaska   \n",
      "2      Premera Blue Cross Blue Shield of Alaska   \n",
      "3      Premera Blue Cross Blue Shield of Alaska   \n",
      "4      Premera Blue Cross Blue Shield of Alaska   \n",
      "...                                         ...   \n",
      "97129         Blue Cross Blue Shield of Wyoming   \n",
      "97130         Blue Cross Blue Shield of Wyoming   \n",
      "97131         Blue Cross Blue Shield of Wyoming   \n",
      "97132         Blue Cross Blue Shield of Wyoming   \n",
      "97133         Blue Cross Blue Shield of Wyoming   \n",
      "\n",
      "       Premium Adult Individual Age 21  \\\n",
      "0                               866.00   \n",
      "1                               743.00   \n",
      "2                               580.00   \n",
      "3                               578.00   \n",
      "4                               723.00   \n",
      "...                                ...   \n",
      "97129                           509.37   \n",
      "97130                           499.61   \n",
      "97131                           401.63   \n",
      "97132                           603.36   \n",
      "97133                           610.80   \n",
      "\n",
      "       Medical Deductible - Individual - Standard  \\\n",
      "0                                          1500.0   \n",
      "1                                          3000.0   \n",
      "2                                          6350.0   \n",
      "3                                          5250.0   \n",
      "4                                          3000.0   \n",
      "...                                           ...   \n",
      "97129                                      2000.0   \n",
      "97130                                      1500.0   \n",
      "97131                                      8550.0   \n",
      "97132                                      6000.0   \n",
      "97133                                      2500.0   \n",
      "\n",
      "       Medical Maximum Out Of Pocket - Individual - Standard  Covid-Dummy  \n",
      "0                                                 5000.0                0  \n",
      "1                                                 7150.0                0  \n",
      "2                                                 7150.0                0  \n",
      "3                                                 6500.0                0  \n",
      "4                                                 4100.0                0  \n",
      "...                                                  ...              ...  \n",
      "97129                                             8550.0                1  \n",
      "97130                                             7000.0                1  \n",
      "97131                                             8550.0                1  \n",
      "97132                                             8550.0                1  \n",
      "97133                                             8550.0                1  \n",
      "\n",
      "[97134 rows x 9 columns]\n"
     ]
    }
   ],
   "source": [
    "import pandas as pd\n",
    "\n",
    "print(pd.read_csv('data/main_data_file.csv'))"
   ],
   "metadata": {
    "collapsed": false,
    "pycharm": {
     "name": "#%%\n"
    }
   }
  },
  {
   "cell_type": "code",
   "execution_count": null,
   "outputs": [],
   "source": [],
   "metadata": {
    "collapsed": false,
    "pycharm": {
     "name": "#%%\n"
    }
   }
  }
 ],
 "metadata": {
  "kernelspec": {
   "display_name": "Python 3",
   "language": "python",
   "name": "python3"
  },
  "language_info": {
   "codemirror_mode": {
    "name": "ipython",
    "version": 2
   },
   "file_extension": ".py",
   "mimetype": "text/x-python",
   "name": "python",
   "nbconvert_exporter": "python",
   "pygments_lexer": "ipython2",
   "version": "2.7.6"
  }
 },
 "nbformat": 4,
 "nbformat_minor": 0
}