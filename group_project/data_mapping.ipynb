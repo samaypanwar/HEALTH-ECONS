{
 "cells": [
  {
   "cell_type": "code",
   "execution_count": 1,
   "metadata": {
    "collapsed": true,
    "pycharm": {
     "name": "#%%\n"
    }
   },
   "outputs": [
    {
     "name": "stdout",
     "output_type": "stream",
     "text": [
      "/Users/samaypanwar/Library/CloudStorage/OneDrive-NanyangTechnologicalUniversity/Uni/Y4S2/HEALTH ECONS/group_project\n"
     ]
    }
   ],
   "source": [
    "%load_ext autoreload\n",
    "%autoreload 2\n",
    "\n",
    "import os\n",
    "import pandas as pd\n",
    "import numpy as np\n",
    "\n",
    "path_parent = os.path.dirname(os.getcwd())\n",
    "\n",
    "# if os.getcwd()[-8:] != 'HEALTH-ECONS':\n",
    "#     os.chdir(path_parent)\n",
    "\n",
    "print(os.getcwd())\n",
    "\n",
    "import matplotlib.pyplot as plt\n",
    "\n",
    "plt.style.use('seaborn-v0_8')\n",
    "plt.rcParams.update({'font.family': 'Times New Roman'})\n",
    "plt.rcParams.update({'axes.grid': True, 'axes.linewidth': 0.5, 'axes.edgecolor': 'black'})\n",
    "\n"
   ]
  },
  {
   "cell_type": "code",
   "execution_count": null,
   "outputs": [],
   "source": [
    "import polars as pl"
   ],
   "metadata": {
    "collapsed": false,
    "pycharm": {
     "name": "#%%\n"
    }
   }
  },
  {
   "cell_type": "code",
   "execution_count": null,
   "outputs": [],
   "source": [
    "%timeit\n",
    "df = pl.read_csv(\"data/Individual_Market_Medical.csv\")\n",
    "\n",
    "columns_needed = [\n",
    "        'State Code','FIPS County Code', 'County Name', 'Metal Level', 'Issuer Name', 'Premium Adult Individual Age 21','Medical Deductible - Individual - Standard', 'Medical Maximum Out Of Pocket - Individual - Standard'\n",
    "        ]\n",
    "df = df.select(columns_needed)\n",
    "df = df.filter(pl.col(\"Issuer Name\").str.contains(r\"Blue\"))\n",
    "print(df.head())\n",
    "df.write_csv('data/2022.csv')"
   ],
   "metadata": {
    "collapsed": false,
    "pycharm": {
     "name": "#%%\n"
    }
   }
  },
  {
   "cell_type": "code",
   "execution_count": null,
   "outputs": [],
   "source": [
    "%timeit\n",
    "df = pl.read_csv(\"data/Individual_Market_Medical_08_04_2021.csv\")\n",
    "\n",
    "columns_needed = [\n",
    "        'State Code','FIPS County Code', 'County Name', 'Metal Level', 'Issuer Name', 'Premium Adult Individual Age 21','Medical Deductible - Individual - Standard', 'Medical Maximum Out Of Pocket - Individual - Standard'\n",
    "        ]\n",
    "df = df.select(columns_needed)\n",
    "df = df.filter(pl.col(\"Issuer Name\").str.contains(r\"Blue\"))\n",
    "print(df)\n",
    "df.write_csv('data/2021.csv')"
   ],
   "metadata": {
    "collapsed": false,
    "pycharm": {
     "name": "#%%\n"
    }
   }
  },
  {
   "cell_type": "code",
   "execution_count": null,
   "outputs": [],
   "source": [
    "%timeit\n",
    "df = pl.read_csv(\"data/Individual_Market_Medical_07_27_2020.csv\")\n",
    "\n",
    "columns_needed = [\n",
    "        'State Code','FIPS County Code', 'County Name', 'Metal Level', 'Issuer Name', 'Premium Adult Individual Age 21','Medical Deductible - Individual - Standard', 'Medical Maximum Out Of Pocket - Individual - Standard'\n",
    "        ]\n",
    "df = df.select(columns_needed)\n",
    "df = df.filter(pl.col(\"Issuer Name\").str.contains(r\"Blue\"))\n",
    "print(df)\n",
    "df.write_csv('data/2020.csv')"
   ],
   "metadata": {
    "collapsed": false,
    "pycharm": {
     "name": "#%%\n"
    }
   }
  },
  {
   "cell_type": "code",
   "execution_count": null,
   "outputs": [],
   "source": [
    "%timeit\n",
    "df = pl.read_csv(\"data/Individual_Market_Medical_07_25_2019.csv\")\n",
    "\n",
    "columns_needed = [\n",
    "        'State Code','FIPS County Code', 'County Name', 'Metal Level', 'Issuer Name', 'Premium Adult Individual Age 21','Medical Deductible - Individual - Standard', 'Medical Maximum Out Of Pocket - Individual - Standard'\n",
    "        ]\n",
    "df = df.select(columns_needed)\n",
    "df = df.filter(pl.col(\"Issuer Name\").str.contains(r\"Blue\"))\n",
    "print(df)\n",
    "df.write_csv('data/2019.csv')"
   ],
   "metadata": {
    "collapsed": false,
    "pycharm": {
     "name": "#%%\n"
    }
   }
  },
  {
   "cell_type": "code",
   "execution_count": null,
   "outputs": [],
   "source": [
    "%timeit\n",
    "df = pl.read_csv(\"data/PY2018_Medi-Indi-Land-07_26_2018.csv\")\n",
    "\n",
    "columns_needed = [\n",
    "        'State Code','FIPS County Code', 'County Name', 'Metal Level', 'Issuer Name', 'Premium Adult Individual Age 21','Medical Deductible - Individual - Standard', 'Medical Maximum Out Of Pocket - Individual - Standard'\n",
    "        ]\n",
    "df = df.select(columns_needed)\n",
    "df = df.filter(pl.col(\"Issuer Name\").str.contains(r\"Blue\"))\n",
    "print(df)\n",
    "df.write_csv('data/2018.csv')"
   ],
   "metadata": {
    "collapsed": false,
    "pycharm": {
     "name": "#%%\n"
    }
   }
  },
  {
   "cell_type": "code",
   "execution_count": null,
   "outputs": [],
   "source": [
    "%timeit\n",
    "df = pl.read_csv(\"data/PY2017_Medi-Indi-Land-08_11_2017.csv\")\n",
    "\n",
    "columns_needed = [\n",
    "        'State Code','FIPS County Code', 'County Name', 'Metal Level', 'Issuer Name', 'Premium Adult Individual Age 21','Medical Deductible - Individual - Standard', 'Medical Maximum Out Of Pocket - Individual - Standard'\n",
    "        ]\n",
    "df = df.select(columns_needed)\n",
    "df = df.filter(pl.col(\"Issuer Name\").str.contains(r\"Blue\"))\n",
    "print(df)\n",
    "df.write_csv('data/2017.csv')"
   ],
   "metadata": {
    "collapsed": false,
    "pycharm": {
     "name": "#%%\n"
    }
   }
  },
  {
   "cell_type": "code",
   "execution_count": null,
   "outputs": [],
   "source": [
    "years = [str(year) for year in range(2017,2023)]\n",
    "dataframe = pl.DataFrame()\n",
    "\n",
    "for year in years:\n",
    "    df = pl.read_csv(f\"data/{year}.csv\")\n",
    "\n",
    "    covid_dummy = int(year)\n",
    "\n",
    "    df = df.with_columns(pl.lit(covid_dummy).alias('Time Trend'))\n",
    "    dataframe = pl.concat([dataframe, df])\n",
    "\n",
    "func = lambda x: float(x.replace(',', \"\").replace(\"$\", \"\"))\n",
    "\n",
    "# def func\n",
    "dataframe = dataframe.with_columns([\n",
    "        pl.col('Medical Maximum Out Of Pocket - Individual - Standard').apply(func),\n",
    "        pl.col('Premium Adult Individual Age 21').apply(func),\n",
    "        pl.col('Medical Deductible - Individual - Standard').apply(func)\n",
    "        ])\n",
    "print(dataframe)\n",
    "dataframe.write_csv('data/main_data_file.csv')"
   ],
   "metadata": {
    "collapsed": false,
    "pycharm": {
     "name": "#%%\n"
    }
   }
  },
  {
   "cell_type": "code",
   "execution_count": 36,
   "outputs": [
    {
     "name": "stdout",
     "output_type": "stream",
     "text": [
      "34\n"
     ]
    }
   ],
   "source": [
    "print(dataframe['State Code'].n_unique())"
   ],
   "metadata": {
    "collapsed": false,
    "pycharm": {
     "name": "#%%\n"
    }
   }
  },
  {
   "cell_type": "code",
   "execution_count": 10,
   "outputs": [
    {
     "name": "stdout",
     "output_type": "stream",
     "text": [
      "      State Code  FIPS County Code     County Name Metal Level  \\\n",
      "0             AK              2013  Aleutians East        Gold   \n",
      "1             AK              2013  Aleutians East      Silver   \n",
      "2             AK              2013  Aleutians East      Bronze   \n",
      "3             AK              2013  Aleutians East      Bronze   \n",
      "4             AK              2013  Aleutians East      Silver   \n",
      "...          ...               ...             ...         ...   \n",
      "97129         WY             56045          Weston        Gold   \n",
      "97130         WY             56045          Weston        Gold   \n",
      "97131         WY             56045          Weston      Bronze   \n",
      "97132         WY             56045          Weston      Silver   \n",
      "97133         WY             56045          Weston      Silver   \n",
      "\n",
      "                                    Issuer Name  \\\n",
      "0      Premera Blue Cross Blue Shield of Alaska   \n",
      "1      Premera Blue Cross Blue Shield of Alaska   \n",
      "2      Premera Blue Cross Blue Shield of Alaska   \n",
      "3      Premera Blue Cross Blue Shield of Alaska   \n",
      "4      Premera Blue Cross Blue Shield of Alaska   \n",
      "...                                         ...   \n",
      "97129         Blue Cross Blue Shield of Wyoming   \n",
      "97130         Blue Cross Blue Shield of Wyoming   \n",
      "97131         Blue Cross Blue Shield of Wyoming   \n",
      "97132         Blue Cross Blue Shield of Wyoming   \n",
      "97133         Blue Cross Blue Shield of Wyoming   \n",
      "\n",
      "       Premium Adult Individual Age 21  \\\n",
      "0                               866.00   \n",
      "1                               743.00   \n",
      "2                               580.00   \n",
      "3                               578.00   \n",
      "4                               723.00   \n",
      "...                                ...   \n",
      "97129                           509.37   \n",
      "97130                           499.61   \n",
      "97131                           401.63   \n",
      "97132                           603.36   \n",
      "97133                           610.80   \n",
      "\n",
      "       Medical Deductible - Individual - Standard  \\\n",
      "0                                          1500.0   \n",
      "1                                          3000.0   \n",
      "2                                          6350.0   \n",
      "3                                          5250.0   \n",
      "4                                          3000.0   \n",
      "...                                           ...   \n",
      "97129                                      2000.0   \n",
      "97130                                      1500.0   \n",
      "97131                                      8550.0   \n",
      "97132                                      6000.0   \n",
      "97133                                      2500.0   \n",
      "\n",
      "       Medical Maximum Out Of Pocket - Individual - Standard  Time Trend  \n",
      "0                                                 5000.0            2017  \n",
      "1                                                 7150.0            2017  \n",
      "2                                                 7150.0            2017  \n",
      "3                                                 6500.0            2017  \n",
      "4                                                 4100.0            2017  \n",
      "...                                                  ...             ...  \n",
      "97129                                             8550.0            2022  \n",
      "97130                                             7000.0            2022  \n",
      "97131                                             8550.0            2022  \n",
      "97132                                             8550.0            2022  \n",
      "97133                                             8550.0            2022  \n",
      "\n",
      "[97134 rows x 9 columns]\n"
     ]
    }
   ],
   "source": [
    "import pandas as pd\n",
    "\n",
    "print(pd.read_csv('data/main_data_file.csv'))"
   ],
   "metadata": {
    "collapsed": false,
    "pycharm": {
     "name": "#%%\n"
    }
   }
  },
  {
   "cell_type": "code",
   "execution_count": 3,
   "outputs": [],
   "source": [
    "def clean_date(date):\n",
    "\n",
    "    month, day, year = date.split('/')\n",
    "    year = year[-2:]\n",
    "\n",
    "    if len(month) == 1:\n",
    "        month = '0' + month\n",
    "\n",
    "    if len(day) == 1:\n",
    "        day = '0' + day\n",
    "\n",
    "    return '20' + str(year) + '-' + str(month) + '-' + str(day)"
   ],
   "metadata": {
    "collapsed": false,
    "pycharm": {
     "name": "#%%\n"
    }
   }
  },
  {
   "cell_type": "code",
   "execution_count": 4,
   "outputs": [
    {
     "name": "stdout",
     "output_type": "stream",
     "text": [
      "             date_updated state  start_date    end_date  tot_cases  new_cases  \\\n",
      "date_updated                                                                    \n",
      "2022-12-29     2022-12-29   FSM  12/22/2022  12/28/2022      22069         21   \n",
      "2022-12-29     2022-12-29    PR  12/22/2022  12/28/2022    1049438       8652   \n",
      "2022-12-29     2022-12-29    PW  12/22/2022  12/28/2022       5968         13   \n",
      "2022-12-29     2022-12-29    AL  12/22/2022  12/28/2022    1573637       4703   \n",
      "2022-12-29     2022-12-29    AK  12/22/2022  12/28/2022     288123        332   \n",
      "\n",
      "              tot_deaths  new_deaths  new_historic_cases  new_historic_deaths  \n",
      "date_updated                                                                   \n",
      "2022-12-29            58           0                   0                    0  \n",
      "2022-12-29          5519          29                   0                    0  \n",
      "2022-12-29             9           0                   0                    0  \n",
      "2022-12-29         20757          20                   0                    0  \n",
      "2022-12-29          1418           0                   0                    0  \n"
     ]
    }
   ],
   "source": [
    "import datetime\n",
    "df = pd.read_csv('data/Weekly_United_States_COVID-19_Cases_and_Deaths_by_State.csv')\n",
    "df.date_updated = list(map(clean_date, df.date_updated))\n",
    "df.date_updated = pd.to_datetime(df.date_updated, format = '%Y-%m-%d')\n",
    "df = df.sort_values(by = 'date_updated')\n",
    "df.set_index(df.date_updated, drop = True, inplace = True)\n",
    "df = df[df.date_updated < datetime.datetime(2023, 1, 1)]\n",
    "print(df.tail())"
   ],
   "metadata": {
    "collapsed": false,
    "pycharm": {
     "name": "#%%\n"
    }
   }
  },
  {
   "cell_type": "code",
   "execution_count": 5,
   "outputs": [
    {
     "data": {
      "text/plain": "    state date_updated  new_cases\n0      AK   2020-12-31      45802\n1      AK   2021-12-31     106561\n2      AK   2022-12-31     135760\n3      AL   2020-12-31     356820\n4      AL   2021-12-31     523487\n..    ...          ...        ...\n175    WV   2021-12-31     241289\n176    WV   2022-12-31     298027\n177    WY   2020-12-31      44125\n178    WY   2021-12-31      71117\n179    WY   2022-12-31      67605\n\n[180 rows x 3 columns]",
      "text/html": "<div>\n<style scoped>\n    .dataframe tbody tr th:only-of-type {\n        vertical-align: middle;\n    }\n\n    .dataframe tbody tr th {\n        vertical-align: top;\n    }\n\n    .dataframe thead th {\n        text-align: right;\n    }\n</style>\n<table border=\"1\" class=\"dataframe\">\n  <thead>\n    <tr style=\"text-align: right;\">\n      <th></th>\n      <th>state</th>\n      <th>date_updated</th>\n      <th>new_cases</th>\n    </tr>\n  </thead>\n  <tbody>\n    <tr>\n      <th>0</th>\n      <td>AK</td>\n      <td>2020-12-31</td>\n      <td>45802</td>\n    </tr>\n    <tr>\n      <th>1</th>\n      <td>AK</td>\n      <td>2021-12-31</td>\n      <td>106561</td>\n    </tr>\n    <tr>\n      <th>2</th>\n      <td>AK</td>\n      <td>2022-12-31</td>\n      <td>135760</td>\n    </tr>\n    <tr>\n      <th>3</th>\n      <td>AL</td>\n      <td>2020-12-31</td>\n      <td>356820</td>\n    </tr>\n    <tr>\n      <th>4</th>\n      <td>AL</td>\n      <td>2021-12-31</td>\n      <td>523487</td>\n    </tr>\n    <tr>\n      <th>...</th>\n      <td>...</td>\n      <td>...</td>\n      <td>...</td>\n    </tr>\n    <tr>\n      <th>175</th>\n      <td>WV</td>\n      <td>2021-12-31</td>\n      <td>241289</td>\n    </tr>\n    <tr>\n      <th>176</th>\n      <td>WV</td>\n      <td>2022-12-31</td>\n      <td>298027</td>\n    </tr>\n    <tr>\n      <th>177</th>\n      <td>WY</td>\n      <td>2020-12-31</td>\n      <td>44125</td>\n    </tr>\n    <tr>\n      <th>178</th>\n      <td>WY</td>\n      <td>2021-12-31</td>\n      <td>71117</td>\n    </tr>\n    <tr>\n      <th>179</th>\n      <td>WY</td>\n      <td>2022-12-31</td>\n      <td>67605</td>\n    </tr>\n  </tbody>\n</table>\n<p>180 rows × 3 columns</p>\n</div>"
     },
     "execution_count": 5,
     "metadata": {},
     "output_type": "execute_result"
    }
   ],
   "source": [
    "df.groupby('state').resample('Y')['new_cases'].sum().to_csv('data/year_and_statewise_covid_cases.csv')\n",
    "tmp = pd.read_csv('data/year_and_statewise_covid_cases.csv')\n",
    "tmp"
   ],
   "metadata": {
    "collapsed": false,
    "pycharm": {
     "name": "#%%\n"
    }
   }
  },
  {
   "cell_type": "code",
   "execution_count": 10,
   "outputs": [
    {
     "data": {
      "text/plain": "             date_updated state  start_date    end_date  tot_cases  new_cases  \\\ndate_updated                                                                    \n2020-01-23     2020-01-23    GA  01/16/2020  01/22/2020          0          0   \n2020-01-23     2020-01-23    CA  01/16/2020  01/22/2020          0          0   \n2020-01-23     2020-01-23    WY  01/16/2020  01/22/2020          0          0   \n2020-01-23     2020-01-23    NH  01/16/2020  01/22/2020          0          0   \n2020-01-23     2020-01-23    MT  01/16/2020  01/22/2020          0          0   \n...                   ...   ...         ...         ...        ...        ...   \n2022-12-29     2022-12-29   FSM  12/22/2022  12/28/2022      22069         21   \n2022-12-29     2022-12-29    PR  12/22/2022  12/28/2022    1049438       8652   \n2022-12-29     2022-12-29    PW  12/22/2022  12/28/2022       5968         13   \n2022-12-29     2022-12-29    AL  12/22/2022  12/28/2022    1573637       4703   \n2022-12-29     2022-12-29    AK  12/22/2022  12/28/2022     288123        332   \n\n              tot_deaths  new_deaths  new_historic_cases  new_historic_deaths  \ndate_updated                                                                   \n2020-01-23             0           0                   0                    0  \n2020-01-23             0           0                   0                    0  \n2020-01-23             0           0                   0                    0  \n2020-01-23             0           0                   0                    0  \n2020-01-23             0           0                   0                    0  \n...                  ...         ...                 ...                  ...  \n2022-12-29            58           0                   0                    0  \n2022-12-29          5519          29                   0                    0  \n2022-12-29             9           0                   0                    0  \n2022-12-29         20757          20                   0                    0  \n2022-12-29          1418           0                   0                    0  \n\n[9240 rows x 10 columns]",
      "text/html": "<div>\n<style scoped>\n    .dataframe tbody tr th:only-of-type {\n        vertical-align: middle;\n    }\n\n    .dataframe tbody tr th {\n        vertical-align: top;\n    }\n\n    .dataframe thead th {\n        text-align: right;\n    }\n</style>\n<table border=\"1\" class=\"dataframe\">\n  <thead>\n    <tr style=\"text-align: right;\">\n      <th></th>\n      <th>date_updated</th>\n      <th>state</th>\n      <th>start_date</th>\n      <th>end_date</th>\n      <th>tot_cases</th>\n      <th>new_cases</th>\n      <th>tot_deaths</th>\n      <th>new_deaths</th>\n      <th>new_historic_cases</th>\n      <th>new_historic_deaths</th>\n    </tr>\n    <tr>\n      <th>date_updated</th>\n      <th></th>\n      <th></th>\n      <th></th>\n      <th></th>\n      <th></th>\n      <th></th>\n      <th></th>\n      <th></th>\n      <th></th>\n      <th></th>\n    </tr>\n  </thead>\n  <tbody>\n    <tr>\n      <th>2020-01-23</th>\n      <td>2020-01-23</td>\n      <td>GA</td>\n      <td>01/16/2020</td>\n      <td>01/22/2020</td>\n      <td>0</td>\n      <td>0</td>\n      <td>0</td>\n      <td>0</td>\n      <td>0</td>\n      <td>0</td>\n    </tr>\n    <tr>\n      <th>2020-01-23</th>\n      <td>2020-01-23</td>\n      <td>CA</td>\n      <td>01/16/2020</td>\n      <td>01/22/2020</td>\n      <td>0</td>\n      <td>0</td>\n      <td>0</td>\n      <td>0</td>\n      <td>0</td>\n      <td>0</td>\n    </tr>\n    <tr>\n      <th>2020-01-23</th>\n      <td>2020-01-23</td>\n      <td>WY</td>\n      <td>01/16/2020</td>\n      <td>01/22/2020</td>\n      <td>0</td>\n      <td>0</td>\n      <td>0</td>\n      <td>0</td>\n      <td>0</td>\n      <td>0</td>\n    </tr>\n    <tr>\n      <th>2020-01-23</th>\n      <td>2020-01-23</td>\n      <td>NH</td>\n      <td>01/16/2020</td>\n      <td>01/22/2020</td>\n      <td>0</td>\n      <td>0</td>\n      <td>0</td>\n      <td>0</td>\n      <td>0</td>\n      <td>0</td>\n    </tr>\n    <tr>\n      <th>2020-01-23</th>\n      <td>2020-01-23</td>\n      <td>MT</td>\n      <td>01/16/2020</td>\n      <td>01/22/2020</td>\n      <td>0</td>\n      <td>0</td>\n      <td>0</td>\n      <td>0</td>\n      <td>0</td>\n      <td>0</td>\n    </tr>\n    <tr>\n      <th>...</th>\n      <td>...</td>\n      <td>...</td>\n      <td>...</td>\n      <td>...</td>\n      <td>...</td>\n      <td>...</td>\n      <td>...</td>\n      <td>...</td>\n      <td>...</td>\n      <td>...</td>\n    </tr>\n    <tr>\n      <th>2022-12-29</th>\n      <td>2022-12-29</td>\n      <td>FSM</td>\n      <td>12/22/2022</td>\n      <td>12/28/2022</td>\n      <td>22069</td>\n      <td>21</td>\n      <td>58</td>\n      <td>0</td>\n      <td>0</td>\n      <td>0</td>\n    </tr>\n    <tr>\n      <th>2022-12-29</th>\n      <td>2022-12-29</td>\n      <td>PR</td>\n      <td>12/22/2022</td>\n      <td>12/28/2022</td>\n      <td>1049438</td>\n      <td>8652</td>\n      <td>5519</td>\n      <td>29</td>\n      <td>0</td>\n      <td>0</td>\n    </tr>\n    <tr>\n      <th>2022-12-29</th>\n      <td>2022-12-29</td>\n      <td>PW</td>\n      <td>12/22/2022</td>\n      <td>12/28/2022</td>\n      <td>5968</td>\n      <td>13</td>\n      <td>9</td>\n      <td>0</td>\n      <td>0</td>\n      <td>0</td>\n    </tr>\n    <tr>\n      <th>2022-12-29</th>\n      <td>2022-12-29</td>\n      <td>AL</td>\n      <td>12/22/2022</td>\n      <td>12/28/2022</td>\n      <td>1573637</td>\n      <td>4703</td>\n      <td>20757</td>\n      <td>20</td>\n      <td>0</td>\n      <td>0</td>\n    </tr>\n    <tr>\n      <th>2022-12-29</th>\n      <td>2022-12-29</td>\n      <td>AK</td>\n      <td>12/22/2022</td>\n      <td>12/28/2022</td>\n      <td>288123</td>\n      <td>332</td>\n      <td>1418</td>\n      <td>0</td>\n      <td>0</td>\n      <td>0</td>\n    </tr>\n  </tbody>\n</table>\n<p>9240 rows × 10 columns</p>\n</div>"
     },
     "execution_count": 10,
     "metadata": {},
     "output_type": "execute_result"
    }
   ],
   "source": [
    "df"
   ],
   "metadata": {
    "collapsed": false,
    "pycharm": {
     "name": "#%%\n"
    }
   }
  },
  {
   "cell_type": "code",
   "execution_count": 37,
   "outputs": [],
   "source": [
    "df_political = pd.read_csv('data/political_data.csv', header = 0, index_col = 0)\n",
    "state_control = []\n",
    "for col in df_political.columns:\n",
    "\n",
    "    if 'Unnamed: ' in col:\n",
    "        if int(col.split(sep='Unnamed:')[1]) % 3 == 0:\n",
    "            state_control.append(col)\n",
    "\n",
    "df_political = df_political[state_control]\n",
    "df_political.columns = [str(i) for i in range(2017, 2024)]\n",
    "df_political.drop(['State_Code'], axis=0, inplace = True) #.to_csv('data/cleaned_political_data.csv')\n",
    "df_political = df_political.reset_index().rename(columns = {'index': 'State Code'})\n",
    "# df_political = pd.read_csv('data/cleaned_political_data.csv')\n",
    "df_political = df_political.melt(id_vars = 'State Code', value_vars = [str(i) for i in range(2017, 2024)])\n",
    "df_political = df_political.rename(columns = {'variable': 'Time Trend', 'value': 'Unity'})\n",
    "df_political.to_csv('data/cleaned_political_data.csv', index = False)"
   ],
   "metadata": {
    "collapsed": false,
    "pycharm": {
     "name": "#%%\n"
    }
   }
  },
  {
   "cell_type": "code",
   "execution_count": 35,
   "outputs": [
    {
     "data": {
      "text/plain": "    State Code Time Trend    Unity\n0           AL       2017      Rep\n1           AK       2017  Divided\n2           AZ       2017      Rep\n3           AR       2017      Rep\n4           CA       2017      Dem\n..         ...        ...      ...\n345         VA       2023  Divided\n346         WA       2023      Dem\n347         WV       2023      Rep\n348         WI       2023  Divided\n349         WY       2023      Rep\n\n[350 rows x 3 columns]",
      "text/html": "<div>\n<style scoped>\n    .dataframe tbody tr th:only-of-type {\n        vertical-align: middle;\n    }\n\n    .dataframe tbody tr th {\n        vertical-align: top;\n    }\n\n    .dataframe thead th {\n        text-align: right;\n    }\n</style>\n<table border=\"1\" class=\"dataframe\">\n  <thead>\n    <tr style=\"text-align: right;\">\n      <th></th>\n      <th>State Code</th>\n      <th>Time Trend</th>\n      <th>Unity</th>\n    </tr>\n  </thead>\n  <tbody>\n    <tr>\n      <th>0</th>\n      <td>AL</td>\n      <td>2017</td>\n      <td>Rep</td>\n    </tr>\n    <tr>\n      <th>1</th>\n      <td>AK</td>\n      <td>2017</td>\n      <td>Divided</td>\n    </tr>\n    <tr>\n      <th>2</th>\n      <td>AZ</td>\n      <td>2017</td>\n      <td>Rep</td>\n    </tr>\n    <tr>\n      <th>3</th>\n      <td>AR</td>\n      <td>2017</td>\n      <td>Rep</td>\n    </tr>\n    <tr>\n      <th>4</th>\n      <td>CA</td>\n      <td>2017</td>\n      <td>Dem</td>\n    </tr>\n    <tr>\n      <th>...</th>\n      <td>...</td>\n      <td>...</td>\n      <td>...</td>\n    </tr>\n    <tr>\n      <th>345</th>\n      <td>VA</td>\n      <td>2023</td>\n      <td>Divided</td>\n    </tr>\n    <tr>\n      <th>346</th>\n      <td>WA</td>\n      <td>2023</td>\n      <td>Dem</td>\n    </tr>\n    <tr>\n      <th>347</th>\n      <td>WV</td>\n      <td>2023</td>\n      <td>Rep</td>\n    </tr>\n    <tr>\n      <th>348</th>\n      <td>WI</td>\n      <td>2023</td>\n      <td>Divided</td>\n    </tr>\n    <tr>\n      <th>349</th>\n      <td>WY</td>\n      <td>2023</td>\n      <td>Rep</td>\n    </tr>\n  </tbody>\n</table>\n<p>350 rows × 3 columns</p>\n</div>"
     },
     "execution_count": 35,
     "metadata": {},
     "output_type": "execute_result"
    }
   ],
   "source": [
    "df_political"
   ],
   "metadata": {
    "collapsed": false,
    "pycharm": {
     "name": "#%%\n"
    }
   }
  },
  {
   "cell_type": "code",
   "execution_count": 26,
   "outputs": [
    {
     "ename": "KeyError",
     "evalue": "\"None of [Index(['Unnamed: 3', 'Unnamed: 6', 'Unnamed: 9', 'Unnamed: 12', 'Unnamed: 15',\\n       'Unnamed: 18', 'Unnamed: 21'],\\n      dtype='object')] are in the [columns]\"",
     "output_type": "error",
     "traceback": [
      "\u001B[0;31m---------------------------------------------------------------------------\u001B[0m",
      "\u001B[0;31mKeyError\u001B[0m                                  Traceback (most recent call last)",
      "Cell \u001B[0;32mIn[26], line 1\u001B[0m\n\u001B[0;32m----> 1\u001B[0m df_political \u001B[38;5;241m=\u001B[39m \u001B[43mdf_political\u001B[49m\u001B[43m[\u001B[49m\u001B[43mstate_control\u001B[49m\u001B[43m]\u001B[49m\n\u001B[1;32m      2\u001B[0m df_political\u001B[38;5;241m.\u001B[39mcolumns \u001B[38;5;241m=\u001B[39m [i \u001B[38;5;28;01mfor\u001B[39;00m i \u001B[38;5;129;01min\u001B[39;00m \u001B[38;5;28mrange\u001B[39m(\u001B[38;5;241m2017\u001B[39m, \u001B[38;5;241m2024\u001B[39m)]\n\u001B[1;32m      3\u001B[0m df_political\u001B[38;5;241m.\u001B[39mdrop([\u001B[38;5;124m'\u001B[39m\u001B[38;5;124mState_Code\u001B[39m\u001B[38;5;124m'\u001B[39m], axis\u001B[38;5;241m=\u001B[39m\u001B[38;5;241m0\u001B[39m)\n",
      "File \u001B[0;32m~/.local/share/virtualenvs/HEALTH_ECONS-0VLBoF18/lib/python3.10/site-packages/pandas/core/frame.py:3813\u001B[0m, in \u001B[0;36mDataFrame.__getitem__\u001B[0;34m(self, key)\u001B[0m\n\u001B[1;32m   3811\u001B[0m     \u001B[38;5;28;01mif\u001B[39;00m is_iterator(key):\n\u001B[1;32m   3812\u001B[0m         key \u001B[38;5;241m=\u001B[39m \u001B[38;5;28mlist\u001B[39m(key)\n\u001B[0;32m-> 3813\u001B[0m     indexer \u001B[38;5;241m=\u001B[39m \u001B[38;5;28;43mself\u001B[39;49m\u001B[38;5;241;43m.\u001B[39;49m\u001B[43mcolumns\u001B[49m\u001B[38;5;241;43m.\u001B[39;49m\u001B[43m_get_indexer_strict\u001B[49m\u001B[43m(\u001B[49m\u001B[43mkey\u001B[49m\u001B[43m,\u001B[49m\u001B[43m \u001B[49m\u001B[38;5;124;43m\"\u001B[39;49m\u001B[38;5;124;43mcolumns\u001B[39;49m\u001B[38;5;124;43m\"\u001B[39;49m\u001B[43m)\u001B[49m[\u001B[38;5;241m1\u001B[39m]\n\u001B[1;32m   3815\u001B[0m \u001B[38;5;66;03m# take() does not accept boolean indexers\u001B[39;00m\n\u001B[1;32m   3816\u001B[0m \u001B[38;5;28;01mif\u001B[39;00m \u001B[38;5;28mgetattr\u001B[39m(indexer, \u001B[38;5;124m\"\u001B[39m\u001B[38;5;124mdtype\u001B[39m\u001B[38;5;124m\"\u001B[39m, \u001B[38;5;28;01mNone\u001B[39;00m) \u001B[38;5;241m==\u001B[39m \u001B[38;5;28mbool\u001B[39m:\n",
      "File \u001B[0;32m~/.local/share/virtualenvs/HEALTH_ECONS-0VLBoF18/lib/python3.10/site-packages/pandas/core/indexes/base.py:6070\u001B[0m, in \u001B[0;36mIndex._get_indexer_strict\u001B[0;34m(self, key, axis_name)\u001B[0m\n\u001B[1;32m   6067\u001B[0m \u001B[38;5;28;01melse\u001B[39;00m:\n\u001B[1;32m   6068\u001B[0m     keyarr, indexer, new_indexer \u001B[38;5;241m=\u001B[39m \u001B[38;5;28mself\u001B[39m\u001B[38;5;241m.\u001B[39m_reindex_non_unique(keyarr)\n\u001B[0;32m-> 6070\u001B[0m \u001B[38;5;28;43mself\u001B[39;49m\u001B[38;5;241;43m.\u001B[39;49m\u001B[43m_raise_if_missing\u001B[49m\u001B[43m(\u001B[49m\u001B[43mkeyarr\u001B[49m\u001B[43m,\u001B[49m\u001B[43m \u001B[49m\u001B[43mindexer\u001B[49m\u001B[43m,\u001B[49m\u001B[43m \u001B[49m\u001B[43maxis_name\u001B[49m\u001B[43m)\u001B[49m\n\u001B[1;32m   6072\u001B[0m keyarr \u001B[38;5;241m=\u001B[39m \u001B[38;5;28mself\u001B[39m\u001B[38;5;241m.\u001B[39mtake(indexer)\n\u001B[1;32m   6073\u001B[0m \u001B[38;5;28;01mif\u001B[39;00m \u001B[38;5;28misinstance\u001B[39m(key, Index):\n\u001B[1;32m   6074\u001B[0m     \u001B[38;5;66;03m# GH 42790 - Preserve name from an Index\u001B[39;00m\n",
      "File \u001B[0;32m~/.local/share/virtualenvs/HEALTH_ECONS-0VLBoF18/lib/python3.10/site-packages/pandas/core/indexes/base.py:6130\u001B[0m, in \u001B[0;36mIndex._raise_if_missing\u001B[0;34m(self, key, indexer, axis_name)\u001B[0m\n\u001B[1;32m   6128\u001B[0m     \u001B[38;5;28;01mif\u001B[39;00m use_interval_msg:\n\u001B[1;32m   6129\u001B[0m         key \u001B[38;5;241m=\u001B[39m \u001B[38;5;28mlist\u001B[39m(key)\n\u001B[0;32m-> 6130\u001B[0m     \u001B[38;5;28;01mraise\u001B[39;00m \u001B[38;5;167;01mKeyError\u001B[39;00m(\u001B[38;5;124mf\u001B[39m\u001B[38;5;124m\"\u001B[39m\u001B[38;5;124mNone of [\u001B[39m\u001B[38;5;132;01m{\u001B[39;00mkey\u001B[38;5;132;01m}\u001B[39;00m\u001B[38;5;124m] are in the [\u001B[39m\u001B[38;5;132;01m{\u001B[39;00maxis_name\u001B[38;5;132;01m}\u001B[39;00m\u001B[38;5;124m]\u001B[39m\u001B[38;5;124m\"\u001B[39m)\n\u001B[1;32m   6132\u001B[0m not_found \u001B[38;5;241m=\u001B[39m \u001B[38;5;28mlist\u001B[39m(ensure_index(key)[missing_mask\u001B[38;5;241m.\u001B[39mnonzero()[\u001B[38;5;241m0\u001B[39m]]\u001B[38;5;241m.\u001B[39munique())\n\u001B[1;32m   6133\u001B[0m \u001B[38;5;28;01mraise\u001B[39;00m \u001B[38;5;167;01mKeyError\u001B[39;00m(\u001B[38;5;124mf\u001B[39m\u001B[38;5;124m\"\u001B[39m\u001B[38;5;132;01m{\u001B[39;00mnot_found\u001B[38;5;132;01m}\u001B[39;00m\u001B[38;5;124m not in index\u001B[39m\u001B[38;5;124m\"\u001B[39m)\n",
      "\u001B[0;31mKeyError\u001B[0m: \"None of [Index(['Unnamed: 3', 'Unnamed: 6', 'Unnamed: 9', 'Unnamed: 12', 'Unnamed: 15',\\n       'Unnamed: 18', 'Unnamed: 21'],\\n      dtype='object')] are in the [columns]\""
     ]
    }
   ],
   "source": [],
   "metadata": {
    "collapsed": false,
    "pycharm": {
     "name": "#%%\n"
    }
   }
  },
  {
   "cell_type": "code",
   "execution_count": null,
   "outputs": [],
   "source": [],
   "metadata": {
    "collapsed": false,
    "pycharm": {
     "name": "#%%\n"
    }
   }
  }
 ],
 "metadata": {
  "kernelspec": {
   "display_name": "Python 3",
   "language": "python",
   "name": "python3"
  },
  "language_info": {
   "codemirror_mode": {
    "name": "ipython",
    "version": 2
   },
   "file_extension": ".py",
   "mimetype": "text/x-python",
   "name": "python",
   "nbconvert_exporter": "python",
   "pygments_lexer": "ipython2",
   "version": "2.7.6"
  }
 },
 "nbformat": 4,
 "nbformat_minor": 0
}