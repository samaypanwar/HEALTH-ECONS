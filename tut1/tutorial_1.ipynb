{
 "cells": [
  {
   "cell_type": "markdown",
   "source": [
    "# Tutorial 2?\n",
    "\n",
    "### Question 1"
   ],
   "metadata": {
    "collapsed": false,
    "pycharm": {
     "name": "#%% md\n"
    }
   }
  },
  {
   "cell_type": "code",
   "execution_count": 1,
   "metadata": {
    "collapsed": true,
    "pycharm": {
     "name": "#%%\n"
    }
   },
   "outputs": [],
   "source": [
    "import pandas as pd\n",
    "import numpy as np"
   ]
  },
  {
   "cell_type": "code",
   "execution_count": 83,
   "outputs": [
    {
     "data": {
      "text/plain": "Year            1960  1961  1962  1963  1964  1965  1966  1967  1968  1969  \\\nEntity                                                                       \nAfghanistan     32.5  33.1  33.5  34.0  34.5  35.0  35.5  35.9  36.4  36.9   \nAlbania         54.4  55.6  56.7  57.8  59.0  60.0  61.0  62.0  62.9  63.9   \nAlgeria         40.5  40.5  39.3  42.9  42.8  42.7  42.5  42.6  42.6  42.8   \nAmerican Samoa  64.7  65.5  65.9  65.9  66.3  66.3  58.8  66.2  66.2  66.4   \nAndorra         72.0  72.1  72.4  72.2  72.8  73.4  73.4  73.3  73.5  73.0   \n...              ...   ...   ...   ...   ...   ...   ...   ...   ...   ...   \nWestern Sahara  38.6  38.9  39.3  39.7  40.0  40.4  40.8  41.1  41.4  41.8   \nWorld           47.7  50.4  53.1  53.6  54.2  53.9  54.5  54.9  55.5  55.8   \nYemen           33.7  34.1  33.6  33.2  34.7  35.4  36.1  36.9  37.8  39.5   \nZambia          49.0  49.5  49.8  50.1  49.8  50.6  50.7  50.8  50.9  51.1   \nZimbabwe        53.2  53.6  54.1  54.5  55.0  55.5  55.9  56.2  56.5  56.7   \n\nYear            ...  2012  2013  2014  2015  2016  2017  2018  2019  2020  \\\nEntity          ...                                                         \nAfghanistan     ...  61.9  62.4  62.5  62.7  63.1  63.0  63.1  63.6  62.6   \nAlbania         ...  78.1  78.1  78.4  78.6  78.9  79.0  79.2  79.3  77.0   \nAlgeria         ...  74.2  74.6  75.1  75.6  75.7  75.7  76.1  76.5  74.5   \nAmerican Samoa  ...  72.3  72.3  72.3  72.5  72.4  72.5  72.5  72.3  72.4   \nAndorra         ...  82.9  82.9  82.9  83.0  83.0  83.0  83.0  83.0  79.0   \n...             ...   ...   ...   ...   ...   ...   ...   ...   ...   ...   \nWestern Sahara  ...  68.3  68.7  69.0  69.3  69.6  69.9  70.1  70.3  70.5   \nWorld           ...  70.9  71.2  71.6  71.8  72.1  72.3  72.6  72.8  72.0   \nYemen           ...  67.3  67.5  67.4  65.9  66.1  66.0  64.6  65.1  64.7   \nZambia          ...  58.9  59.9  60.7  61.2  61.8  62.1  62.3  62.8  62.4   \nZimbabwe        ...  55.6  57.5  58.8  59.6  60.3  60.7  61.4  61.3  61.1   \n\nYear            2021  \nEntity                \nAfghanistan     62.0  \nAlbania         76.5  \nAlgeria         76.4  \nAmerican Samoa  72.5  \nAndorra         80.4  \n...              ...  \nWestern Sahara  70.8  \nWorld           71.0  \nYemen           63.8  \nZambia          61.2  \nZimbabwe        59.3  \n\n[237 rows x 62 columns]",
      "text/html": "<div>\n<style scoped>\n    .dataframe tbody tr th:only-of-type {\n        vertical-align: middle;\n    }\n\n    .dataframe tbody tr th {\n        vertical-align: top;\n    }\n\n    .dataframe thead th {\n        text-align: right;\n    }\n</style>\n<table border=\"1\" class=\"dataframe\">\n  <thead>\n    <tr style=\"text-align: right;\">\n      <th>Year</th>\n      <th>1960</th>\n      <th>1961</th>\n      <th>1962</th>\n      <th>1963</th>\n      <th>1964</th>\n      <th>1965</th>\n      <th>1966</th>\n      <th>1967</th>\n      <th>1968</th>\n      <th>1969</th>\n      <th>...</th>\n      <th>2012</th>\n      <th>2013</th>\n      <th>2014</th>\n      <th>2015</th>\n      <th>2016</th>\n      <th>2017</th>\n      <th>2018</th>\n      <th>2019</th>\n      <th>2020</th>\n      <th>2021</th>\n    </tr>\n    <tr>\n      <th>Entity</th>\n      <th></th>\n      <th></th>\n      <th></th>\n      <th></th>\n      <th></th>\n      <th></th>\n      <th></th>\n      <th></th>\n      <th></th>\n      <th></th>\n      <th></th>\n      <th></th>\n      <th></th>\n      <th></th>\n      <th></th>\n      <th></th>\n      <th></th>\n      <th></th>\n      <th></th>\n      <th></th>\n      <th></th>\n    </tr>\n  </thead>\n  <tbody>\n    <tr>\n      <th>Afghanistan</th>\n      <td>32.5</td>\n      <td>33.1</td>\n      <td>33.5</td>\n      <td>34.0</td>\n      <td>34.5</td>\n      <td>35.0</td>\n      <td>35.5</td>\n      <td>35.9</td>\n      <td>36.4</td>\n      <td>36.9</td>\n      <td>...</td>\n      <td>61.9</td>\n      <td>62.4</td>\n      <td>62.5</td>\n      <td>62.7</td>\n      <td>63.1</td>\n      <td>63.0</td>\n      <td>63.1</td>\n      <td>63.6</td>\n      <td>62.6</td>\n      <td>62.0</td>\n    </tr>\n    <tr>\n      <th>Albania</th>\n      <td>54.4</td>\n      <td>55.6</td>\n      <td>56.7</td>\n      <td>57.8</td>\n      <td>59.0</td>\n      <td>60.0</td>\n      <td>61.0</td>\n      <td>62.0</td>\n      <td>62.9</td>\n      <td>63.9</td>\n      <td>...</td>\n      <td>78.1</td>\n      <td>78.1</td>\n      <td>78.4</td>\n      <td>78.6</td>\n      <td>78.9</td>\n      <td>79.0</td>\n      <td>79.2</td>\n      <td>79.3</td>\n      <td>77.0</td>\n      <td>76.5</td>\n    </tr>\n    <tr>\n      <th>Algeria</th>\n      <td>40.5</td>\n      <td>40.5</td>\n      <td>39.3</td>\n      <td>42.9</td>\n      <td>42.8</td>\n      <td>42.7</td>\n      <td>42.5</td>\n      <td>42.6</td>\n      <td>42.6</td>\n      <td>42.8</td>\n      <td>...</td>\n      <td>74.2</td>\n      <td>74.6</td>\n      <td>75.1</td>\n      <td>75.6</td>\n      <td>75.7</td>\n      <td>75.7</td>\n      <td>76.1</td>\n      <td>76.5</td>\n      <td>74.5</td>\n      <td>76.4</td>\n    </tr>\n    <tr>\n      <th>American Samoa</th>\n      <td>64.7</td>\n      <td>65.5</td>\n      <td>65.9</td>\n      <td>65.9</td>\n      <td>66.3</td>\n      <td>66.3</td>\n      <td>58.8</td>\n      <td>66.2</td>\n      <td>66.2</td>\n      <td>66.4</td>\n      <td>...</td>\n      <td>72.3</td>\n      <td>72.3</td>\n      <td>72.3</td>\n      <td>72.5</td>\n      <td>72.4</td>\n      <td>72.5</td>\n      <td>72.5</td>\n      <td>72.3</td>\n      <td>72.4</td>\n      <td>72.5</td>\n    </tr>\n    <tr>\n      <th>Andorra</th>\n      <td>72.0</td>\n      <td>72.1</td>\n      <td>72.4</td>\n      <td>72.2</td>\n      <td>72.8</td>\n      <td>73.4</td>\n      <td>73.4</td>\n      <td>73.3</td>\n      <td>73.5</td>\n      <td>73.0</td>\n      <td>...</td>\n      <td>82.9</td>\n      <td>82.9</td>\n      <td>82.9</td>\n      <td>83.0</td>\n      <td>83.0</td>\n      <td>83.0</td>\n      <td>83.0</td>\n      <td>83.0</td>\n      <td>79.0</td>\n      <td>80.4</td>\n    </tr>\n    <tr>\n      <th>...</th>\n      <td>...</td>\n      <td>...</td>\n      <td>...</td>\n      <td>...</td>\n      <td>...</td>\n      <td>...</td>\n      <td>...</td>\n      <td>...</td>\n      <td>...</td>\n      <td>...</td>\n      <td>...</td>\n      <td>...</td>\n      <td>...</td>\n      <td>...</td>\n      <td>...</td>\n      <td>...</td>\n      <td>...</td>\n      <td>...</td>\n      <td>...</td>\n      <td>...</td>\n      <td>...</td>\n    </tr>\n    <tr>\n      <th>Western Sahara</th>\n      <td>38.6</td>\n      <td>38.9</td>\n      <td>39.3</td>\n      <td>39.7</td>\n      <td>40.0</td>\n      <td>40.4</td>\n      <td>40.8</td>\n      <td>41.1</td>\n      <td>41.4</td>\n      <td>41.8</td>\n      <td>...</td>\n      <td>68.3</td>\n      <td>68.7</td>\n      <td>69.0</td>\n      <td>69.3</td>\n      <td>69.6</td>\n      <td>69.9</td>\n      <td>70.1</td>\n      <td>70.3</td>\n      <td>70.5</td>\n      <td>70.8</td>\n    </tr>\n    <tr>\n      <th>World</th>\n      <td>47.7</td>\n      <td>50.4</td>\n      <td>53.1</td>\n      <td>53.6</td>\n      <td>54.2</td>\n      <td>53.9</td>\n      <td>54.5</td>\n      <td>54.9</td>\n      <td>55.5</td>\n      <td>55.8</td>\n      <td>...</td>\n      <td>70.9</td>\n      <td>71.2</td>\n      <td>71.6</td>\n      <td>71.8</td>\n      <td>72.1</td>\n      <td>72.3</td>\n      <td>72.6</td>\n      <td>72.8</td>\n      <td>72.0</td>\n      <td>71.0</td>\n    </tr>\n    <tr>\n      <th>Yemen</th>\n      <td>33.7</td>\n      <td>34.1</td>\n      <td>33.6</td>\n      <td>33.2</td>\n      <td>34.7</td>\n      <td>35.4</td>\n      <td>36.1</td>\n      <td>36.9</td>\n      <td>37.8</td>\n      <td>39.5</td>\n      <td>...</td>\n      <td>67.3</td>\n      <td>67.5</td>\n      <td>67.4</td>\n      <td>65.9</td>\n      <td>66.1</td>\n      <td>66.0</td>\n      <td>64.6</td>\n      <td>65.1</td>\n      <td>64.7</td>\n      <td>63.8</td>\n    </tr>\n    <tr>\n      <th>Zambia</th>\n      <td>49.0</td>\n      <td>49.5</td>\n      <td>49.8</td>\n      <td>50.1</td>\n      <td>49.8</td>\n      <td>50.6</td>\n      <td>50.7</td>\n      <td>50.8</td>\n      <td>50.9</td>\n      <td>51.1</td>\n      <td>...</td>\n      <td>58.9</td>\n      <td>59.9</td>\n      <td>60.7</td>\n      <td>61.2</td>\n      <td>61.8</td>\n      <td>62.1</td>\n      <td>62.3</td>\n      <td>62.8</td>\n      <td>62.4</td>\n      <td>61.2</td>\n    </tr>\n    <tr>\n      <th>Zimbabwe</th>\n      <td>53.2</td>\n      <td>53.6</td>\n      <td>54.1</td>\n      <td>54.5</td>\n      <td>55.0</td>\n      <td>55.5</td>\n      <td>55.9</td>\n      <td>56.2</td>\n      <td>56.5</td>\n      <td>56.7</td>\n      <td>...</td>\n      <td>55.6</td>\n      <td>57.5</td>\n      <td>58.8</td>\n      <td>59.6</td>\n      <td>60.3</td>\n      <td>60.7</td>\n      <td>61.4</td>\n      <td>61.3</td>\n      <td>61.1</td>\n      <td>59.3</td>\n    </tr>\n  </tbody>\n</table>\n<p>237 rows × 62 columns</p>\n</div>"
     },
     "execution_count": 83,
     "metadata": {},
     "output_type": "execute_result"
    }
   ],
   "source": [
    "life_expectancy = pd.read_csv(\"life-expectancy.csv\")\n",
    "life_expectancy = life_expectancy[life_expectancy[\"Year\"] >= 1960]\n",
    "life_expectancy.dropna(inplace = True)\n",
    "life_expectancy.drop(['Code'], axis=1, inplace = True)\n",
    "life_expectancy = life_expectancy.pivot(index = 'Entity', columns = 'Year')['Life expectancy at birth (historical)']\n",
    "life_expectancy"
   ],
   "metadata": {
    "collapsed": false,
    "pycharm": {
     "name": "#%%\n"
    }
   }
  },
  {
   "cell_type": "code",
   "execution_count": 84,
   "outputs": [
    {
     "data": {
      "text/plain": "                                       1960         1961         1962  \\\nEntity                                                                  \nAfrica Eastern and Southern      162.907576   162.546236   171.996697   \nAfrica Western and Central       106.976475   112.047561   117.730633   \nAustralia                       1810.510249  1877.509803  1854.552575   \nAustria                          935.460427  1031.815004  1087.834243   \nBurundi                           71.360224    72.088782    73.942008   \n...                                     ...          ...          ...   \nSt. Vincent and the Grenadines   155.293588   163.424034   166.602193   \nWorld                            459.260040   471.479375   495.868429   \nSouth Africa                     529.561923   543.042224   560.699395   \nZambia                           228.567398   216.274674   208.562685   \nZimbabwe                         276.643363   279.332656   275.966139   \n\n                                       1963         1964         1965  \\\nEntity                                                                  \nAfrica Eastern and Southern      199.182564   179.381788   198.223726   \nAfrica Western and Central       122.278715   130.599963   137.186142   \nAustralia                       1967.014259  2131.277657  2280.902108   \nAustria                         1167.000532  1269.412583  1374.532140   \nBurundi                           78.948269    85.964725    50.990420   \n...                                     ...          ...          ...   \nSt. Vincent and the Grenadines   154.653976   163.883606   165.126044   \nWorld                            523.441276   561.350115   599.078936   \nSouth Africa                     601.599951   642.688431   681.131112   \nZambia                           209.453362   236.941713   296.022427   \nZimbabwe                         277.532515   282.376856   294.893605   \n\n                                       1966         1967         1968  \\\nEntity                                                                  \nAfrica Eastern and Southern      209.407648   211.699966   224.232269   \nAfrica Western and Central       142.895375   127.303606   128.365494   \nAustralia                       2343.706917  2579.986339  2723.999484   \nAustria                         1486.968606  1569.667183  1677.673528   \nBurundi                           51.808640    54.450305    54.647466   \n...                                     ...          ...          ...   \nSt. Vincent and the Grenadines   173.196917   167.777520   160.299923   \nWorld                            636.710389   663.849905   701.988747   \nSouth Africa                     718.118179   775.152812   813.508497   \nZambia                           334.672528   350.653425   398.557506   \nZimbabwe                         279.337779   295.056449   302.802871   \n\n                                       1969  ...          2012          2013  \\\nEntity                                       ...                               \nAfrica Eastern and Southern      249.580770  ...   1760.216229   1731.795976   \nAfrica Western and Central       142.325904  ...   1953.407033   2149.295219   \nAustralia                       2991.241889  ...  68044.714820  68158.579740   \nAustria                         1825.386126  ...  48564.917340  50731.127250   \nBurundi                           55.543775  ...    238.205949    241.547671   \n...                                     ...  ...           ...           ...   \nSt. Vincent and the Grenadines   171.426806  ...   6754.370184   7117.554763   \nWorld                            758.348602  ...  10573.064530  10735.261320   \nSouth Africa                     887.246703  ...   8173.869138   7441.230854   \nZambia                           472.640293  ...   1729.647471   1840.320553   \nZimbabwe                         346.538920  ...   1290.193956   1408.367810   \n\n                                        2014          2015          2016  \\\nEntity                                                                     \nAfrica Eastern and Southern      1719.809190   1540.850354   1432.111827   \nAfrica Western and Central       2243.271464   1876.623483   1645.023767   \nAustralia                       62513.411220  56710.445720  49875.565140   \nAustria                         51786.377170  44195.817590  45307.587860   \nBurundi                           257.818552    289.359633    242.065671   \n...                                      ...           ...           ...   \nSt. Vincent and the Grenadines   7210.616623   7386.737595   7684.779208   \nWorld                           10896.215600  10153.780770  10205.848800   \nSouth Africa                     6965.137897   6204.929901   5735.066787   \nZambia                           1724.576220   1307.909649   1249.923143   \nZimbabwe                         1407.034293   1410.329174   1421.787789   \n\n                                        2017          2018          2019  \\\nEntity                                                                     \nAfrica Eastern and Southern      1613.788555   1550.180567   1500.229274   \nAfrica Western and Central       1585.911930   1731.311792   1749.303317   \nAustralia                       53936.140250  57207.871510  54941.434180   \nAustria                         47429.158460  51466.556560  50070.403350   \nBurundi                           243.135809    231.446476    216.972968   \n...                                      ...           ...           ...   \nSt. Vincent and the Grenadines   8030.585057   8399.694011   8674.371009   \nWorld                           10741.485510  11284.183250  11319.754110   \nSouth Africa                     6734.475153   7048.522211   6688.787271   \nZambia                           1495.752138   1475.204538   1268.120941   \nZimbabwe                         1192.107012   2269.177012   1421.868596   \n\n                                        2020          2021  \nEntity                                                      \nAfrica Eastern and Southern      1353.769160   1537.336021  \nAfrica Western and Central       1683.436391   1757.030626  \nAustralia                       51720.370760  60443.109160  \nAustria                         48809.226880  53637.705710  \nBurundi                           216.826741    221.477676  \n...                                      ...           ...  \nSt. Vincent and the Grenadines   8335.256476   8666.387041  \nWorld                           10881.703700  12234.796800  \nSouth Africa                     5741.643129   7055.044776  \nZambia                            956.831364   1137.343633  \nZimbabwe                         1372.696674   1773.920411  \n\n[123 rows x 62 columns]",
      "text/html": "<div>\n<style scoped>\n    .dataframe tbody tr th:only-of-type {\n        vertical-align: middle;\n    }\n\n    .dataframe tbody tr th {\n        vertical-align: top;\n    }\n\n    .dataframe thead th {\n        text-align: right;\n    }\n</style>\n<table border=\"1\" class=\"dataframe\">\n  <thead>\n    <tr style=\"text-align: right;\">\n      <th></th>\n      <th>1960</th>\n      <th>1961</th>\n      <th>1962</th>\n      <th>1963</th>\n      <th>1964</th>\n      <th>1965</th>\n      <th>1966</th>\n      <th>1967</th>\n      <th>1968</th>\n      <th>1969</th>\n      <th>...</th>\n      <th>2012</th>\n      <th>2013</th>\n      <th>2014</th>\n      <th>2015</th>\n      <th>2016</th>\n      <th>2017</th>\n      <th>2018</th>\n      <th>2019</th>\n      <th>2020</th>\n      <th>2021</th>\n    </tr>\n    <tr>\n      <th>Entity</th>\n      <th></th>\n      <th></th>\n      <th></th>\n      <th></th>\n      <th></th>\n      <th></th>\n      <th></th>\n      <th></th>\n      <th></th>\n      <th></th>\n      <th></th>\n      <th></th>\n      <th></th>\n      <th></th>\n      <th></th>\n      <th></th>\n      <th></th>\n      <th></th>\n      <th></th>\n      <th></th>\n      <th></th>\n    </tr>\n  </thead>\n  <tbody>\n    <tr>\n      <th>Africa Eastern and Southern</th>\n      <td>162.907576</td>\n      <td>162.546236</td>\n      <td>171.996697</td>\n      <td>199.182564</td>\n      <td>179.381788</td>\n      <td>198.223726</td>\n      <td>209.407648</td>\n      <td>211.699966</td>\n      <td>224.232269</td>\n      <td>249.580770</td>\n      <td>...</td>\n      <td>1760.216229</td>\n      <td>1731.795976</td>\n      <td>1719.809190</td>\n      <td>1540.850354</td>\n      <td>1432.111827</td>\n      <td>1613.788555</td>\n      <td>1550.180567</td>\n      <td>1500.229274</td>\n      <td>1353.769160</td>\n      <td>1537.336021</td>\n    </tr>\n    <tr>\n      <th>Africa Western and Central</th>\n      <td>106.976475</td>\n      <td>112.047561</td>\n      <td>117.730633</td>\n      <td>122.278715</td>\n      <td>130.599963</td>\n      <td>137.186142</td>\n      <td>142.895375</td>\n      <td>127.303606</td>\n      <td>128.365494</td>\n      <td>142.325904</td>\n      <td>...</td>\n      <td>1953.407033</td>\n      <td>2149.295219</td>\n      <td>2243.271464</td>\n      <td>1876.623483</td>\n      <td>1645.023767</td>\n      <td>1585.911930</td>\n      <td>1731.311792</td>\n      <td>1749.303317</td>\n      <td>1683.436391</td>\n      <td>1757.030626</td>\n    </tr>\n    <tr>\n      <th>Australia</th>\n      <td>1810.510249</td>\n      <td>1877.509803</td>\n      <td>1854.552575</td>\n      <td>1967.014259</td>\n      <td>2131.277657</td>\n      <td>2280.902108</td>\n      <td>2343.706917</td>\n      <td>2579.986339</td>\n      <td>2723.999484</td>\n      <td>2991.241889</td>\n      <td>...</td>\n      <td>68044.714820</td>\n      <td>68158.579740</td>\n      <td>62513.411220</td>\n      <td>56710.445720</td>\n      <td>49875.565140</td>\n      <td>53936.140250</td>\n      <td>57207.871510</td>\n      <td>54941.434180</td>\n      <td>51720.370760</td>\n      <td>60443.109160</td>\n    </tr>\n    <tr>\n      <th>Austria</th>\n      <td>935.460427</td>\n      <td>1031.815004</td>\n      <td>1087.834243</td>\n      <td>1167.000532</td>\n      <td>1269.412583</td>\n      <td>1374.532140</td>\n      <td>1486.968606</td>\n      <td>1569.667183</td>\n      <td>1677.673528</td>\n      <td>1825.386126</td>\n      <td>...</td>\n      <td>48564.917340</td>\n      <td>50731.127250</td>\n      <td>51786.377170</td>\n      <td>44195.817590</td>\n      <td>45307.587860</td>\n      <td>47429.158460</td>\n      <td>51466.556560</td>\n      <td>50070.403350</td>\n      <td>48809.226880</td>\n      <td>53637.705710</td>\n    </tr>\n    <tr>\n      <th>Burundi</th>\n      <td>71.360224</td>\n      <td>72.088782</td>\n      <td>73.942008</td>\n      <td>78.948269</td>\n      <td>85.964725</td>\n      <td>50.990420</td>\n      <td>51.808640</td>\n      <td>54.450305</td>\n      <td>54.647466</td>\n      <td>55.543775</td>\n      <td>...</td>\n      <td>238.205949</td>\n      <td>241.547671</td>\n      <td>257.818552</td>\n      <td>289.359633</td>\n      <td>242.065671</td>\n      <td>243.135809</td>\n      <td>231.446476</td>\n      <td>216.972968</td>\n      <td>216.826741</td>\n      <td>221.477676</td>\n    </tr>\n    <tr>\n      <th>...</th>\n      <td>...</td>\n      <td>...</td>\n      <td>...</td>\n      <td>...</td>\n      <td>...</td>\n      <td>...</td>\n      <td>...</td>\n      <td>...</td>\n      <td>...</td>\n      <td>...</td>\n      <td>...</td>\n      <td>...</td>\n      <td>...</td>\n      <td>...</td>\n      <td>...</td>\n      <td>...</td>\n      <td>...</td>\n      <td>...</td>\n      <td>...</td>\n      <td>...</td>\n      <td>...</td>\n    </tr>\n    <tr>\n      <th>St. Vincent and the Grenadines</th>\n      <td>155.293588</td>\n      <td>163.424034</td>\n      <td>166.602193</td>\n      <td>154.653976</td>\n      <td>163.883606</td>\n      <td>165.126044</td>\n      <td>173.196917</td>\n      <td>167.777520</td>\n      <td>160.299923</td>\n      <td>171.426806</td>\n      <td>...</td>\n      <td>6754.370184</td>\n      <td>7117.554763</td>\n      <td>7210.616623</td>\n      <td>7386.737595</td>\n      <td>7684.779208</td>\n      <td>8030.585057</td>\n      <td>8399.694011</td>\n      <td>8674.371009</td>\n      <td>8335.256476</td>\n      <td>8666.387041</td>\n    </tr>\n    <tr>\n      <th>World</th>\n      <td>459.260040</td>\n      <td>471.479375</td>\n      <td>495.868429</td>\n      <td>523.441276</td>\n      <td>561.350115</td>\n      <td>599.078936</td>\n      <td>636.710389</td>\n      <td>663.849905</td>\n      <td>701.988747</td>\n      <td>758.348602</td>\n      <td>...</td>\n      <td>10573.064530</td>\n      <td>10735.261320</td>\n      <td>10896.215600</td>\n      <td>10153.780770</td>\n      <td>10205.848800</td>\n      <td>10741.485510</td>\n      <td>11284.183250</td>\n      <td>11319.754110</td>\n      <td>10881.703700</td>\n      <td>12234.796800</td>\n    </tr>\n    <tr>\n      <th>South Africa</th>\n      <td>529.561923</td>\n      <td>543.042224</td>\n      <td>560.699395</td>\n      <td>601.599951</td>\n      <td>642.688431</td>\n      <td>681.131112</td>\n      <td>718.118179</td>\n      <td>775.152812</td>\n      <td>813.508497</td>\n      <td>887.246703</td>\n      <td>...</td>\n      <td>8173.869138</td>\n      <td>7441.230854</td>\n      <td>6965.137897</td>\n      <td>6204.929901</td>\n      <td>5735.066787</td>\n      <td>6734.475153</td>\n      <td>7048.522211</td>\n      <td>6688.787271</td>\n      <td>5741.643129</td>\n      <td>7055.044776</td>\n    </tr>\n    <tr>\n      <th>Zambia</th>\n      <td>228.567398</td>\n      <td>216.274674</td>\n      <td>208.562685</td>\n      <td>209.453362</td>\n      <td>236.941713</td>\n      <td>296.022427</td>\n      <td>334.672528</td>\n      <td>350.653425</td>\n      <td>398.557506</td>\n      <td>472.640293</td>\n      <td>...</td>\n      <td>1729.647471</td>\n      <td>1840.320553</td>\n      <td>1724.576220</td>\n      <td>1307.909649</td>\n      <td>1249.923143</td>\n      <td>1495.752138</td>\n      <td>1475.204538</td>\n      <td>1268.120941</td>\n      <td>956.831364</td>\n      <td>1137.343633</td>\n    </tr>\n    <tr>\n      <th>Zimbabwe</th>\n      <td>276.643363</td>\n      <td>279.332656</td>\n      <td>275.966139</td>\n      <td>277.532515</td>\n      <td>282.376856</td>\n      <td>294.893605</td>\n      <td>279.337779</td>\n      <td>295.056449</td>\n      <td>302.802871</td>\n      <td>346.538920</td>\n      <td>...</td>\n      <td>1290.193956</td>\n      <td>1408.367810</td>\n      <td>1407.034293</td>\n      <td>1410.329174</td>\n      <td>1421.787789</td>\n      <td>1192.107012</td>\n      <td>2269.177012</td>\n      <td>1421.868596</td>\n      <td>1372.696674</td>\n      <td>1773.920411</td>\n    </tr>\n  </tbody>\n</table>\n<p>123 rows × 62 columns</p>\n</div>"
     },
     "execution_count": 84,
     "metadata": {},
     "output_type": "execute_result"
    }
   ],
   "source": [
    "gdp = pd.read_csv(\"API_NY/API_NY.GDP.PCAP.CD_DS2_en_csv_v2_4770417.csv\")\n",
    "\n",
    "cols_to_drop = ['Country Code', 'Indicator Name', 'Indicator Code']\n",
    "\n",
    "gdp.drop(cols_to_drop, axis=1, inplace = True)\n",
    "# years_to_drop = list(str(i) for i in range(int(gdp.columns[1]), 2015, 1))\n",
    "# gdp.drop(years_to_drop, axis=1, inplace = True)\n",
    "gdp.rename(columns = {'Country Name': 'Entity'}, inplace = True)\n",
    "gdp.set_index('Entity', inplace = True)\n",
    "gdp.dropna(inplace = True)\n",
    "gdp"
   ],
   "metadata": {
    "collapsed": false,
    "pycharm": {
     "name": "#%%\n"
    }
   }
  },
  {
   "cell_type": "code",
   "execution_count": 85,
   "outputs": [
    {
     "data": {
      "text/plain": "                 GDP/Capita  Life Expectancy\nEntity                                      \nAustralia      56710.445720             82.7\nAustria        44195.817590             81.2\nBurundi          289.359633             60.2\nBelgium        41008.296720             80.9\nBenin           1041.652523             59.4\n...                     ...              ...\nUnited States  56762.729450             78.9\nWorld          10153.780770             71.8\nSouth Africa    6204.929901             63.9\nZambia          1307.909649             61.2\nZimbabwe        1410.329174             59.6\n\n[83 rows x 2 columns]",
      "text/html": "<div>\n<style scoped>\n    .dataframe tbody tr th:only-of-type {\n        vertical-align: middle;\n    }\n\n    .dataframe tbody tr th {\n        vertical-align: top;\n    }\n\n    .dataframe thead th {\n        text-align: right;\n    }\n</style>\n<table border=\"1\" class=\"dataframe\">\n  <thead>\n    <tr style=\"text-align: right;\">\n      <th></th>\n      <th>GDP/Capita</th>\n      <th>Life Expectancy</th>\n    </tr>\n    <tr>\n      <th>Entity</th>\n      <th></th>\n      <th></th>\n    </tr>\n  </thead>\n  <tbody>\n    <tr>\n      <th>Australia</th>\n      <td>56710.445720</td>\n      <td>82.7</td>\n    </tr>\n    <tr>\n      <th>Austria</th>\n      <td>44195.817590</td>\n      <td>81.2</td>\n    </tr>\n    <tr>\n      <th>Burundi</th>\n      <td>289.359633</td>\n      <td>60.2</td>\n    </tr>\n    <tr>\n      <th>Belgium</th>\n      <td>41008.296720</td>\n      <td>80.9</td>\n    </tr>\n    <tr>\n      <th>Benin</th>\n      <td>1041.652523</td>\n      <td>59.4</td>\n    </tr>\n    <tr>\n      <th>...</th>\n      <td>...</td>\n      <td>...</td>\n    </tr>\n    <tr>\n      <th>United States</th>\n      <td>56762.729450</td>\n      <td>78.9</td>\n    </tr>\n    <tr>\n      <th>World</th>\n      <td>10153.780770</td>\n      <td>71.8</td>\n    </tr>\n    <tr>\n      <th>South Africa</th>\n      <td>6204.929901</td>\n      <td>63.9</td>\n    </tr>\n    <tr>\n      <th>Zambia</th>\n      <td>1307.909649</td>\n      <td>61.2</td>\n    </tr>\n    <tr>\n      <th>Zimbabwe</th>\n      <td>1410.329174</td>\n      <td>59.6</td>\n    </tr>\n  </tbody>\n</table>\n<p>83 rows × 2 columns</p>\n</div>"
     },
     "execution_count": 85,
     "metadata": {},
     "output_type": "execute_result"
    }
   ],
   "source": [
    "year_chosen = 2015\n",
    "\n",
    "df = pd.merge(gdp[str(year_chosen)], life_expectancy[year_chosen], how = 'inner', left_index = True, right_index = True)\n",
    "df.columns = ['GDP/Capita', 'Life Expectancy']\n",
    "df"
   ],
   "metadata": {
    "collapsed": false,
    "pycharm": {
     "name": "#%%\n"
    }
   }
  },
  {
   "cell_type": "code",
   "execution_count": 86,
   "outputs": [
    {
     "data": {
      "application/vnd.plotly.v1+json": {
       "data": [
        {
         "hovertemplate": "GDP/Capita=%{x}<br>Life Expectancy=%{y}<extra></extra>",
         "legendgroup": "",
         "marker": {
          "color": "#636efa",
          "symbol": "circle"
         },
         "mode": "markers",
         "name": "",
         "orientation": "v",
         "showlegend": false,
         "x": [
          56710.44572,
          44195.81759,
          289.3596333,
          41008.29672,
          1041.652523,
          632.1266837,
          1236.00506,
          6142.478833,
          102005.6256,
          2975.648811,
          8783.225984,
          5869.732943,
          351.8797536,
          43596.13554,
          13569.9478,
          8016.431435,
          1941.566336,
          1399.675331,
          6228.426299,
          11529.95453,
          6838.936594,
          4197.421361,
          6130.586676,
          25754.36103,
          42801.90812,
          5105.262627,
          36652.92231,
          7090.45461,
          45071.07432,
          1711.290666,
          18083.87791,
          3994.636913,
          5668.429765,
          2257.222712,
          1404.155214,
          1590.173918,
          62053.98444,
          52951.68151,
          30242.38614,
          5077.550622,
          34960.63938,
          1496.652856,
          4060.131785,
          1113.871328,
          105462.0126,
          3139.243652,
          455.6380397,
          9753.380048,
          376.2462048,
          9699.584021,
          481.1112995,
          2679.554765,
          2025.324776,
          45193.40322,
          74355.51586,
          882.3074488,
          1282.443153,
          13669.55944,
          6180.194957,
          2974.299531,
          2502.084291,
          29763.4883,
          19250.10654,
          733.4411218,
          2226.421631,
          1238.126396,
          55646.61875,
          576.7402317,
          8907.751222,
          51545.48361,
          3583.31129,
          15157.53029,
          774.4116005,
          559.4457465,
          5708.796925,
          18389.53103,
          864.1800623,
          15655.937,
          56762.72945,
          10153.78077,
          6204.929901,
          1307.909649,
          1410.329174
         ],
         "xaxis": "x",
         "y": [
          82.7,
          81.2,
          60.2,
          80.9,
          59.4,
          58.8,
          70.5,
          73.2,
          80.9,
          67.3,
          74.3,
          63.8,
          52.8,
          81.9,
          79.7,
          77.0,
          57.8,
          59.7,
          76.3,
          79.1,
          73.0,
          75.6,
          76.8,
          82.6,
          81.4,
          66.8,
          82.2,
          65.5,
          80.9,
          63.2,
          80.7,
          72.1,
          68.2,
          72.5,
          63.2,
          69.6,
          81.4,
          82.4,
          82.5,
          72.4,
          83.9,
          61.9,
          74.9,
          51.1,
          81.8,
          72.9,
          64.3,
          74.7,
          61.4,
          75.1,
          61.1,
          51.8,
          73.0,
          81.5,
          82.3,
          67.5,
          65.7,
          77.5,
          75.6,
          71.3,
          64.7,
          79.7,
          81.2,
          65.3,
          64.7,
          66.9,
          82.8,
          57.2,
          70.8,
          82.2,
          55.0,
          73.7,
          51.6,
          59.4,
          77.7,
          74.5,
          61.1,
          77.5,
          78.9,
          71.8,
          63.9,
          61.2,
          59.6
         ],
         "yaxis": "y",
         "type": "scatter"
        },
        {
         "hovertemplate": "<b>OLS trendline</b><br>Life Expectancy = 11.5672 * log10(GDP/Capita) + 27.6632<br>R<sup>2</sup>=0.745533<br><br>GDP/Capita=%{x}<br>Life Expectancy=%{y} <b>(trend)</b><extra></extra>",
         "legendgroup": "",
         "marker": {
          "color": "#636efa",
          "symbol": "circle"
         },
         "mode": "lines",
         "name": "",
         "showlegend": false,
         "x": [
          289.3596333,
          351.8797536,
          376.2462048,
          455.6380397,
          481.1112995,
          559.4457465,
          576.7402317,
          632.1266837,
          733.4411218,
          774.4116005,
          864.1800623,
          882.3074488,
          1041.652523,
          1113.871328,
          1236.00506,
          1238.126396,
          1282.443153,
          1307.909649,
          1399.675331,
          1404.155214,
          1410.329174,
          1496.652856,
          1590.173918,
          1711.290666,
          1941.566336,
          2025.324776,
          2226.421631,
          2257.222712,
          2502.084291,
          2679.554765,
          2974.299531,
          2975.648811,
          3139.243652,
          3583.31129,
          3994.636913,
          4060.131785,
          4197.421361,
          5077.550622,
          5105.262627,
          5668.429765,
          5708.796925,
          5869.732943,
          6130.586676,
          6142.478833,
          6180.194957,
          6204.929901,
          6228.426299,
          6838.936594,
          7090.45461,
          8016.431435,
          8783.225984,
          8907.751222,
          9699.584021,
          9753.380048,
          10153.78077,
          11529.95453,
          13569.9478,
          13669.55944,
          15157.53029,
          15655.937,
          18083.87791,
          18389.53103,
          19250.10654,
          25754.36103,
          29763.4883,
          30242.38614,
          34960.63938,
          36652.92231,
          41008.29672,
          42801.90812,
          43596.13554,
          44195.81759,
          45071.07432,
          45193.40322,
          51545.48361,
          52951.68151,
          55646.61875,
          56710.44572,
          56762.72945,
          62053.98444,
          74355.51586,
          102005.6256,
          105462.0126
         ],
         "xaxis": "x",
         "y": [
          56.1352127247573,
          57.11792115750099,
          57.454270972095706,
          58.41606024170821,
          58.68934250175264,
          59.44713893633556,
          59.600083831263774,
          60.06073528423114,
          60.8075279770856,
          61.08059059709808,
          61.6315648634082,
          61.73585146941239,
          62.56988171328905,
          62.90662835485812,
          63.42929568738603,
          63.43791018638355,
          63.61457793350957,
          63.713357586203045,
          64.05400711909323,
          64.07006020411328,
          64.09210006714281,
          64.39054110397946,
          64.69503131187513,
          65.06378445478066,
          65.69799710858582,
          65.9101681356071,
          66.38572812969431,
          66.45474970421203,
          66.97212273364586,
          67.31637125391816,
          67.84062145949811,
          67.84289987077963,
          68.11176077493998,
          68.77640748953118,
          69.32229658167424,
          69.40399375354683,
          69.57105258309264,
          70.5273340841339,
          70.5546769775152,
          71.08034551725154,
          71.11599365391578,
          71.25565332944605,
          71.47408514040906,
          71.48382047640226,
          71.51457200342438,
          71.53463770489849,
          71.5536247183586,
          72.0233723033411,
          72.20480994665328,
          72.82142364957032,
          73.28032959392692,
          73.35105182572241,
          73.77886572952961,
          73.80665062405417,
          74.00876040384234,
          74.64726866531136,
          75.46565607539567,
          75.50239750125776,
          76.02146399670184,
          76.18399058413098,
          76.90824303523169,
          76.99244182924761,
          77.22219550527896,
          78.68449592767304,
          79.41129951417636,
          79.49148606949487,
          80.2197964295627,
          80.45726262000706,
          81.02131631563931,
          81.23636708253443,
          81.32872974187421,
          81.39736010871654,
          81.49587506975995,
          81.50949126251325,
          82.17015953643853,
          82.30537033578368,
          82.55474827245386,
          82.649880314215,
          82.65450962794176,
          83.10223501756067,
          84.01076501821287,
          85.59907050933822,
          85.76647049316428
         ],
         "yaxis": "y",
         "type": "scatter"
        }
       ],
       "layout": {
        "template": {
         "data": {
          "histogram2dcontour": [
           {
            "type": "histogram2dcontour",
            "colorbar": {
             "outlinewidth": 0,
             "ticks": ""
            },
            "colorscale": [
             [
              0.0,
              "#0d0887"
             ],
             [
              0.1111111111111111,
              "#46039f"
             ],
             [
              0.2222222222222222,
              "#7201a8"
             ],
             [
              0.3333333333333333,
              "#9c179e"
             ],
             [
              0.4444444444444444,
              "#bd3786"
             ],
             [
              0.5555555555555556,
              "#d8576b"
             ],
             [
              0.6666666666666666,
              "#ed7953"
             ],
             [
              0.7777777777777778,
              "#fb9f3a"
             ],
             [
              0.8888888888888888,
              "#fdca26"
             ],
             [
              1.0,
              "#f0f921"
             ]
            ]
           }
          ],
          "choropleth": [
           {
            "type": "choropleth",
            "colorbar": {
             "outlinewidth": 0,
             "ticks": ""
            }
           }
          ],
          "histogram2d": [
           {
            "type": "histogram2d",
            "colorbar": {
             "outlinewidth": 0,
             "ticks": ""
            },
            "colorscale": [
             [
              0.0,
              "#0d0887"
             ],
             [
              0.1111111111111111,
              "#46039f"
             ],
             [
              0.2222222222222222,
              "#7201a8"
             ],
             [
              0.3333333333333333,
              "#9c179e"
             ],
             [
              0.4444444444444444,
              "#bd3786"
             ],
             [
              0.5555555555555556,
              "#d8576b"
             ],
             [
              0.6666666666666666,
              "#ed7953"
             ],
             [
              0.7777777777777778,
              "#fb9f3a"
             ],
             [
              0.8888888888888888,
              "#fdca26"
             ],
             [
              1.0,
              "#f0f921"
             ]
            ]
           }
          ],
          "heatmap": [
           {
            "type": "heatmap",
            "colorbar": {
             "outlinewidth": 0,
             "ticks": ""
            },
            "colorscale": [
             [
              0.0,
              "#0d0887"
             ],
             [
              0.1111111111111111,
              "#46039f"
             ],
             [
              0.2222222222222222,
              "#7201a8"
             ],
             [
              0.3333333333333333,
              "#9c179e"
             ],
             [
              0.4444444444444444,
              "#bd3786"
             ],
             [
              0.5555555555555556,
              "#d8576b"
             ],
             [
              0.6666666666666666,
              "#ed7953"
             ],
             [
              0.7777777777777778,
              "#fb9f3a"
             ],
             [
              0.8888888888888888,
              "#fdca26"
             ],
             [
              1.0,
              "#f0f921"
             ]
            ]
           }
          ],
          "heatmapgl": [
           {
            "type": "heatmapgl",
            "colorbar": {
             "outlinewidth": 0,
             "ticks": ""
            },
            "colorscale": [
             [
              0.0,
              "#0d0887"
             ],
             [
              0.1111111111111111,
              "#46039f"
             ],
             [
              0.2222222222222222,
              "#7201a8"
             ],
             [
              0.3333333333333333,
              "#9c179e"
             ],
             [
              0.4444444444444444,
              "#bd3786"
             ],
             [
              0.5555555555555556,
              "#d8576b"
             ],
             [
              0.6666666666666666,
              "#ed7953"
             ],
             [
              0.7777777777777778,
              "#fb9f3a"
             ],
             [
              0.8888888888888888,
              "#fdca26"
             ],
             [
              1.0,
              "#f0f921"
             ]
            ]
           }
          ],
          "contourcarpet": [
           {
            "type": "contourcarpet",
            "colorbar": {
             "outlinewidth": 0,
             "ticks": ""
            }
           }
          ],
          "contour": [
           {
            "type": "contour",
            "colorbar": {
             "outlinewidth": 0,
             "ticks": ""
            },
            "colorscale": [
             [
              0.0,
              "#0d0887"
             ],
             [
              0.1111111111111111,
              "#46039f"
             ],
             [
              0.2222222222222222,
              "#7201a8"
             ],
             [
              0.3333333333333333,
              "#9c179e"
             ],
             [
              0.4444444444444444,
              "#bd3786"
             ],
             [
              0.5555555555555556,
              "#d8576b"
             ],
             [
              0.6666666666666666,
              "#ed7953"
             ],
             [
              0.7777777777777778,
              "#fb9f3a"
             ],
             [
              0.8888888888888888,
              "#fdca26"
             ],
             [
              1.0,
              "#f0f921"
             ]
            ]
           }
          ],
          "surface": [
           {
            "type": "surface",
            "colorbar": {
             "outlinewidth": 0,
             "ticks": ""
            },
            "colorscale": [
             [
              0.0,
              "#0d0887"
             ],
             [
              0.1111111111111111,
              "#46039f"
             ],
             [
              0.2222222222222222,
              "#7201a8"
             ],
             [
              0.3333333333333333,
              "#9c179e"
             ],
             [
              0.4444444444444444,
              "#bd3786"
             ],
             [
              0.5555555555555556,
              "#d8576b"
             ],
             [
              0.6666666666666666,
              "#ed7953"
             ],
             [
              0.7777777777777778,
              "#fb9f3a"
             ],
             [
              0.8888888888888888,
              "#fdca26"
             ],
             [
              1.0,
              "#f0f921"
             ]
            ]
           }
          ],
          "mesh3d": [
           {
            "type": "mesh3d",
            "colorbar": {
             "outlinewidth": 0,
             "ticks": ""
            }
           }
          ],
          "scatter": [
           {
            "fillpattern": {
             "fillmode": "overlay",
             "size": 10,
             "solidity": 0.2
            },
            "type": "scatter"
           }
          ],
          "parcoords": [
           {
            "type": "parcoords",
            "line": {
             "colorbar": {
              "outlinewidth": 0,
              "ticks": ""
             }
            }
           }
          ],
          "scatterpolargl": [
           {
            "type": "scatterpolargl",
            "marker": {
             "colorbar": {
              "outlinewidth": 0,
              "ticks": ""
             }
            }
           }
          ],
          "bar": [
           {
            "error_x": {
             "color": "#2a3f5f"
            },
            "error_y": {
             "color": "#2a3f5f"
            },
            "marker": {
             "line": {
              "color": "#E5ECF6",
              "width": 0.5
             },
             "pattern": {
              "fillmode": "overlay",
              "size": 10,
              "solidity": 0.2
             }
            },
            "type": "bar"
           }
          ],
          "scattergeo": [
           {
            "type": "scattergeo",
            "marker": {
             "colorbar": {
              "outlinewidth": 0,
              "ticks": ""
             }
            }
           }
          ],
          "scatterpolar": [
           {
            "type": "scatterpolar",
            "marker": {
             "colorbar": {
              "outlinewidth": 0,
              "ticks": ""
             }
            }
           }
          ],
          "histogram": [
           {
            "marker": {
             "pattern": {
              "fillmode": "overlay",
              "size": 10,
              "solidity": 0.2
             }
            },
            "type": "histogram"
           }
          ],
          "scattergl": [
           {
            "type": "scattergl",
            "marker": {
             "colorbar": {
              "outlinewidth": 0,
              "ticks": ""
             }
            }
           }
          ],
          "scatter3d": [
           {
            "type": "scatter3d",
            "line": {
             "colorbar": {
              "outlinewidth": 0,
              "ticks": ""
             }
            },
            "marker": {
             "colorbar": {
              "outlinewidth": 0,
              "ticks": ""
             }
            }
           }
          ],
          "scattermapbox": [
           {
            "type": "scattermapbox",
            "marker": {
             "colorbar": {
              "outlinewidth": 0,
              "ticks": ""
             }
            }
           }
          ],
          "scatterternary": [
           {
            "type": "scatterternary",
            "marker": {
             "colorbar": {
              "outlinewidth": 0,
              "ticks": ""
             }
            }
           }
          ],
          "scattercarpet": [
           {
            "type": "scattercarpet",
            "marker": {
             "colorbar": {
              "outlinewidth": 0,
              "ticks": ""
             }
            }
           }
          ],
          "carpet": [
           {
            "aaxis": {
             "endlinecolor": "#2a3f5f",
             "gridcolor": "white",
             "linecolor": "white",
             "minorgridcolor": "white",
             "startlinecolor": "#2a3f5f"
            },
            "baxis": {
             "endlinecolor": "#2a3f5f",
             "gridcolor": "white",
             "linecolor": "white",
             "minorgridcolor": "white",
             "startlinecolor": "#2a3f5f"
            },
            "type": "carpet"
           }
          ],
          "table": [
           {
            "cells": {
             "fill": {
              "color": "#EBF0F8"
             },
             "line": {
              "color": "white"
             }
            },
            "header": {
             "fill": {
              "color": "#C8D4E3"
             },
             "line": {
              "color": "white"
             }
            },
            "type": "table"
           }
          ],
          "barpolar": [
           {
            "marker": {
             "line": {
              "color": "#E5ECF6",
              "width": 0.5
             },
             "pattern": {
              "fillmode": "overlay",
              "size": 10,
              "solidity": 0.2
             }
            },
            "type": "barpolar"
           }
          ],
          "pie": [
           {
            "automargin": true,
            "type": "pie"
           }
          ]
         },
         "layout": {
          "autotypenumbers": "strict",
          "colorway": [
           "#636efa",
           "#EF553B",
           "#00cc96",
           "#ab63fa",
           "#FFA15A",
           "#19d3f3",
           "#FF6692",
           "#B6E880",
           "#FF97FF",
           "#FECB52"
          ],
          "font": {
           "color": "#2a3f5f"
          },
          "hovermode": "closest",
          "hoverlabel": {
           "align": "left"
          },
          "paper_bgcolor": "white",
          "plot_bgcolor": "#E5ECF6",
          "polar": {
           "bgcolor": "#E5ECF6",
           "angularaxis": {
            "gridcolor": "white",
            "linecolor": "white",
            "ticks": ""
           },
           "radialaxis": {
            "gridcolor": "white",
            "linecolor": "white",
            "ticks": ""
           }
          },
          "ternary": {
           "bgcolor": "#E5ECF6",
           "aaxis": {
            "gridcolor": "white",
            "linecolor": "white",
            "ticks": ""
           },
           "baxis": {
            "gridcolor": "white",
            "linecolor": "white",
            "ticks": ""
           },
           "caxis": {
            "gridcolor": "white",
            "linecolor": "white",
            "ticks": ""
           }
          },
          "coloraxis": {
           "colorbar": {
            "outlinewidth": 0,
            "ticks": ""
           }
          },
          "colorscale": {
           "sequential": [
            [
             0.0,
             "#0d0887"
            ],
            [
             0.1111111111111111,
             "#46039f"
            ],
            [
             0.2222222222222222,
             "#7201a8"
            ],
            [
             0.3333333333333333,
             "#9c179e"
            ],
            [
             0.4444444444444444,
             "#bd3786"
            ],
            [
             0.5555555555555556,
             "#d8576b"
            ],
            [
             0.6666666666666666,
             "#ed7953"
            ],
            [
             0.7777777777777778,
             "#fb9f3a"
            ],
            [
             0.8888888888888888,
             "#fdca26"
            ],
            [
             1.0,
             "#f0f921"
            ]
           ],
           "sequentialminus": [
            [
             0.0,
             "#0d0887"
            ],
            [
             0.1111111111111111,
             "#46039f"
            ],
            [
             0.2222222222222222,
             "#7201a8"
            ],
            [
             0.3333333333333333,
             "#9c179e"
            ],
            [
             0.4444444444444444,
             "#bd3786"
            ],
            [
             0.5555555555555556,
             "#d8576b"
            ],
            [
             0.6666666666666666,
             "#ed7953"
            ],
            [
             0.7777777777777778,
             "#fb9f3a"
            ],
            [
             0.8888888888888888,
             "#fdca26"
            ],
            [
             1.0,
             "#f0f921"
            ]
           ],
           "diverging": [
            [
             0,
             "#8e0152"
            ],
            [
             0.1,
             "#c51b7d"
            ],
            [
             0.2,
             "#de77ae"
            ],
            [
             0.3,
             "#f1b6da"
            ],
            [
             0.4,
             "#fde0ef"
            ],
            [
             0.5,
             "#f7f7f7"
            ],
            [
             0.6,
             "#e6f5d0"
            ],
            [
             0.7,
             "#b8e186"
            ],
            [
             0.8,
             "#7fbc41"
            ],
            [
             0.9,
             "#4d9221"
            ],
            [
             1,
             "#276419"
            ]
           ]
          },
          "xaxis": {
           "gridcolor": "white",
           "linecolor": "white",
           "ticks": "",
           "title": {
            "standoff": 15
           },
           "zerolinecolor": "white",
           "automargin": true,
           "zerolinewidth": 2
          },
          "yaxis": {
           "gridcolor": "white",
           "linecolor": "white",
           "ticks": "",
           "title": {
            "standoff": 15
           },
           "zerolinecolor": "white",
           "automargin": true,
           "zerolinewidth": 2
          },
          "scene": {
           "xaxis": {
            "backgroundcolor": "#E5ECF6",
            "gridcolor": "white",
            "linecolor": "white",
            "showbackground": true,
            "ticks": "",
            "zerolinecolor": "white",
            "gridwidth": 2
           },
           "yaxis": {
            "backgroundcolor": "#E5ECF6",
            "gridcolor": "white",
            "linecolor": "white",
            "showbackground": true,
            "ticks": "",
            "zerolinecolor": "white",
            "gridwidth": 2
           },
           "zaxis": {
            "backgroundcolor": "#E5ECF6",
            "gridcolor": "white",
            "linecolor": "white",
            "showbackground": true,
            "ticks": "",
            "zerolinecolor": "white",
            "gridwidth": 2
           }
          },
          "shapedefaults": {
           "line": {
            "color": "#2a3f5f"
           }
          },
          "annotationdefaults": {
           "arrowcolor": "#2a3f5f",
           "arrowhead": 0,
           "arrowwidth": 1
          },
          "geo": {
           "bgcolor": "white",
           "landcolor": "#E5ECF6",
           "subunitcolor": "white",
           "showland": true,
           "showlakes": true,
           "lakecolor": "white"
          },
          "title": {
           "x": 0.05
          },
          "mapbox": {
           "style": "light"
          }
         }
        },
        "xaxis": {
         "anchor": "y",
         "domain": [
          0.0,
          1.0
         ],
         "title": {
          "text": "GDP/Capita"
         }
        },
        "yaxis": {
         "anchor": "x",
         "domain": [
          0.0,
          1.0
         ],
         "title": {
          "text": "Life Expectancy"
         }
        },
        "legend": {
         "tracegroupgap": 0
        },
        "title": {
         "text": "Log-transformed fit on linear axes"
        }
       },
       "config": {
        "plotlyServerURL": "https://plot.ly"
       }
      },
      "text/html": "<div>                            <div id=\"406cd1fa-45a4-410b-bb16-a45d270f7fdd\" class=\"plotly-graph-div\" style=\"height:525px; width:100%;\"></div>            <script type=\"text/javascript\">                require([\"plotly\"], function(Plotly) {                    window.PLOTLYENV=window.PLOTLYENV || {};                                    if (document.getElementById(\"406cd1fa-45a4-410b-bb16-a45d270f7fdd\")) {                    Plotly.newPlot(                        \"406cd1fa-45a4-410b-bb16-a45d270f7fdd\",                        [{\"hovertemplate\":\"GDP/Capita=%{x}<br>Life Expectancy=%{y}<extra></extra>\",\"legendgroup\":\"\",\"marker\":{\"color\":\"#636efa\",\"symbol\":\"circle\"},\"mode\":\"markers\",\"name\":\"\",\"orientation\":\"v\",\"showlegend\":false,\"x\":[56710.44572,44195.81759,289.3596333,41008.29672,1041.652523,632.1266837,1236.00506,6142.478833,102005.6256,2975.648811,8783.225984,5869.732943,351.8797536,43596.13554,13569.9478,8016.431435,1941.566336,1399.675331,6228.426299,11529.95453,6838.936594,4197.421361,6130.586676,25754.36103,42801.90812,5105.262627,36652.92231,7090.45461,45071.07432,1711.290666,18083.87791,3994.636913,5668.429765,2257.222712,1404.155214,1590.173918,62053.98444,52951.68151,30242.38614,5077.550622,34960.63938,1496.652856,4060.131785,1113.871328,105462.0126,3139.243652,455.6380397,9753.380048,376.2462048,9699.584021,481.1112995,2679.554765,2025.324776,45193.40322,74355.51586,882.3074488,1282.443153,13669.55944,6180.194957,2974.299531,2502.084291,29763.4883,19250.10654,733.4411218,2226.421631,1238.126396,55646.61875,576.7402317,8907.751222,51545.48361,3583.31129,15157.53029,774.4116005,559.4457465,5708.796925,18389.53103,864.1800623,15655.937,56762.72945,10153.78077,6204.929901,1307.909649,1410.329174],\"xaxis\":\"x\",\"y\":[82.7,81.2,60.2,80.9,59.4,58.8,70.5,73.2,80.9,67.3,74.3,63.8,52.8,81.9,79.7,77.0,57.8,59.7,76.3,79.1,73.0,75.6,76.8,82.6,81.4,66.8,82.2,65.5,80.9,63.2,80.7,72.1,68.2,72.5,63.2,69.6,81.4,82.4,82.5,72.4,83.9,61.9,74.9,51.1,81.8,72.9,64.3,74.7,61.4,75.1,61.1,51.8,73.0,81.5,82.3,67.5,65.7,77.5,75.6,71.3,64.7,79.7,81.2,65.3,64.7,66.9,82.8,57.2,70.8,82.2,55.0,73.7,51.6,59.4,77.7,74.5,61.1,77.5,78.9,71.8,63.9,61.2,59.6],\"yaxis\":\"y\",\"type\":\"scatter\"},{\"hovertemplate\":\"<b>OLS trendline</b><br>Life Expectancy = 11.5672 * log10(GDP/Capita) + 27.6632<br>R<sup>2</sup>=0.745533<br><br>GDP/Capita=%{x}<br>Life Expectancy=%{y} <b>(trend)</b><extra></extra>\",\"legendgroup\":\"\",\"marker\":{\"color\":\"#636efa\",\"symbol\":\"circle\"},\"mode\":\"lines\",\"name\":\"\",\"showlegend\":false,\"x\":[289.3596333,351.8797536,376.2462048,455.6380397,481.1112995,559.4457465,576.7402317,632.1266837,733.4411218,774.4116005,864.1800623,882.3074488,1041.652523,1113.871328,1236.00506,1238.126396,1282.443153,1307.909649,1399.675331,1404.155214,1410.329174,1496.652856,1590.173918,1711.290666,1941.566336,2025.324776,2226.421631,2257.222712,2502.084291,2679.554765,2974.299531,2975.648811,3139.243652,3583.31129,3994.636913,4060.131785,4197.421361,5077.550622,5105.262627,5668.429765,5708.796925,5869.732943,6130.586676,6142.478833,6180.194957,6204.929901,6228.426299,6838.936594,7090.45461,8016.431435,8783.225984,8907.751222,9699.584021,9753.380048,10153.78077,11529.95453,13569.9478,13669.55944,15157.53029,15655.937,18083.87791,18389.53103,19250.10654,25754.36103,29763.4883,30242.38614,34960.63938,36652.92231,41008.29672,42801.90812,43596.13554,44195.81759,45071.07432,45193.40322,51545.48361,52951.68151,55646.61875,56710.44572,56762.72945,62053.98444,74355.51586,102005.6256,105462.0126],\"xaxis\":\"x\",\"y\":[56.1352127247573,57.11792115750099,57.454270972095706,58.41606024170821,58.68934250175264,59.44713893633556,59.600083831263774,60.06073528423114,60.8075279770856,61.08059059709808,61.6315648634082,61.73585146941239,62.56988171328905,62.90662835485812,63.42929568738603,63.43791018638355,63.61457793350957,63.713357586203045,64.05400711909323,64.07006020411328,64.09210006714281,64.39054110397946,64.69503131187513,65.06378445478066,65.69799710858582,65.9101681356071,66.38572812969431,66.45474970421203,66.97212273364586,67.31637125391816,67.84062145949811,67.84289987077963,68.11176077493998,68.77640748953118,69.32229658167424,69.40399375354683,69.57105258309264,70.5273340841339,70.5546769775152,71.08034551725154,71.11599365391578,71.25565332944605,71.47408514040906,71.48382047640226,71.51457200342438,71.53463770489849,71.5536247183586,72.0233723033411,72.20480994665328,72.82142364957032,73.28032959392692,73.35105182572241,73.77886572952961,73.80665062405417,74.00876040384234,74.64726866531136,75.46565607539567,75.50239750125776,76.02146399670184,76.18399058413098,76.90824303523169,76.99244182924761,77.22219550527896,78.68449592767304,79.41129951417636,79.49148606949487,80.2197964295627,80.45726262000706,81.02131631563931,81.23636708253443,81.32872974187421,81.39736010871654,81.49587506975995,81.50949126251325,82.17015953643853,82.30537033578368,82.55474827245386,82.649880314215,82.65450962794176,83.10223501756067,84.01076501821287,85.59907050933822,85.76647049316428],\"yaxis\":\"y\",\"type\":\"scatter\"}],                        {\"template\":{\"data\":{\"histogram2dcontour\":[{\"type\":\"histogram2dcontour\",\"colorbar\":{\"outlinewidth\":0,\"ticks\":\"\"},\"colorscale\":[[0.0,\"#0d0887\"],[0.1111111111111111,\"#46039f\"],[0.2222222222222222,\"#7201a8\"],[0.3333333333333333,\"#9c179e\"],[0.4444444444444444,\"#bd3786\"],[0.5555555555555556,\"#d8576b\"],[0.6666666666666666,\"#ed7953\"],[0.7777777777777778,\"#fb9f3a\"],[0.8888888888888888,\"#fdca26\"],[1.0,\"#f0f921\"]]}],\"choropleth\":[{\"type\":\"choropleth\",\"colorbar\":{\"outlinewidth\":0,\"ticks\":\"\"}}],\"histogram2d\":[{\"type\":\"histogram2d\",\"colorbar\":{\"outlinewidth\":0,\"ticks\":\"\"},\"colorscale\":[[0.0,\"#0d0887\"],[0.1111111111111111,\"#46039f\"],[0.2222222222222222,\"#7201a8\"],[0.3333333333333333,\"#9c179e\"],[0.4444444444444444,\"#bd3786\"],[0.5555555555555556,\"#d8576b\"],[0.6666666666666666,\"#ed7953\"],[0.7777777777777778,\"#fb9f3a\"],[0.8888888888888888,\"#fdca26\"],[1.0,\"#f0f921\"]]}],\"heatmap\":[{\"type\":\"heatmap\",\"colorbar\":{\"outlinewidth\":0,\"ticks\":\"\"},\"colorscale\":[[0.0,\"#0d0887\"],[0.1111111111111111,\"#46039f\"],[0.2222222222222222,\"#7201a8\"],[0.3333333333333333,\"#9c179e\"],[0.4444444444444444,\"#bd3786\"],[0.5555555555555556,\"#d8576b\"],[0.6666666666666666,\"#ed7953\"],[0.7777777777777778,\"#fb9f3a\"],[0.8888888888888888,\"#fdca26\"],[1.0,\"#f0f921\"]]}],\"heatmapgl\":[{\"type\":\"heatmapgl\",\"colorbar\":{\"outlinewidth\":0,\"ticks\":\"\"},\"colorscale\":[[0.0,\"#0d0887\"],[0.1111111111111111,\"#46039f\"],[0.2222222222222222,\"#7201a8\"],[0.3333333333333333,\"#9c179e\"],[0.4444444444444444,\"#bd3786\"],[0.5555555555555556,\"#d8576b\"],[0.6666666666666666,\"#ed7953\"],[0.7777777777777778,\"#fb9f3a\"],[0.8888888888888888,\"#fdca26\"],[1.0,\"#f0f921\"]]}],\"contourcarpet\":[{\"type\":\"contourcarpet\",\"colorbar\":{\"outlinewidth\":0,\"ticks\":\"\"}}],\"contour\":[{\"type\":\"contour\",\"colorbar\":{\"outlinewidth\":0,\"ticks\":\"\"},\"colorscale\":[[0.0,\"#0d0887\"],[0.1111111111111111,\"#46039f\"],[0.2222222222222222,\"#7201a8\"],[0.3333333333333333,\"#9c179e\"],[0.4444444444444444,\"#bd3786\"],[0.5555555555555556,\"#d8576b\"],[0.6666666666666666,\"#ed7953\"],[0.7777777777777778,\"#fb9f3a\"],[0.8888888888888888,\"#fdca26\"],[1.0,\"#f0f921\"]]}],\"surface\":[{\"type\":\"surface\",\"colorbar\":{\"outlinewidth\":0,\"ticks\":\"\"},\"colorscale\":[[0.0,\"#0d0887\"],[0.1111111111111111,\"#46039f\"],[0.2222222222222222,\"#7201a8\"],[0.3333333333333333,\"#9c179e\"],[0.4444444444444444,\"#bd3786\"],[0.5555555555555556,\"#d8576b\"],[0.6666666666666666,\"#ed7953\"],[0.7777777777777778,\"#fb9f3a\"],[0.8888888888888888,\"#fdca26\"],[1.0,\"#f0f921\"]]}],\"mesh3d\":[{\"type\":\"mesh3d\",\"colorbar\":{\"outlinewidth\":0,\"ticks\":\"\"}}],\"scatter\":[{\"fillpattern\":{\"fillmode\":\"overlay\",\"size\":10,\"solidity\":0.2},\"type\":\"scatter\"}],\"parcoords\":[{\"type\":\"parcoords\",\"line\":{\"colorbar\":{\"outlinewidth\":0,\"ticks\":\"\"}}}],\"scatterpolargl\":[{\"type\":\"scatterpolargl\",\"marker\":{\"colorbar\":{\"outlinewidth\":0,\"ticks\":\"\"}}}],\"bar\":[{\"error_x\":{\"color\":\"#2a3f5f\"},\"error_y\":{\"color\":\"#2a3f5f\"},\"marker\":{\"line\":{\"color\":\"#E5ECF6\",\"width\":0.5},\"pattern\":{\"fillmode\":\"overlay\",\"size\":10,\"solidity\":0.2}},\"type\":\"bar\"}],\"scattergeo\":[{\"type\":\"scattergeo\",\"marker\":{\"colorbar\":{\"outlinewidth\":0,\"ticks\":\"\"}}}],\"scatterpolar\":[{\"type\":\"scatterpolar\",\"marker\":{\"colorbar\":{\"outlinewidth\":0,\"ticks\":\"\"}}}],\"histogram\":[{\"marker\":{\"pattern\":{\"fillmode\":\"overlay\",\"size\":10,\"solidity\":0.2}},\"type\":\"histogram\"}],\"scattergl\":[{\"type\":\"scattergl\",\"marker\":{\"colorbar\":{\"outlinewidth\":0,\"ticks\":\"\"}}}],\"scatter3d\":[{\"type\":\"scatter3d\",\"line\":{\"colorbar\":{\"outlinewidth\":0,\"ticks\":\"\"}},\"marker\":{\"colorbar\":{\"outlinewidth\":0,\"ticks\":\"\"}}}],\"scattermapbox\":[{\"type\":\"scattermapbox\",\"marker\":{\"colorbar\":{\"outlinewidth\":0,\"ticks\":\"\"}}}],\"scatterternary\":[{\"type\":\"scatterternary\",\"marker\":{\"colorbar\":{\"outlinewidth\":0,\"ticks\":\"\"}}}],\"scattercarpet\":[{\"type\":\"scattercarpet\",\"marker\":{\"colorbar\":{\"outlinewidth\":0,\"ticks\":\"\"}}}],\"carpet\":[{\"aaxis\":{\"endlinecolor\":\"#2a3f5f\",\"gridcolor\":\"white\",\"linecolor\":\"white\",\"minorgridcolor\":\"white\",\"startlinecolor\":\"#2a3f5f\"},\"baxis\":{\"endlinecolor\":\"#2a3f5f\",\"gridcolor\":\"white\",\"linecolor\":\"white\",\"minorgridcolor\":\"white\",\"startlinecolor\":\"#2a3f5f\"},\"type\":\"carpet\"}],\"table\":[{\"cells\":{\"fill\":{\"color\":\"#EBF0F8\"},\"line\":{\"color\":\"white\"}},\"header\":{\"fill\":{\"color\":\"#C8D4E3\"},\"line\":{\"color\":\"white\"}},\"type\":\"table\"}],\"barpolar\":[{\"marker\":{\"line\":{\"color\":\"#E5ECF6\",\"width\":0.5},\"pattern\":{\"fillmode\":\"overlay\",\"size\":10,\"solidity\":0.2}},\"type\":\"barpolar\"}],\"pie\":[{\"automargin\":true,\"type\":\"pie\"}]},\"layout\":{\"autotypenumbers\":\"strict\",\"colorway\":[\"#636efa\",\"#EF553B\",\"#00cc96\",\"#ab63fa\",\"#FFA15A\",\"#19d3f3\",\"#FF6692\",\"#B6E880\",\"#FF97FF\",\"#FECB52\"],\"font\":{\"color\":\"#2a3f5f\"},\"hovermode\":\"closest\",\"hoverlabel\":{\"align\":\"left\"},\"paper_bgcolor\":\"white\",\"plot_bgcolor\":\"#E5ECF6\",\"polar\":{\"bgcolor\":\"#E5ECF6\",\"angularaxis\":{\"gridcolor\":\"white\",\"linecolor\":\"white\",\"ticks\":\"\"},\"radialaxis\":{\"gridcolor\":\"white\",\"linecolor\":\"white\",\"ticks\":\"\"}},\"ternary\":{\"bgcolor\":\"#E5ECF6\",\"aaxis\":{\"gridcolor\":\"white\",\"linecolor\":\"white\",\"ticks\":\"\"},\"baxis\":{\"gridcolor\":\"white\",\"linecolor\":\"white\",\"ticks\":\"\"},\"caxis\":{\"gridcolor\":\"white\",\"linecolor\":\"white\",\"ticks\":\"\"}},\"coloraxis\":{\"colorbar\":{\"outlinewidth\":0,\"ticks\":\"\"}},\"colorscale\":{\"sequential\":[[0.0,\"#0d0887\"],[0.1111111111111111,\"#46039f\"],[0.2222222222222222,\"#7201a8\"],[0.3333333333333333,\"#9c179e\"],[0.4444444444444444,\"#bd3786\"],[0.5555555555555556,\"#d8576b\"],[0.6666666666666666,\"#ed7953\"],[0.7777777777777778,\"#fb9f3a\"],[0.8888888888888888,\"#fdca26\"],[1.0,\"#f0f921\"]],\"sequentialminus\":[[0.0,\"#0d0887\"],[0.1111111111111111,\"#46039f\"],[0.2222222222222222,\"#7201a8\"],[0.3333333333333333,\"#9c179e\"],[0.4444444444444444,\"#bd3786\"],[0.5555555555555556,\"#d8576b\"],[0.6666666666666666,\"#ed7953\"],[0.7777777777777778,\"#fb9f3a\"],[0.8888888888888888,\"#fdca26\"],[1.0,\"#f0f921\"]],\"diverging\":[[0,\"#8e0152\"],[0.1,\"#c51b7d\"],[0.2,\"#de77ae\"],[0.3,\"#f1b6da\"],[0.4,\"#fde0ef\"],[0.5,\"#f7f7f7\"],[0.6,\"#e6f5d0\"],[0.7,\"#b8e186\"],[0.8,\"#7fbc41\"],[0.9,\"#4d9221\"],[1,\"#276419\"]]},\"xaxis\":{\"gridcolor\":\"white\",\"linecolor\":\"white\",\"ticks\":\"\",\"title\":{\"standoff\":15},\"zerolinecolor\":\"white\",\"automargin\":true,\"zerolinewidth\":2},\"yaxis\":{\"gridcolor\":\"white\",\"linecolor\":\"white\",\"ticks\":\"\",\"title\":{\"standoff\":15},\"zerolinecolor\":\"white\",\"automargin\":true,\"zerolinewidth\":2},\"scene\":{\"xaxis\":{\"backgroundcolor\":\"#E5ECF6\",\"gridcolor\":\"white\",\"linecolor\":\"white\",\"showbackground\":true,\"ticks\":\"\",\"zerolinecolor\":\"white\",\"gridwidth\":2},\"yaxis\":{\"backgroundcolor\":\"#E5ECF6\",\"gridcolor\":\"white\",\"linecolor\":\"white\",\"showbackground\":true,\"ticks\":\"\",\"zerolinecolor\":\"white\",\"gridwidth\":2},\"zaxis\":{\"backgroundcolor\":\"#E5ECF6\",\"gridcolor\":\"white\",\"linecolor\":\"white\",\"showbackground\":true,\"ticks\":\"\",\"zerolinecolor\":\"white\",\"gridwidth\":2}},\"shapedefaults\":{\"line\":{\"color\":\"#2a3f5f\"}},\"annotationdefaults\":{\"arrowcolor\":\"#2a3f5f\",\"arrowhead\":0,\"arrowwidth\":1},\"geo\":{\"bgcolor\":\"white\",\"landcolor\":\"#E5ECF6\",\"subunitcolor\":\"white\",\"showland\":true,\"showlakes\":true,\"lakecolor\":\"white\"},\"title\":{\"x\":0.05},\"mapbox\":{\"style\":\"light\"}}},\"xaxis\":{\"anchor\":\"y\",\"domain\":[0.0,1.0],\"title\":{\"text\":\"GDP/Capita\"}},\"yaxis\":{\"anchor\":\"x\",\"domain\":[0.0,1.0],\"title\":{\"text\":\"Life Expectancy\"}},\"legend\":{\"tracegroupgap\":0},\"title\":{\"text\":\"Log-transformed fit on linear axes\"}},                        {\"responsive\": true}                    ).then(function(){\n                            \nvar gd = document.getElementById('406cd1fa-45a4-410b-bb16-a45d270f7fdd');\nvar x = new MutationObserver(function (mutations, observer) {{\n        var display = window.getComputedStyle(gd).display;\n        if (!display || display === 'none') {{\n            console.log([gd, 'removed!']);\n            Plotly.purge(gd);\n            observer.disconnect();\n        }}\n}});\n\n// Listen for the removal of the full notebook cells\nvar notebookContainer = gd.closest('#notebook-container');\nif (notebookContainer) {{\n    x.observe(notebookContainer, {childList: true});\n}}\n\n// Listen for the clearing of the current output cell\nvar outputEl = gd.closest('.output');\nif (outputEl) {{\n    x.observe(outputEl, {childList: true});\n}}\n\n                        })                };                });            </script>        </div>"
     },
     "metadata": {},
     "output_type": "display_data"
    }
   ],
   "source": [
    "import plotly.express as px\n",
    "\n",
    "fig = px.scatter(df, y=\"Life Expectancy\", x=\"GDP/Capita\",\n",
    "                 trendline=\"ols\", trendline_options=dict(log_x=True),\n",
    "                 # text = df.index,\n",
    "                 title=\"Log-transformed fit on linear axes\")\n",
    "\n",
    "fig.show()"
   ],
   "metadata": {
    "collapsed": false,
    "pycharm": {
     "name": "#%%\n"
    }
   }
  },
  {
   "cell_type": "markdown",
   "source": [
    "ADVANCED: Draw a different scatter plot with change in life-expectancy by change in per-capita GDP\n",
    "(a) Using the same data, calculate the change in life-expectancy from 1950 to 2020 and change in GDP per-capita\n",
    "over the same time-period.\n",
    "(b) Construct a scatter plot of country-wise data to show change in life-expectancy on Y-axis and change in GDP per-capita on X-axis."
   ],
   "metadata": {
    "collapsed": false,
    "pycharm": {
     "name": "#%% md\n"
    }
   }
  },
  {
   "cell_type": "code",
   "execution_count": 101,
   "outputs": [],
   "source": [
    "gdpdiff = gdp[str(2020)] - gdp[str(1960)]\n",
    "gdpdiff = pd.DataFrame(gdpdiff.T)\n",
    "gdpdiff.columns = ['Change in GDP/Capita']\n",
    "\n",
    "life_expectancydiff = life_expectancy[2020] - life_expectancy[1960]\n",
    "life_expectancydiff = pd.DataFrame(life_expectancydiff.T)\n",
    "life_expectancydiff.columns = ['Change in Life Expectancy']\n"
   ],
   "metadata": {
    "collapsed": false,
    "pycharm": {
     "name": "#%%\n"
    }
   }
  },
  {
   "cell_type": "code",
   "execution_count": 102,
   "outputs": [
    {
     "data": {
      "text/plain": "               Change in GDP/Capita  Change in Life Expectancy\nEntity                                                        \nAustralia              49909.860511                       13.4\nAustria                47873.766453                       12.8\nBurundi                  145.466517                       18.6\nBelgium                44244.103271                       11.2\nBenin                   1147.913463                       21.9\n...                             ...                        ...\nUnited States          60523.510035                        7.6\nWorld                  10422.443660                       24.3\nSouth Africa            5212.081206                       12.6\nZambia                   728.263965                       13.4\nZimbabwe                1096.053311                        7.9\n\n[83 rows x 2 columns]",
      "text/html": "<div>\n<style scoped>\n    .dataframe tbody tr th:only-of-type {\n        vertical-align: middle;\n    }\n\n    .dataframe tbody tr th {\n        vertical-align: top;\n    }\n\n    .dataframe thead th {\n        text-align: right;\n    }\n</style>\n<table border=\"1\" class=\"dataframe\">\n  <thead>\n    <tr style=\"text-align: right;\">\n      <th></th>\n      <th>Change in GDP/Capita</th>\n      <th>Change in Life Expectancy</th>\n    </tr>\n    <tr>\n      <th>Entity</th>\n      <th></th>\n      <th></th>\n    </tr>\n  </thead>\n  <tbody>\n    <tr>\n      <th>Australia</th>\n      <td>49909.860511</td>\n      <td>13.4</td>\n    </tr>\n    <tr>\n      <th>Austria</th>\n      <td>47873.766453</td>\n      <td>12.8</td>\n    </tr>\n    <tr>\n      <th>Burundi</th>\n      <td>145.466517</td>\n      <td>18.6</td>\n    </tr>\n    <tr>\n      <th>Belgium</th>\n      <td>44244.103271</td>\n      <td>11.2</td>\n    </tr>\n    <tr>\n      <th>Benin</th>\n      <td>1147.913463</td>\n      <td>21.9</td>\n    </tr>\n    <tr>\n      <th>...</th>\n      <td>...</td>\n      <td>...</td>\n    </tr>\n    <tr>\n      <th>United States</th>\n      <td>60523.510035</td>\n      <td>7.6</td>\n    </tr>\n    <tr>\n      <th>World</th>\n      <td>10422.443660</td>\n      <td>24.3</td>\n    </tr>\n    <tr>\n      <th>South Africa</th>\n      <td>5212.081206</td>\n      <td>12.6</td>\n    </tr>\n    <tr>\n      <th>Zambia</th>\n      <td>728.263965</td>\n      <td>13.4</td>\n    </tr>\n    <tr>\n      <th>Zimbabwe</th>\n      <td>1096.053311</td>\n      <td>7.9</td>\n    </tr>\n  </tbody>\n</table>\n<p>83 rows × 2 columns</p>\n</div>"
     },
     "execution_count": 102,
     "metadata": {},
     "output_type": "execute_result"
    }
   ],
   "source": [
    "df_diff = pd.merge(left = gdpdiff, right = life_expectancydiff, how = 'inner', right_index = True, left_index = True)\n",
    "df_diff"
   ],
   "metadata": {
    "collapsed": false,
    "pycharm": {
     "name": "#%%\n"
    }
   }
  },
  {
   "cell_type": "code",
   "execution_count": 107,
   "outputs": [
    {
     "data": {
      "application/vnd.plotly.v1+json": {
       "data": [
        {
         "hovertemplate": "Change in GDP/Capita=%{x}<br>Change in Life Expectancy=%{y}<extra></extra>",
         "legendgroup": "",
         "marker": {
          "color": "#636efa",
          "symbol": "circle"
         },
         "mode": "markers",
         "name": "",
         "orientation": "v",
         "showlegend": false,
         "x": [
          49909.860511,
          47873.766453100005,
          145.46651705,
          44244.103271,
          1147.91346332,
          764.16114699,
          2148.4801901799997,
          4959.7539805999995,
          105889.484281,
          2967.9689,
          6561.490396499999,
          5803.90438265,
          368.69915611,
          40999.013359000004,
          12589.6583922,
          10319.14921849,
          2140.8416633,
          1419.1123648,
          5050.2523807,
          11755.9080944,
          6964.0394081,
          3098.2214428,
          5197.084408199999,
          26563.2831867,
          47991.399139,
          4584.582549199999,
          37721.401357,
          6404.4973301,
          38920.962767,
          2000.4838106,
          17138.6245557,
          4351.8205078,
          6565.4900382000005,
          2192.6420546000004,
          1213.11328164,
          1827.3863711800002,
          84734.5761476,
          57785.195671,
          31106.5431667,
          4471.6204705,
          39442.848484400005,
          1834.3447214,
          3751.0618931,
          942.9814516499999,
          115128.48108299999,
          3085.5223542,
          329.73393969999995,
          8295.4556223,
          583.69724624,
          9916.1706227,
          436.2914109999999,
          1981.2187108300002,
          1738.0287027000002,
          51093.785532999995,
          65887.92213,
          1089.1964371499998,
          1240.7280887,
          12092.5501178,
          5803.5071231,
          2960.5856891000003,
          2329.9863444000002,
          30676.3925269,
          21881.9071215,
          734.57006699,
          491.9615326,
          1183.5614936,
          60301.39137,
          353.5543555,
          4425.2535632,
          50723.901007,
          3271.244728,
          12520.929628,
          540.2347393,
          823.8443915099999,
          6887.134673799999,
          13239.4129928,
          791.23786418,
          15128.329167,
          60523.510035,
          10422.44366,
          5212.081206,
          728.2639654000001,
          1096.0533107
         ],
         "xaxis": "x",
         "y": [
          13.399999999999991,
          12.799999999999997,
          18.6,
          11.200000000000003,
          21.9,
          23.800000000000004,
          27.299999999999997,
          14.700000000000003,
          13.899999999999991,
          21.4,
          21.299999999999997,
          15.199999999999996,
          15.399999999999999,
          11.0,
          22.400000000000006,
          44.8,
          20.9,
          26.0,
          17.699999999999996,
          18.9,
          22.60000000000001,
          34.0,
          18.800000000000004,
          13.099999999999994,
          12.900000000000006,
          10.300000000000004,
          11.799999999999997,
          19.9,
          9.400000000000006,
          16.999999999999993,
          11.5,
          26.0,
          10.5,
          23.200000000000003,
          20.599999999999994,
          24.89999999999999,
          12.299999999999997,
          8.799999999999997,
          13.200000000000003,
          7.900000000000006,
          17.0,
          14.0,
          15.700000000000003,
          4.300000000000004,
          12.800000000000011,
          31.900000000000006,
          22.0,
          15.099999999999994,
          28.5,
          19.400000000000006,
          25.1,
          15.5,
          25.699999999999996,
          8.199999999999989,
          9.600000000000009,
          30.6,
          21.4,
          16.0,
          23.200000000000003,
          12.899999999999991,
          20.099999999999994,
          9.099999999999994,
          16.89999999999999,
          19.599999999999994,
          18.999999999999993,
          28.1,
          18.10000000000001,
          25.799999999999997,
          15.499999999999993,
          9.400000000000006,
          13.900000000000006,
          19.0,
          14.399999999999999,
          18.299999999999997,
          28.299999999999997,
          11.400000000000006,
          17.4,
          10.600000000000009,
          7.6000000000000085,
          24.299999999999997,
          12.599999999999994,
          13.399999999999999,
          7.899999999999999
         ],
         "yaxis": "y",
         "type": "scatter"
        },
        {
         "hovertemplate": "<b>OLS trendline</b><br>Change in Life Expectancy = -4.17329 * log10(Change in GDP/Capita) + 33.2895<br>R<sup>2</sup>=0.176039<br><br>Change in GDP/Capita=%{x}<br>Change in Life Expectancy=%{y} <b>(trend)</b><extra></extra>",
         "legendgroup": "",
         "marker": {
          "color": "#636efa",
          "symbol": "circle"
         },
         "mode": "lines",
         "name": "",
         "showlegend": false,
         "x": [
          145.46651705,
          329.73393969999995,
          353.5543555,
          368.69915611,
          436.2914109999999,
          491.9615326,
          540.2347393,
          583.69724624,
          728.2639654000001,
          734.57006699,
          764.16114699,
          791.23786418,
          823.8443915099999,
          942.9814516499999,
          1089.1964371499998,
          1096.0533107,
          1147.91346332,
          1183.5614936,
          1213.11328164,
          1240.7280887,
          1419.1123648,
          1738.0287027000002,
          1827.3863711800002,
          1834.3447214,
          1981.2187108300002,
          2000.4838106,
          2140.8416633,
          2148.4801901799997,
          2192.6420546000004,
          2329.9863444000002,
          2960.5856891000003,
          2967.9689,
          3085.5223542,
          3098.2214428,
          3271.244728,
          3751.0618931,
          4351.8205078,
          4425.2535632,
          4471.6204705,
          4584.582549199999,
          4959.7539805999995,
          5050.2523807,
          5197.084408199999,
          5212.081206,
          5803.5071231,
          5803.90438265,
          6404.4973301,
          6561.490396499999,
          6565.4900382000005,
          6887.134673799999,
          6964.0394081,
          8295.4556223,
          9916.1706227,
          10319.14921849,
          10422.44366,
          11755.9080944,
          12092.5501178,
          12520.929628,
          12589.6583922,
          13239.4129928,
          15128.329167,
          17138.6245557,
          21881.9071215,
          26563.2831867,
          30676.3925269,
          31106.5431667,
          37721.401357,
          38920.962767,
          39442.848484400005,
          40999.013359000004,
          44244.103271,
          47873.766453100005,
          47991.399139,
          49909.860511,
          50723.901007,
          51093.785532999995,
          57785.195671,
          60301.39137,
          60523.510035,
          65887.92213,
          84734.5761476,
          105889.484281,
          115128.48108299999
         ],
         "xaxis": "x",
         "y": [
          24.263692966795045,
          22.780502050801477,
          22.65408240220659,
          22.57806189629155,
          22.27297530864755,
          22.055319367388748,
          21.885669319637746,
          21.745425234521548,
          21.344366855663335,
          21.328740352964992,
          21.25716117601228,
          21.19405218159591,
          21.120860435090588,
          20.876063572397076,
          20.614802647060024,
          20.603428477957166,
          20.5196393055241,
          20.46421097175135,
          20.419512789409687,
          20.378717778124443,
          20.13524715031969,
          19.76782975759599,
          19.676962822308443,
          19.670074498536916,
          19.530471724222856,
          19.512932958176698,
          19.390031534170284,
          19.383576260946242,
          19.346699432728993,
          19.236584439594278,
          18.802460714566536,
          18.797946420260462,
          18.727545672928166,
          18.720101527143655,
          18.621609388100993,
          18.373543861984178,
          18.104296578490374,
          18.073968481354093,
          18.055076921738326,
          18.009859869739945,
          17.867298768386515,
          17.83452611728003,
          17.782582438482496,
          17.777359966584804,
          17.582553364802354,
          17.58242930469324,
          17.403959260311723,
          17.360066864761496,
          17.358962406121915,
          17.272277146081603,
          17.252150836675852,
          16.935068099225365,
          16.611622249159765,
          16.539424688884637,
          16.52137242678908,
          16.30316501153383,
          16.251993285888563,
          16.18889860863932,
          16.178977140768087,
          16.087770722782736,
          15.846044256899171,
          15.619914372134271,
          15.177089558697293,
          14.825712544844059,
          14.564787685425165,
          14.539549841879921,
          14.190094690376043,
          14.133355615107973,
          14.109214380526607,
          14.039081629762954,
          13.901020781849708,
          13.758118047338902,
          13.753670090153818,
          13.682628353114128,
          13.653305584691632,
          13.640137032106136,
          13.417080744825155,
          13.339829981478347,
          13.333166176355391,
          13.17924801215721,
          12.723295502234148,
          12.319353400349463,
          12.167737905092325
         ],
         "yaxis": "y",
         "type": "scatter"
        }
       ],
       "layout": {
        "template": {
         "data": {
          "histogram2dcontour": [
           {
            "type": "histogram2dcontour",
            "colorbar": {
             "outlinewidth": 0,
             "ticks": ""
            },
            "colorscale": [
             [
              0.0,
              "#0d0887"
             ],
             [
              0.1111111111111111,
              "#46039f"
             ],
             [
              0.2222222222222222,
              "#7201a8"
             ],
             [
              0.3333333333333333,
              "#9c179e"
             ],
             [
              0.4444444444444444,
              "#bd3786"
             ],
             [
              0.5555555555555556,
              "#d8576b"
             ],
             [
              0.6666666666666666,
              "#ed7953"
             ],
             [
              0.7777777777777778,
              "#fb9f3a"
             ],
             [
              0.8888888888888888,
              "#fdca26"
             ],
             [
              1.0,
              "#f0f921"
             ]
            ]
           }
          ],
          "choropleth": [
           {
            "type": "choropleth",
            "colorbar": {
             "outlinewidth": 0,
             "ticks": ""
            }
           }
          ],
          "histogram2d": [
           {
            "type": "histogram2d",
            "colorbar": {
             "outlinewidth": 0,
             "ticks": ""
            },
            "colorscale": [
             [
              0.0,
              "#0d0887"
             ],
             [
              0.1111111111111111,
              "#46039f"
             ],
             [
              0.2222222222222222,
              "#7201a8"
             ],
             [
              0.3333333333333333,
              "#9c179e"
             ],
             [
              0.4444444444444444,
              "#bd3786"
             ],
             [
              0.5555555555555556,
              "#d8576b"
             ],
             [
              0.6666666666666666,
              "#ed7953"
             ],
             [
              0.7777777777777778,
              "#fb9f3a"
             ],
             [
              0.8888888888888888,
              "#fdca26"
             ],
             [
              1.0,
              "#f0f921"
             ]
            ]
           }
          ],
          "heatmap": [
           {
            "type": "heatmap",
            "colorbar": {
             "outlinewidth": 0,
             "ticks": ""
            },
            "colorscale": [
             [
              0.0,
              "#0d0887"
             ],
             [
              0.1111111111111111,
              "#46039f"
             ],
             [
              0.2222222222222222,
              "#7201a8"
             ],
             [
              0.3333333333333333,
              "#9c179e"
             ],
             [
              0.4444444444444444,
              "#bd3786"
             ],
             [
              0.5555555555555556,
              "#d8576b"
             ],
             [
              0.6666666666666666,
              "#ed7953"
             ],
             [
              0.7777777777777778,
              "#fb9f3a"
             ],
             [
              0.8888888888888888,
              "#fdca26"
             ],
             [
              1.0,
              "#f0f921"
             ]
            ]
           }
          ],
          "heatmapgl": [
           {
            "type": "heatmapgl",
            "colorbar": {
             "outlinewidth": 0,
             "ticks": ""
            },
            "colorscale": [
             [
              0.0,
              "#0d0887"
             ],
             [
              0.1111111111111111,
              "#46039f"
             ],
             [
              0.2222222222222222,
              "#7201a8"
             ],
             [
              0.3333333333333333,
              "#9c179e"
             ],
             [
              0.4444444444444444,
              "#bd3786"
             ],
             [
              0.5555555555555556,
              "#d8576b"
             ],
             [
              0.6666666666666666,
              "#ed7953"
             ],
             [
              0.7777777777777778,
              "#fb9f3a"
             ],
             [
              0.8888888888888888,
              "#fdca26"
             ],
             [
              1.0,
              "#f0f921"
             ]
            ]
           }
          ],
          "contourcarpet": [
           {
            "type": "contourcarpet",
            "colorbar": {
             "outlinewidth": 0,
             "ticks": ""
            }
           }
          ],
          "contour": [
           {
            "type": "contour",
            "colorbar": {
             "outlinewidth": 0,
             "ticks": ""
            },
            "colorscale": [
             [
              0.0,
              "#0d0887"
             ],
             [
              0.1111111111111111,
              "#46039f"
             ],
             [
              0.2222222222222222,
              "#7201a8"
             ],
             [
              0.3333333333333333,
              "#9c179e"
             ],
             [
              0.4444444444444444,
              "#bd3786"
             ],
             [
              0.5555555555555556,
              "#d8576b"
             ],
             [
              0.6666666666666666,
              "#ed7953"
             ],
             [
              0.7777777777777778,
              "#fb9f3a"
             ],
             [
              0.8888888888888888,
              "#fdca26"
             ],
             [
              1.0,
              "#f0f921"
             ]
            ]
           }
          ],
          "surface": [
           {
            "type": "surface",
            "colorbar": {
             "outlinewidth": 0,
             "ticks": ""
            },
            "colorscale": [
             [
              0.0,
              "#0d0887"
             ],
             [
              0.1111111111111111,
              "#46039f"
             ],
             [
              0.2222222222222222,
              "#7201a8"
             ],
             [
              0.3333333333333333,
              "#9c179e"
             ],
             [
              0.4444444444444444,
              "#bd3786"
             ],
             [
              0.5555555555555556,
              "#d8576b"
             ],
             [
              0.6666666666666666,
              "#ed7953"
             ],
             [
              0.7777777777777778,
              "#fb9f3a"
             ],
             [
              0.8888888888888888,
              "#fdca26"
             ],
             [
              1.0,
              "#f0f921"
             ]
            ]
           }
          ],
          "mesh3d": [
           {
            "type": "mesh3d",
            "colorbar": {
             "outlinewidth": 0,
             "ticks": ""
            }
           }
          ],
          "scatter": [
           {
            "fillpattern": {
             "fillmode": "overlay",
             "size": 10,
             "solidity": 0.2
            },
            "type": "scatter"
           }
          ],
          "parcoords": [
           {
            "type": "parcoords",
            "line": {
             "colorbar": {
              "outlinewidth": 0,
              "ticks": ""
             }
            }
           }
          ],
          "scatterpolargl": [
           {
            "type": "scatterpolargl",
            "marker": {
             "colorbar": {
              "outlinewidth": 0,
              "ticks": ""
             }
            }
           }
          ],
          "bar": [
           {
            "error_x": {
             "color": "#2a3f5f"
            },
            "error_y": {
             "color": "#2a3f5f"
            },
            "marker": {
             "line": {
              "color": "#E5ECF6",
              "width": 0.5
             },
             "pattern": {
              "fillmode": "overlay",
              "size": 10,
              "solidity": 0.2
             }
            },
            "type": "bar"
           }
          ],
          "scattergeo": [
           {
            "type": "scattergeo",
            "marker": {
             "colorbar": {
              "outlinewidth": 0,
              "ticks": ""
             }
            }
           }
          ],
          "scatterpolar": [
           {
            "type": "scatterpolar",
            "marker": {
             "colorbar": {
              "outlinewidth": 0,
              "ticks": ""
             }
            }
           }
          ],
          "histogram": [
           {
            "marker": {
             "pattern": {
              "fillmode": "overlay",
              "size": 10,
              "solidity": 0.2
             }
            },
            "type": "histogram"
           }
          ],
          "scattergl": [
           {
            "type": "scattergl",
            "marker": {
             "colorbar": {
              "outlinewidth": 0,
              "ticks": ""
             }
            }
           }
          ],
          "scatter3d": [
           {
            "type": "scatter3d",
            "line": {
             "colorbar": {
              "outlinewidth": 0,
              "ticks": ""
             }
            },
            "marker": {
             "colorbar": {
              "outlinewidth": 0,
              "ticks": ""
             }
            }
           }
          ],
          "scattermapbox": [
           {
            "type": "scattermapbox",
            "marker": {
             "colorbar": {
              "outlinewidth": 0,
              "ticks": ""
             }
            }
           }
          ],
          "scatterternary": [
           {
            "type": "scatterternary",
            "marker": {
             "colorbar": {
              "outlinewidth": 0,
              "ticks": ""
             }
            }
           }
          ],
          "scattercarpet": [
           {
            "type": "scattercarpet",
            "marker": {
             "colorbar": {
              "outlinewidth": 0,
              "ticks": ""
             }
            }
           }
          ],
          "carpet": [
           {
            "aaxis": {
             "endlinecolor": "#2a3f5f",
             "gridcolor": "white",
             "linecolor": "white",
             "minorgridcolor": "white",
             "startlinecolor": "#2a3f5f"
            },
            "baxis": {
             "endlinecolor": "#2a3f5f",
             "gridcolor": "white",
             "linecolor": "white",
             "minorgridcolor": "white",
             "startlinecolor": "#2a3f5f"
            },
            "type": "carpet"
           }
          ],
          "table": [
           {
            "cells": {
             "fill": {
              "color": "#EBF0F8"
             },
             "line": {
              "color": "white"
             }
            },
            "header": {
             "fill": {
              "color": "#C8D4E3"
             },
             "line": {
              "color": "white"
             }
            },
            "type": "table"
           }
          ],
          "barpolar": [
           {
            "marker": {
             "line": {
              "color": "#E5ECF6",
              "width": 0.5
             },
             "pattern": {
              "fillmode": "overlay",
              "size": 10,
              "solidity": 0.2
             }
            },
            "type": "barpolar"
           }
          ],
          "pie": [
           {
            "automargin": true,
            "type": "pie"
           }
          ]
         },
         "layout": {
          "autotypenumbers": "strict",
          "colorway": [
           "#636efa",
           "#EF553B",
           "#00cc96",
           "#ab63fa",
           "#FFA15A",
           "#19d3f3",
           "#FF6692",
           "#B6E880",
           "#FF97FF",
           "#FECB52"
          ],
          "font": {
           "color": "#2a3f5f"
          },
          "hovermode": "closest",
          "hoverlabel": {
           "align": "left"
          },
          "paper_bgcolor": "white",
          "plot_bgcolor": "#E5ECF6",
          "polar": {
           "bgcolor": "#E5ECF6",
           "angularaxis": {
            "gridcolor": "white",
            "linecolor": "white",
            "ticks": ""
           },
           "radialaxis": {
            "gridcolor": "white",
            "linecolor": "white",
            "ticks": ""
           }
          },
          "ternary": {
           "bgcolor": "#E5ECF6",
           "aaxis": {
            "gridcolor": "white",
            "linecolor": "white",
            "ticks": ""
           },
           "baxis": {
            "gridcolor": "white",
            "linecolor": "white",
            "ticks": ""
           },
           "caxis": {
            "gridcolor": "white",
            "linecolor": "white",
            "ticks": ""
           }
          },
          "coloraxis": {
           "colorbar": {
            "outlinewidth": 0,
            "ticks": ""
           }
          },
          "colorscale": {
           "sequential": [
            [
             0.0,
             "#0d0887"
            ],
            [
             0.1111111111111111,
             "#46039f"
            ],
            [
             0.2222222222222222,
             "#7201a8"
            ],
            [
             0.3333333333333333,
             "#9c179e"
            ],
            [
             0.4444444444444444,
             "#bd3786"
            ],
            [
             0.5555555555555556,
             "#d8576b"
            ],
            [
             0.6666666666666666,
             "#ed7953"
            ],
            [
             0.7777777777777778,
             "#fb9f3a"
            ],
            [
             0.8888888888888888,
             "#fdca26"
            ],
            [
             1.0,
             "#f0f921"
            ]
           ],
           "sequentialminus": [
            [
             0.0,
             "#0d0887"
            ],
            [
             0.1111111111111111,
             "#46039f"
            ],
            [
             0.2222222222222222,
             "#7201a8"
            ],
            [
             0.3333333333333333,
             "#9c179e"
            ],
            [
             0.4444444444444444,
             "#bd3786"
            ],
            [
             0.5555555555555556,
             "#d8576b"
            ],
            [
             0.6666666666666666,
             "#ed7953"
            ],
            [
             0.7777777777777778,
             "#fb9f3a"
            ],
            [
             0.8888888888888888,
             "#fdca26"
            ],
            [
             1.0,
             "#f0f921"
            ]
           ],
           "diverging": [
            [
             0,
             "#8e0152"
            ],
            [
             0.1,
             "#c51b7d"
            ],
            [
             0.2,
             "#de77ae"
            ],
            [
             0.3,
             "#f1b6da"
            ],
            [
             0.4,
             "#fde0ef"
            ],
            [
             0.5,
             "#f7f7f7"
            ],
            [
             0.6,
             "#e6f5d0"
            ],
            [
             0.7,
             "#b8e186"
            ],
            [
             0.8,
             "#7fbc41"
            ],
            [
             0.9,
             "#4d9221"
            ],
            [
             1,
             "#276419"
            ]
           ]
          },
          "xaxis": {
           "gridcolor": "white",
           "linecolor": "white",
           "ticks": "",
           "title": {
            "standoff": 15
           },
           "zerolinecolor": "white",
           "automargin": true,
           "zerolinewidth": 2
          },
          "yaxis": {
           "gridcolor": "white",
           "linecolor": "white",
           "ticks": "",
           "title": {
            "standoff": 15
           },
           "zerolinecolor": "white",
           "automargin": true,
           "zerolinewidth": 2
          },
          "scene": {
           "xaxis": {
            "backgroundcolor": "#E5ECF6",
            "gridcolor": "white",
            "linecolor": "white",
            "showbackground": true,
            "ticks": "",
            "zerolinecolor": "white",
            "gridwidth": 2
           },
           "yaxis": {
            "backgroundcolor": "#E5ECF6",
            "gridcolor": "white",
            "linecolor": "white",
            "showbackground": true,
            "ticks": "",
            "zerolinecolor": "white",
            "gridwidth": 2
           },
           "zaxis": {
            "backgroundcolor": "#E5ECF6",
            "gridcolor": "white",
            "linecolor": "white",
            "showbackground": true,
            "ticks": "",
            "zerolinecolor": "white",
            "gridwidth": 2
           }
          },
          "shapedefaults": {
           "line": {
            "color": "#2a3f5f"
           }
          },
          "annotationdefaults": {
           "arrowcolor": "#2a3f5f",
           "arrowhead": 0,
           "arrowwidth": 1
          },
          "geo": {
           "bgcolor": "white",
           "landcolor": "#E5ECF6",
           "subunitcolor": "white",
           "showland": true,
           "showlakes": true,
           "lakecolor": "white"
          },
          "title": {
           "x": 0.05
          },
          "mapbox": {
           "style": "light"
          }
         }
        },
        "xaxis": {
         "anchor": "y",
         "domain": [
          0.0,
          1.0
         ],
         "title": {
          "text": "Change in GDP/Capita"
         }
        },
        "yaxis": {
         "anchor": "x",
         "domain": [
          0.0,
          1.0
         ],
         "title": {
          "text": "Change in Life Expectancy"
         }
        },
        "legend": {
         "tracegroupgap": 0
        },
        "title": {
         "text": "Log-transformed fit on linear axes"
        }
       },
       "config": {
        "plotlyServerURL": "https://plot.ly"
       }
      },
      "text/html": "<div>                            <div id=\"4bc7e2e7-2d13-489f-86ea-79c396f00d53\" class=\"plotly-graph-div\" style=\"height:525px; width:100%;\"></div>            <script type=\"text/javascript\">                require([\"plotly\"], function(Plotly) {                    window.PLOTLYENV=window.PLOTLYENV || {};                                    if (document.getElementById(\"4bc7e2e7-2d13-489f-86ea-79c396f00d53\")) {                    Plotly.newPlot(                        \"4bc7e2e7-2d13-489f-86ea-79c396f00d53\",                        [{\"hovertemplate\":\"Change in GDP/Capita=%{x}<br>Change in Life Expectancy=%{y}<extra></extra>\",\"legendgroup\":\"\",\"marker\":{\"color\":\"#636efa\",\"symbol\":\"circle\"},\"mode\":\"markers\",\"name\":\"\",\"orientation\":\"v\",\"showlegend\":false,\"x\":[49909.860511,47873.766453100005,145.46651705,44244.103271,1147.91346332,764.16114699,2148.4801901799997,4959.7539805999995,105889.484281,2967.9689,6561.490396499999,5803.90438265,368.69915611,40999.013359000004,12589.6583922,10319.14921849,2140.8416633,1419.1123648,5050.2523807,11755.9080944,6964.0394081,3098.2214428,5197.084408199999,26563.2831867,47991.399139,4584.582549199999,37721.401357,6404.4973301,38920.962767,2000.4838106,17138.6245557,4351.8205078,6565.4900382000005,2192.6420546000004,1213.11328164,1827.3863711800002,84734.5761476,57785.195671,31106.5431667,4471.6204705,39442.848484400005,1834.3447214,3751.0618931,942.9814516499999,115128.48108299999,3085.5223542,329.73393969999995,8295.4556223,583.69724624,9916.1706227,436.2914109999999,1981.2187108300002,1738.0287027000002,51093.785532999995,65887.92213,1089.1964371499998,1240.7280887,12092.5501178,5803.5071231,2960.5856891000003,2329.9863444000002,30676.3925269,21881.9071215,734.57006699,491.9615326,1183.5614936,60301.39137,353.5543555,4425.2535632,50723.901007,3271.244728,12520.929628,540.2347393,823.8443915099999,6887.134673799999,13239.4129928,791.23786418,15128.329167,60523.510035,10422.44366,5212.081206,728.2639654000001,1096.0533107],\"xaxis\":\"x\",\"y\":[13.399999999999991,12.799999999999997,18.6,11.200000000000003,21.9,23.800000000000004,27.299999999999997,14.700000000000003,13.899999999999991,21.4,21.299999999999997,15.199999999999996,15.399999999999999,11.0,22.400000000000006,44.8,20.9,26.0,17.699999999999996,18.9,22.60000000000001,34.0,18.800000000000004,13.099999999999994,12.900000000000006,10.300000000000004,11.799999999999997,19.9,9.400000000000006,16.999999999999993,11.5,26.0,10.5,23.200000000000003,20.599999999999994,24.89999999999999,12.299999999999997,8.799999999999997,13.200000000000003,7.900000000000006,17.0,14.0,15.700000000000003,4.300000000000004,12.800000000000011,31.900000000000006,22.0,15.099999999999994,28.5,19.400000000000006,25.1,15.5,25.699999999999996,8.199999999999989,9.600000000000009,30.6,21.4,16.0,23.200000000000003,12.899999999999991,20.099999999999994,9.099999999999994,16.89999999999999,19.599999999999994,18.999999999999993,28.1,18.10000000000001,25.799999999999997,15.499999999999993,9.400000000000006,13.900000000000006,19.0,14.399999999999999,18.299999999999997,28.299999999999997,11.400000000000006,17.4,10.600000000000009,7.6000000000000085,24.299999999999997,12.599999999999994,13.399999999999999,7.899999999999999],\"yaxis\":\"y\",\"type\":\"scatter\"},{\"hovertemplate\":\"<b>OLS trendline</b><br>Change in Life Expectancy = -4.17329 * log10(Change in GDP/Capita) + 33.2895<br>R<sup>2</sup>=0.176039<br><br>Change in GDP/Capita=%{x}<br>Change in Life Expectancy=%{y} <b>(trend)</b><extra></extra>\",\"legendgroup\":\"\",\"marker\":{\"color\":\"#636efa\",\"symbol\":\"circle\"},\"mode\":\"lines\",\"name\":\"\",\"showlegend\":false,\"x\":[145.46651705,329.73393969999995,353.5543555,368.69915611,436.2914109999999,491.9615326,540.2347393,583.69724624,728.2639654000001,734.57006699,764.16114699,791.23786418,823.8443915099999,942.9814516499999,1089.1964371499998,1096.0533107,1147.91346332,1183.5614936,1213.11328164,1240.7280887,1419.1123648,1738.0287027000002,1827.3863711800002,1834.3447214,1981.2187108300002,2000.4838106,2140.8416633,2148.4801901799997,2192.6420546000004,2329.9863444000002,2960.5856891000003,2967.9689,3085.5223542,3098.2214428,3271.244728,3751.0618931,4351.8205078,4425.2535632,4471.6204705,4584.582549199999,4959.7539805999995,5050.2523807,5197.084408199999,5212.081206,5803.5071231,5803.90438265,6404.4973301,6561.490396499999,6565.4900382000005,6887.134673799999,6964.0394081,8295.4556223,9916.1706227,10319.14921849,10422.44366,11755.9080944,12092.5501178,12520.929628,12589.6583922,13239.4129928,15128.329167,17138.6245557,21881.9071215,26563.2831867,30676.3925269,31106.5431667,37721.401357,38920.962767,39442.848484400005,40999.013359000004,44244.103271,47873.766453100005,47991.399139,49909.860511,50723.901007,51093.785532999995,57785.195671,60301.39137,60523.510035,65887.92213,84734.5761476,105889.484281,115128.48108299999],\"xaxis\":\"x\",\"y\":[24.263692966795045,22.780502050801477,22.65408240220659,22.57806189629155,22.27297530864755,22.055319367388748,21.885669319637746,21.745425234521548,21.344366855663335,21.328740352964992,21.25716117601228,21.19405218159591,21.120860435090588,20.876063572397076,20.614802647060024,20.603428477957166,20.5196393055241,20.46421097175135,20.419512789409687,20.378717778124443,20.13524715031969,19.76782975759599,19.676962822308443,19.670074498536916,19.530471724222856,19.512932958176698,19.390031534170284,19.383576260946242,19.346699432728993,19.236584439594278,18.802460714566536,18.797946420260462,18.727545672928166,18.720101527143655,18.621609388100993,18.373543861984178,18.104296578490374,18.073968481354093,18.055076921738326,18.009859869739945,17.867298768386515,17.83452611728003,17.782582438482496,17.777359966584804,17.582553364802354,17.58242930469324,17.403959260311723,17.360066864761496,17.358962406121915,17.272277146081603,17.252150836675852,16.935068099225365,16.611622249159765,16.539424688884637,16.52137242678908,16.30316501153383,16.251993285888563,16.18889860863932,16.178977140768087,16.087770722782736,15.846044256899171,15.619914372134271,15.177089558697293,14.825712544844059,14.564787685425165,14.539549841879921,14.190094690376043,14.133355615107973,14.109214380526607,14.039081629762954,13.901020781849708,13.758118047338902,13.753670090153818,13.682628353114128,13.653305584691632,13.640137032106136,13.417080744825155,13.339829981478347,13.333166176355391,13.17924801215721,12.723295502234148,12.319353400349463,12.167737905092325],\"yaxis\":\"y\",\"type\":\"scatter\"}],                        {\"template\":{\"data\":{\"histogram2dcontour\":[{\"type\":\"histogram2dcontour\",\"colorbar\":{\"outlinewidth\":0,\"ticks\":\"\"},\"colorscale\":[[0.0,\"#0d0887\"],[0.1111111111111111,\"#46039f\"],[0.2222222222222222,\"#7201a8\"],[0.3333333333333333,\"#9c179e\"],[0.4444444444444444,\"#bd3786\"],[0.5555555555555556,\"#d8576b\"],[0.6666666666666666,\"#ed7953\"],[0.7777777777777778,\"#fb9f3a\"],[0.8888888888888888,\"#fdca26\"],[1.0,\"#f0f921\"]]}],\"choropleth\":[{\"type\":\"choropleth\",\"colorbar\":{\"outlinewidth\":0,\"ticks\":\"\"}}],\"histogram2d\":[{\"type\":\"histogram2d\",\"colorbar\":{\"outlinewidth\":0,\"ticks\":\"\"},\"colorscale\":[[0.0,\"#0d0887\"],[0.1111111111111111,\"#46039f\"],[0.2222222222222222,\"#7201a8\"],[0.3333333333333333,\"#9c179e\"],[0.4444444444444444,\"#bd3786\"],[0.5555555555555556,\"#d8576b\"],[0.6666666666666666,\"#ed7953\"],[0.7777777777777778,\"#fb9f3a\"],[0.8888888888888888,\"#fdca26\"],[1.0,\"#f0f921\"]]}],\"heatmap\":[{\"type\":\"heatmap\",\"colorbar\":{\"outlinewidth\":0,\"ticks\":\"\"},\"colorscale\":[[0.0,\"#0d0887\"],[0.1111111111111111,\"#46039f\"],[0.2222222222222222,\"#7201a8\"],[0.3333333333333333,\"#9c179e\"],[0.4444444444444444,\"#bd3786\"],[0.5555555555555556,\"#d8576b\"],[0.6666666666666666,\"#ed7953\"],[0.7777777777777778,\"#fb9f3a\"],[0.8888888888888888,\"#fdca26\"],[1.0,\"#f0f921\"]]}],\"heatmapgl\":[{\"type\":\"heatmapgl\",\"colorbar\":{\"outlinewidth\":0,\"ticks\":\"\"},\"colorscale\":[[0.0,\"#0d0887\"],[0.1111111111111111,\"#46039f\"],[0.2222222222222222,\"#7201a8\"],[0.3333333333333333,\"#9c179e\"],[0.4444444444444444,\"#bd3786\"],[0.5555555555555556,\"#d8576b\"],[0.6666666666666666,\"#ed7953\"],[0.7777777777777778,\"#fb9f3a\"],[0.8888888888888888,\"#fdca26\"],[1.0,\"#f0f921\"]]}],\"contourcarpet\":[{\"type\":\"contourcarpet\",\"colorbar\":{\"outlinewidth\":0,\"ticks\":\"\"}}],\"contour\":[{\"type\":\"contour\",\"colorbar\":{\"outlinewidth\":0,\"ticks\":\"\"},\"colorscale\":[[0.0,\"#0d0887\"],[0.1111111111111111,\"#46039f\"],[0.2222222222222222,\"#7201a8\"],[0.3333333333333333,\"#9c179e\"],[0.4444444444444444,\"#bd3786\"],[0.5555555555555556,\"#d8576b\"],[0.6666666666666666,\"#ed7953\"],[0.7777777777777778,\"#fb9f3a\"],[0.8888888888888888,\"#fdca26\"],[1.0,\"#f0f921\"]]}],\"surface\":[{\"type\":\"surface\",\"colorbar\":{\"outlinewidth\":0,\"ticks\":\"\"},\"colorscale\":[[0.0,\"#0d0887\"],[0.1111111111111111,\"#46039f\"],[0.2222222222222222,\"#7201a8\"],[0.3333333333333333,\"#9c179e\"],[0.4444444444444444,\"#bd3786\"],[0.5555555555555556,\"#d8576b\"],[0.6666666666666666,\"#ed7953\"],[0.7777777777777778,\"#fb9f3a\"],[0.8888888888888888,\"#fdca26\"],[1.0,\"#f0f921\"]]}],\"mesh3d\":[{\"type\":\"mesh3d\",\"colorbar\":{\"outlinewidth\":0,\"ticks\":\"\"}}],\"scatter\":[{\"fillpattern\":{\"fillmode\":\"overlay\",\"size\":10,\"solidity\":0.2},\"type\":\"scatter\"}],\"parcoords\":[{\"type\":\"parcoords\",\"line\":{\"colorbar\":{\"outlinewidth\":0,\"ticks\":\"\"}}}],\"scatterpolargl\":[{\"type\":\"scatterpolargl\",\"marker\":{\"colorbar\":{\"outlinewidth\":0,\"ticks\":\"\"}}}],\"bar\":[{\"error_x\":{\"color\":\"#2a3f5f\"},\"error_y\":{\"color\":\"#2a3f5f\"},\"marker\":{\"line\":{\"color\":\"#E5ECF6\",\"width\":0.5},\"pattern\":{\"fillmode\":\"overlay\",\"size\":10,\"solidity\":0.2}},\"type\":\"bar\"}],\"scattergeo\":[{\"type\":\"scattergeo\",\"marker\":{\"colorbar\":{\"outlinewidth\":0,\"ticks\":\"\"}}}],\"scatterpolar\":[{\"type\":\"scatterpolar\",\"marker\":{\"colorbar\":{\"outlinewidth\":0,\"ticks\":\"\"}}}],\"histogram\":[{\"marker\":{\"pattern\":{\"fillmode\":\"overlay\",\"size\":10,\"solidity\":0.2}},\"type\":\"histogram\"}],\"scattergl\":[{\"type\":\"scattergl\",\"marker\":{\"colorbar\":{\"outlinewidth\":0,\"ticks\":\"\"}}}],\"scatter3d\":[{\"type\":\"scatter3d\",\"line\":{\"colorbar\":{\"outlinewidth\":0,\"ticks\":\"\"}},\"marker\":{\"colorbar\":{\"outlinewidth\":0,\"ticks\":\"\"}}}],\"scattermapbox\":[{\"type\":\"scattermapbox\",\"marker\":{\"colorbar\":{\"outlinewidth\":0,\"ticks\":\"\"}}}],\"scatterternary\":[{\"type\":\"scatterternary\",\"marker\":{\"colorbar\":{\"outlinewidth\":0,\"ticks\":\"\"}}}],\"scattercarpet\":[{\"type\":\"scattercarpet\",\"marker\":{\"colorbar\":{\"outlinewidth\":0,\"ticks\":\"\"}}}],\"carpet\":[{\"aaxis\":{\"endlinecolor\":\"#2a3f5f\",\"gridcolor\":\"white\",\"linecolor\":\"white\",\"minorgridcolor\":\"white\",\"startlinecolor\":\"#2a3f5f\"},\"baxis\":{\"endlinecolor\":\"#2a3f5f\",\"gridcolor\":\"white\",\"linecolor\":\"white\",\"minorgridcolor\":\"white\",\"startlinecolor\":\"#2a3f5f\"},\"type\":\"carpet\"}],\"table\":[{\"cells\":{\"fill\":{\"color\":\"#EBF0F8\"},\"line\":{\"color\":\"white\"}},\"header\":{\"fill\":{\"color\":\"#C8D4E3\"},\"line\":{\"color\":\"white\"}},\"type\":\"table\"}],\"barpolar\":[{\"marker\":{\"line\":{\"color\":\"#E5ECF6\",\"width\":0.5},\"pattern\":{\"fillmode\":\"overlay\",\"size\":10,\"solidity\":0.2}},\"type\":\"barpolar\"}],\"pie\":[{\"automargin\":true,\"type\":\"pie\"}]},\"layout\":{\"autotypenumbers\":\"strict\",\"colorway\":[\"#636efa\",\"#EF553B\",\"#00cc96\",\"#ab63fa\",\"#FFA15A\",\"#19d3f3\",\"#FF6692\",\"#B6E880\",\"#FF97FF\",\"#FECB52\"],\"font\":{\"color\":\"#2a3f5f\"},\"hovermode\":\"closest\",\"hoverlabel\":{\"align\":\"left\"},\"paper_bgcolor\":\"white\",\"plot_bgcolor\":\"#E5ECF6\",\"polar\":{\"bgcolor\":\"#E5ECF6\",\"angularaxis\":{\"gridcolor\":\"white\",\"linecolor\":\"white\",\"ticks\":\"\"},\"radialaxis\":{\"gridcolor\":\"white\",\"linecolor\":\"white\",\"ticks\":\"\"}},\"ternary\":{\"bgcolor\":\"#E5ECF6\",\"aaxis\":{\"gridcolor\":\"white\",\"linecolor\":\"white\",\"ticks\":\"\"},\"baxis\":{\"gridcolor\":\"white\",\"linecolor\":\"white\",\"ticks\":\"\"},\"caxis\":{\"gridcolor\":\"white\",\"linecolor\":\"white\",\"ticks\":\"\"}},\"coloraxis\":{\"colorbar\":{\"outlinewidth\":0,\"ticks\":\"\"}},\"colorscale\":{\"sequential\":[[0.0,\"#0d0887\"],[0.1111111111111111,\"#46039f\"],[0.2222222222222222,\"#7201a8\"],[0.3333333333333333,\"#9c179e\"],[0.4444444444444444,\"#bd3786\"],[0.5555555555555556,\"#d8576b\"],[0.6666666666666666,\"#ed7953\"],[0.7777777777777778,\"#fb9f3a\"],[0.8888888888888888,\"#fdca26\"],[1.0,\"#f0f921\"]],\"sequentialminus\":[[0.0,\"#0d0887\"],[0.1111111111111111,\"#46039f\"],[0.2222222222222222,\"#7201a8\"],[0.3333333333333333,\"#9c179e\"],[0.4444444444444444,\"#bd3786\"],[0.5555555555555556,\"#d8576b\"],[0.6666666666666666,\"#ed7953\"],[0.7777777777777778,\"#fb9f3a\"],[0.8888888888888888,\"#fdca26\"],[1.0,\"#f0f921\"]],\"diverging\":[[0,\"#8e0152\"],[0.1,\"#c51b7d\"],[0.2,\"#de77ae\"],[0.3,\"#f1b6da\"],[0.4,\"#fde0ef\"],[0.5,\"#f7f7f7\"],[0.6,\"#e6f5d0\"],[0.7,\"#b8e186\"],[0.8,\"#7fbc41\"],[0.9,\"#4d9221\"],[1,\"#276419\"]]},\"xaxis\":{\"gridcolor\":\"white\",\"linecolor\":\"white\",\"ticks\":\"\",\"title\":{\"standoff\":15},\"zerolinecolor\":\"white\",\"automargin\":true,\"zerolinewidth\":2},\"yaxis\":{\"gridcolor\":\"white\",\"linecolor\":\"white\",\"ticks\":\"\",\"title\":{\"standoff\":15},\"zerolinecolor\":\"white\",\"automargin\":true,\"zerolinewidth\":2},\"scene\":{\"xaxis\":{\"backgroundcolor\":\"#E5ECF6\",\"gridcolor\":\"white\",\"linecolor\":\"white\",\"showbackground\":true,\"ticks\":\"\",\"zerolinecolor\":\"white\",\"gridwidth\":2},\"yaxis\":{\"backgroundcolor\":\"#E5ECF6\",\"gridcolor\":\"white\",\"linecolor\":\"white\",\"showbackground\":true,\"ticks\":\"\",\"zerolinecolor\":\"white\",\"gridwidth\":2},\"zaxis\":{\"backgroundcolor\":\"#E5ECF6\",\"gridcolor\":\"white\",\"linecolor\":\"white\",\"showbackground\":true,\"ticks\":\"\",\"zerolinecolor\":\"white\",\"gridwidth\":2}},\"shapedefaults\":{\"line\":{\"color\":\"#2a3f5f\"}},\"annotationdefaults\":{\"arrowcolor\":\"#2a3f5f\",\"arrowhead\":0,\"arrowwidth\":1},\"geo\":{\"bgcolor\":\"white\",\"landcolor\":\"#E5ECF6\",\"subunitcolor\":\"white\",\"showland\":true,\"showlakes\":true,\"lakecolor\":\"white\"},\"title\":{\"x\":0.05},\"mapbox\":{\"style\":\"light\"}}},\"xaxis\":{\"anchor\":\"y\",\"domain\":[0.0,1.0],\"title\":{\"text\":\"Change in GDP/Capita\"}},\"yaxis\":{\"anchor\":\"x\",\"domain\":[0.0,1.0],\"title\":{\"text\":\"Change in Life Expectancy\"}},\"legend\":{\"tracegroupgap\":0},\"title\":{\"text\":\"Log-transformed fit on linear axes\"}},                        {\"responsive\": true}                    ).then(function(){\n                            \nvar gd = document.getElementById('4bc7e2e7-2d13-489f-86ea-79c396f00d53');\nvar x = new MutationObserver(function (mutations, observer) {{\n        var display = window.getComputedStyle(gd).display;\n        if (!display || display === 'none') {{\n            console.log([gd, 'removed!']);\n            Plotly.purge(gd);\n            observer.disconnect();\n        }}\n}});\n\n// Listen for the removal of the full notebook cells\nvar notebookContainer = gd.closest('#notebook-container');\nif (notebookContainer) {{\n    x.observe(notebookContainer, {childList: true});\n}}\n\n// Listen for the clearing of the current output cell\nvar outputEl = gd.closest('.output');\nif (outputEl) {{\n    x.observe(outputEl, {childList: true});\n}}\n\n                        })                };                });            </script>        </div>"
     },
     "metadata": {},
     "output_type": "display_data"
    }
   ],
   "source": [
    "import plotly.express as px\n",
    "\n",
    "fig = px.scatter(df_diff, y=\"Change in Life Expectancy\", x=\"Change in GDP/Capita\",\n",
    "                 trendline=\"ols\", trendline_options=dict(log_x=True),\n",
    "                 # text = df_diff.index,\n",
    "                 title=\"Log-transformed fit on linear axes\")\n",
    "\n",
    "fig.show()"
   ],
   "metadata": {
    "collapsed": false,
    "pycharm": {
     "name": "#%%\n"
    }
   }
  },
  {
   "cell_type": "markdown",
   "source": [
    "#### 3. Does the relationship observed between LE and GDP still hold true in latest data?\n",
    "                                Yes.\n",
    "#### 4. Why do you think disparity in health (LE) exists across countries with same level of GDP per-capita?\n",
    "Relative income hypothesis, people compare within their groups, countries may be present in different groups for reference. Other factors may also affect health outside of wealth of country"
   ],
   "metadata": {
    "collapsed": false,
    "pycharm": {
     "name": "#%% md\n"
    }
   }
  },
  {
   "cell_type": "markdown",
   "source": [
    "### Question 2"
   ],
   "metadata": {
    "collapsed": false,
    "pycharm": {
     "name": "#%% md\n"
    }
   }
  },
  {
   "cell_type": "code",
   "execution_count": 112,
   "outputs": [
    {
     "name": "stderr",
     "output_type": "stream",
     "text": [
      "/var/folders/t6/2vvjnfk10mx932fmzp_hb4wr0000gn/T/ipykernel_6747/1901099973.py:2: FutureWarning:\n",
      "\n",
      "The default value of numeric_only in DataFrameGroupBy.mean is deprecated. In a future version, numeric_only will default to False. Either specify numeric_only or select only columns which should be valid for the function.\n",
      "\n"
     ]
    },
    {
     "data": {
      "text/plain": "                  physical_activity  fruit_intake  vegetable_intake  \\\nedu_level                                                             \nOverall                   12.700000     34.100000         45.966667   \nSecondary 1 To 2          13.766667     37.066667         45.233333   \nSecondary 3 To 4          11.600000     31.233333         46.633333   \n\n                  fruit_and_vege_intake  sweetened_drinks_intake  \\\nedu_level                                                          \nOverall                       21.766667                73.266667   \nSecondary 1 To 2              23.166667                75.500000   \nSecondary 3 To 4              20.400000                71.133333   \n\n                  deep_fried_food_intake   salt_use   smoking  \nedu_level                                                      \nOverall                        47.600000  15.300000  7.000000  \nSecondary 1 To 2               49.933333  15.433333  4.933333  \nSecondary 3 To 4               45.400000  15.166667  9.000000  ",
      "text/html": "<div>\n<style scoped>\n    .dataframe tbody tr th:only-of-type {\n        vertical-align: middle;\n    }\n\n    .dataframe tbody tr th {\n        vertical-align: top;\n    }\n\n    .dataframe thead th {\n        text-align: right;\n    }\n</style>\n<table border=\"1\" class=\"dataframe\">\n  <thead>\n    <tr style=\"text-align: right;\">\n      <th></th>\n      <th>physical_activity</th>\n      <th>fruit_intake</th>\n      <th>vegetable_intake</th>\n      <th>fruit_and_vege_intake</th>\n      <th>sweetened_drinks_intake</th>\n      <th>deep_fried_food_intake</th>\n      <th>salt_use</th>\n      <th>smoking</th>\n    </tr>\n    <tr>\n      <th>edu_level</th>\n      <th></th>\n      <th></th>\n      <th></th>\n      <th></th>\n      <th></th>\n      <th></th>\n      <th></th>\n      <th></th>\n    </tr>\n  </thead>\n  <tbody>\n    <tr>\n      <th>Overall</th>\n      <td>12.700000</td>\n      <td>34.100000</td>\n      <td>45.966667</td>\n      <td>21.766667</td>\n      <td>73.266667</td>\n      <td>47.600000</td>\n      <td>15.300000</td>\n      <td>7.000000</td>\n    </tr>\n    <tr>\n      <th>Secondary 1 To 2</th>\n      <td>13.766667</td>\n      <td>37.066667</td>\n      <td>45.233333</td>\n      <td>23.166667</td>\n      <td>75.500000</td>\n      <td>49.933333</td>\n      <td>15.433333</td>\n      <td>4.933333</td>\n    </tr>\n    <tr>\n      <th>Secondary 3 To 4</th>\n      <td>11.600000</td>\n      <td>31.233333</td>\n      <td>46.633333</td>\n      <td>20.400000</td>\n      <td>71.133333</td>\n      <td>45.400000</td>\n      <td>15.166667</td>\n      <td>9.000000</td>\n    </tr>\n  </tbody>\n</table>\n</div>"
     },
     "execution_count": 112,
     "metadata": {},
     "output_type": "execute_result"
    }
   ],
   "source": [
    "student_df_education = pd.read_csv('students-health-survey/health-behaviours-among-secondary-school-students-by-educational-level.csv')\n",
    "student_df_education.groupby('edu_level').mean().drop(['year'], axis=1)"
   ],
   "metadata": {
    "collapsed": false,
    "pycharm": {
     "name": "#%%\n"
    }
   }
  },
  {
   "cell_type": "markdown",
   "source": [
    "education leads to a decrease in sweetened drink intake and deep fried food intake but high smoking and less physical activity"
   ],
   "metadata": {
    "collapsed": false,
    "pycharm": {
     "name": "#%% md\n"
    }
   }
  },
  {
   "cell_type": "code",
   "execution_count": 119,
   "outputs": [
    {
     "name": "stderr",
     "output_type": "stream",
     "text": [
      "/var/folders/t6/2vvjnfk10mx932fmzp_hb4wr0000gn/T/ipykernel_6747/1935333129.py:2: FutureWarning:\n",
      "\n",
      "The default value of numeric_only in DataFrameGroupBy.mean is deprecated. In a future version, numeric_only will default to False. Either specify numeric_only or select only columns which should be valid for the function.\n",
      "\n"
     ]
    },
    {
     "data": {
      "text/plain": "         physical_activity  fruit_intake  vegetable_intake  \\\ngender                                                       \nFemale            7.766667     33.133333         44.400000   \nMale             17.066667     34.933333         47.400000   \nOverall          12.700000     34.100000         45.966667   \n\n         fruit_and_vege_intake  sweetened_drinks_intake  \\\ngender                                                    \nFemale               20.600000                75.633333   \nMale                 22.833333                71.066667   \nOverall              21.766667                73.266667   \n\n         deep_fried_food_intake   salt_use   smoking  \ngender                                                \nFemale                52.033333  13.533333  4.766667  \nMale                  43.700000  16.933333  9.066667  \nOverall               47.600000  15.300000  7.000000  ",
      "text/html": "<div>\n<style scoped>\n    .dataframe tbody tr th:only-of-type {\n        vertical-align: middle;\n    }\n\n    .dataframe tbody tr th {\n        vertical-align: top;\n    }\n\n    .dataframe thead th {\n        text-align: right;\n    }\n</style>\n<table border=\"1\" class=\"dataframe\">\n  <thead>\n    <tr style=\"text-align: right;\">\n      <th></th>\n      <th>physical_activity</th>\n      <th>fruit_intake</th>\n      <th>vegetable_intake</th>\n      <th>fruit_and_vege_intake</th>\n      <th>sweetened_drinks_intake</th>\n      <th>deep_fried_food_intake</th>\n      <th>salt_use</th>\n      <th>smoking</th>\n    </tr>\n    <tr>\n      <th>gender</th>\n      <th></th>\n      <th></th>\n      <th></th>\n      <th></th>\n      <th></th>\n      <th></th>\n      <th></th>\n      <th></th>\n    </tr>\n  </thead>\n  <tbody>\n    <tr>\n      <th>Female</th>\n      <td>7.766667</td>\n      <td>33.133333</td>\n      <td>44.400000</td>\n      <td>20.600000</td>\n      <td>75.633333</td>\n      <td>52.033333</td>\n      <td>13.533333</td>\n      <td>4.766667</td>\n    </tr>\n    <tr>\n      <th>Male</th>\n      <td>17.066667</td>\n      <td>34.933333</td>\n      <td>47.400000</td>\n      <td>22.833333</td>\n      <td>71.066667</td>\n      <td>43.700000</td>\n      <td>16.933333</td>\n      <td>9.066667</td>\n    </tr>\n    <tr>\n      <th>Overall</th>\n      <td>12.700000</td>\n      <td>34.100000</td>\n      <td>45.966667</td>\n      <td>21.766667</td>\n      <td>73.266667</td>\n      <td>47.600000</td>\n      <td>15.300000</td>\n      <td>7.000000</td>\n    </tr>\n  </tbody>\n</table>\n</div>"
     },
     "execution_count": 119,
     "metadata": {},
     "output_type": "execute_result"
    }
   ],
   "source": [
    "student_df_gender = pd.read_csv('students-health-survey/health-behaviours-among-secondary-school-students-by-gender.csv')\n",
    "student_df_gender.groupby('gender').mean().drop(['year'], axis=1)"
   ],
   "metadata": {
    "collapsed": false,
    "pycharm": {
     "name": "#%%\n"
    }
   }
  },
  {
   "cell_type": "markdown",
   "source": [
    "males have more physical activity and drink less sugar than females but females have less salt and smoke less"
   ],
   "metadata": {
    "collapsed": false,
    "pycharm": {
     "name": "#%% md\n"
    }
   }
  },
  {
   "cell_type": "markdown",
   "source": [
    "looking at 1c, we see that females are generally more obese than males. and higher levels of education seem to lead to higher people with obesity. The latter statement is in contrast to the Grossman model along with the findings in 1a"
   ],
   "metadata": {
    "collapsed": false,
    "pycharm": {
     "name": "#%% md\n"
    }
   }
  },
  {
   "cell_type": "markdown",
   "source": [
    "### Question 3\n",
    "#### 1. Why do you agree with Grossman model (maximum 2 arguments/points)\n",
    "\n",
    "time is finite, marginal benefits of health improvement make sense.\n",
    "Education levels above a certain level do lead to a increase in overall health\n",
    "accounts for the different types of indirect and direct effects of increase of health\n",
    "#### 2. Why do you dis-agree with the Grossman model / What would be your critique of the Grossman model (maximum 5 arguments /points)\n",
    "\\idk\n"
   ],
   "metadata": {
    "collapsed": false,
    "pycharm": {
     "name": "#%% md\n"
    }
   }
  },
  {
   "cell_type": "code",
   "execution_count": null,
   "outputs": [],
   "source": [],
   "metadata": {
    "collapsed": false,
    "pycharm": {
     "name": "#%%\n"
    }
   }
  }
 ],
 "metadata": {
  "kernelspec": {
   "display_name": "Python 3",
   "language": "python",
   "name": "python3"
  },
  "language_info": {
   "codemirror_mode": {
    "name": "ipython",
    "version": 2
   },
   "file_extension": ".py",
   "mimetype": "text/x-python",
   "name": "python",
   "nbconvert_exporter": "python",
   "pygments_lexer": "ipython2",
   "version": "2.7.6"
  }
 },
 "nbformat": 4,
 "nbformat_minor": 0
}